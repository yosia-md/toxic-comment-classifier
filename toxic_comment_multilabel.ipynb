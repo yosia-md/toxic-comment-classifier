{
  "cells": [
    {
      "cell_type": "code",
      "execution_count": null,
      "metadata": {
        "id": "ca532003"
      },
      "outputs": [],
      "source": [
        "import sys, os, re, csv, codecs, numpy as np, pandas as pd\n",
        "import matplotlib.pyplot as plt\n",
        "%matplotlib inline\n",
        "from keras.preprocessing.text import Tokenizer\n",
        "from tensorflow.keras.preprocessing.sequence import pad_sequences\n",
        "from keras.layers import Dense, Input, LSTM, GRU, Embedding, Dropout, Activation\n",
        "from keras.layers import Bidirectional, GlobalMaxPool1D\n",
        "from keras.models import Model\n",
        "from keras import initializers, regularizers, constraints, optimizers, layers\n",
        "import warnings\n",
        "warnings.filterwarnings(\"ignore\")"
      ],
      "id": "ca532003"
    },
    {
      "cell_type": "code",
      "execution_count": null,
      "metadata": {
        "colab": {
          "base_uri": "https://localhost:8080/"
        },
        "id": "bXel3Y7Ksq2m",
        "outputId": "f6357c36-e9b0-4d9e-9d27-239d1d1b35cd"
      },
      "outputs": [
        {
          "output_type": "stream",
          "name": "stdout",
          "text": [
            "Drive already mounted at /content/drive; to attempt to forcibly remount, call drive.mount(\"/content/drive\", force_remount=True).\n"
          ]
        }
      ],
      "source": [
        "from google.colab import drive\n",
        "drive.mount('/content/drive')"
      ],
      "id": "bXel3Y7Ksq2m"
    },
    {
      "cell_type": "code",
      "source": [
        "!pip install session-info"
      ],
      "metadata": {
        "colab": {
          "base_uri": "https://localhost:8080/"
        },
        "id": "949wjxAomhfG",
        "outputId": "cca35af5-87b3-4c74-ebf1-e182b47f37cb"
      },
      "id": "949wjxAomhfG",
      "execution_count": null,
      "outputs": [
        {
          "output_type": "stream",
          "name": "stdout",
          "text": [
            "Looking in indexes: https://pypi.org/simple, https://us-python.pkg.dev/colab-wheels/public/simple/\n",
            "Collecting session-info\n",
            "  Downloading session_info-1.0.0.tar.gz (24 kB)\n",
            "  Preparing metadata (setup.py) ... \u001b[?25l\u001b[?25hdone\n",
            "Collecting stdlib_list (from session-info)\n",
            "  Downloading stdlib_list-0.8.0-py3-none-any.whl (63 kB)\n",
            "\u001b[2K     \u001b[90m━━━━━━━━━━━━━━━━━━━━━━━━━━━━━━━━━━━━━━━━\u001b[0m \u001b[32m63.5/63.5 kB\u001b[0m \u001b[31m5.5 MB/s\u001b[0m eta \u001b[36m0:00:00\u001b[0m\n",
            "\u001b[?25hBuilding wheels for collected packages: session-info\n",
            "  Building wheel for session-info (setup.py) ... \u001b[?25l\u001b[?25hdone\n",
            "  Created wheel for session-info: filename=session_info-1.0.0-py3-none-any.whl size=8026 sha256=ac6eba08fc4969b4fd7bb3e928b993a8de6f3b2935818ddb681581624f391a57\n",
            "  Stored in directory: /root/.cache/pip/wheels/6a/aa/b9/eb5d4031476ec10802795b97ccf937b9bd998d68a9b268765a\n",
            "Successfully built session-info\n",
            "Installing collected packages: stdlib_list, session-info\n",
            "Successfully installed session-info-1.0.0 stdlib_list-0.8.0\n"
          ]
        }
      ]
    },
    {
      "cell_type": "code",
      "source": [
        "from tensorflow import keras\n",
        "import tensorflow as tf"
      ],
      "metadata": {
        "id": "3eN_OaoPr_vf"
      },
      "id": "3eN_OaoPr_vf",
      "execution_count": null,
      "outputs": []
    },
    {
      "cell_type": "code",
      "source": [
        "import session_info\n",
        "session_info.show()"
      ],
      "metadata": {
        "colab": {
          "base_uri": "https://localhost:8080/",
          "height": 34
        },
        "id": "J5Ba1lp6miM2",
        "outputId": "f7ab1516-780c-4b63-f2b0-68d0e3782d03"
      },
      "id": "J5Ba1lp6miM2",
      "execution_count": null,
      "outputs": [
        {
          "output_type": "execute_result",
          "data": {
            "text/plain": [
              "<IPython.core.display.HTML object>"
            ],
            "text/html": [
              "<details>\n",
              "<summary>Click to view session information</summary>\n",
              "<pre>\n",
              "-----\n",
              "flask               2.2.4\n",
              "google              NA\n",
              "keras               2.12.0\n",
              "matplotlib          3.7.1\n",
              "numpy               1.22.4\n",
              "pandas              1.5.3\n",
              "session_info        1.0.0\n",
              "tensorflow          2.12.0\n",
              "-----\n",
              "</pre>\n",
              "<details>\n",
              "<summary>Click to view modules imported as dependencies</summary>\n",
              "<pre>\n",
              "PIL                                         8.4.0\n",
              "aa8f2297d25b4dc6fd3d98411eb3ba53823c4f42    NA\n",
              "absl                                        NA\n",
              "astunparse                                  1.6.3\n",
              "attr                                        23.1.0\n",
              "backcall                                    0.2.0\n",
              "cachetools                                  5.3.0\n",
              "certifi                                     2022.12.07\n",
              "cffi                                        1.15.1\n",
              "chardet                                     4.0.0\n",
              "charset_normalizer                          2.0.12\n",
              "click                                       8.1.3\n",
              "cloudpickle                                 2.2.1\n",
              "cryptography                                40.0.2\n",
              "cycler                                      0.10.0\n",
              "cython_runtime                              NA\n",
              "dateutil                                    2.8.2\n",
              "debugpy                                     1.6.6\n",
              "decorator                                   4.4.2\n",
              "defusedxml                                  0.7.1\n",
              "etils                                       1.2.0\n",
              "flatbuffers                                 23.3.3\n",
              "fsspec                                      2023.4.0\n",
              "gast                                        NA\n",
              "google_auth_httplib2                        NA\n",
              "googleapiclient                             NA\n",
              "h5py                                        3.8.0\n",
              "httplib2                                    0.21.0\n",
              "idna                                        3.4\n",
              "importlib_resources                         NA\n",
              "ipykernel                                   5.5.6\n",
              "ipython_genutils                            0.2.0\n",
              "itsdangerous                                2.1.2\n",
              "jax                                         0.4.10\n",
              "jaxlib                                      0.4.10\n",
              "jinja2                                      3.1.2\n",
              "kiwisolver                                  1.4.4\n",
              "markupsafe                                  2.1.2\n",
              "matplotlib_inline                           0.1.6\n",
              "ml_dtypes                                   0.1.0\n",
              "mpl_toolkits                                NA\n",
              "numexpr                                     2.8.4\n",
              "oauth2client                                4.1.3\n",
              "opt_einsum                                  v3.3.0\n",
              "packaging                                   23.1\n",
              "pexpect                                     4.8.0\n",
              "pickleshare                                 0.7.5\n",
              "pkg_resources                               NA\n",
              "platformdirs                                3.3.0\n",
              "portpicker                                  NA\n",
              "prompt_toolkit                              3.0.38\n",
              "psutil                                      5.9.5\n",
              "ptyprocess                                  0.7.0\n",
              "pyarrow                                     9.0.0\n",
              "pyasn1                                      0.5.0\n",
              "pyasn1_modules                              0.3.0\n",
              "pydev_ipython                               NA\n",
              "pydevconsole                                NA\n",
              "pydevd                                      2.9.5\n",
              "pydevd_file_utils                           NA\n",
              "pydevd_plugins                              NA\n",
              "pydevd_tracing                              NA\n",
              "pydot_ng                                    2.0.0\n",
              "pygments                                    2.14.0\n",
              "pyparsing                                   3.0.9\n",
              "pytz                                        2022.7.1\n",
              "requests                                    2.27.1\n",
              "rich                                        NA\n",
              "rsa                                         4.9\n",
              "scipy                                       1.10.1\n",
              "setuptools                                  67.7.2\n",
              "sitecustomize                               NA\n",
              "six                                         1.16.0\n",
              "socks                                       1.7.1\n",
              "sphinxcontrib                               NA\n",
              "storemagic                                  NA\n",
              "tblib                                       1.7.0\n",
              "tensorboard                                 2.12.2\n",
              "termcolor                                   NA\n",
              "tornado                                     6.3.1\n",
              "traitlets                                   5.7.1\n",
              "typing_extensions                           NA\n",
              "uritemplate                                 4.1.1\n",
              "urllib3                                     1.26.15\n",
              "wcwidth                                     0.2.6\n",
              "werkzeug                                    2.3.0\n",
              "wrapt                                       1.14.1\n",
              "zmq                                         23.2.1\n",
              "zoneinfo                                    NA\n",
              "</pre>\n",
              "</details> <!-- seems like this ends pre, so might as well be explicit -->\n",
              "<pre>\n",
              "-----\n",
              "IPython             7.34.0\n",
              "jupyter_client      6.1.12\n",
              "jupyter_core        5.3.0\n",
              "notebook            6.4.8\n",
              "-----\n",
              "Python 3.10.11 (main, Apr  5 2023, 14:15:10) [GCC 9.4.0]\n",
              "Linux-5.15.107+-x86_64-with-glibc2.31\n",
              "-----\n",
              "Session information updated at 2023-06-05 07:38\n",
              "</pre>\n",
              "</details>"
            ]
          },
          "metadata": {},
          "execution_count": 6
        }
      ]
    },
    {
      "cell_type": "code",
      "source": [
        "!pip freeze > requirements.txt\n",
        "!pip list --format=freeze > requirements.txt"
      ],
      "metadata": {
        "id": "gz4TpThfmlBi"
      },
      "id": "gz4TpThfmlBi",
      "execution_count": null,
      "outputs": []
    },
    {
      "cell_type": "code",
      "source": [
        "import sys\n",
        "print(sys.modules.keys())"
      ],
      "metadata": {
        "colab": {
          "base_uri": "https://localhost:8080/"
        },
        "id": "ezNpKtJenKPp",
        "outputId": "9c0baaf9-717e-4d98-b632-5e69216be217"
      },
      "id": "ezNpKtJenKPp",
      "execution_count": null,
      "outputs": [
        {
          "output_type": "stream",
          "name": "stdout",
          "text": [
            "dict_keys(['sys', 'builtins', '_frozen_importlib', '_imp', '_thread', '_warnings', '_weakref', '_io', 'marshal', 'posix', '_frozen_importlib_external', 'time', 'zipimport', '_codecs', 'codecs', 'encodings.aliases', 'encodings', 'encodings.utf_8', '_signal', '_abc', 'abc', 'io', '__main__', 'types', 'enum', '_sre', 'sre_constants', 'sre_parse', 'sre_compile', '_collections_abc', 'itertools', 'keyword', '_operator', 'operator', 'reprlib', '_collections', 'collections', '_functools', 'functools', '_locale', 'copyreg', 're', 'warnings', '_stat', 'stat', 'genericpath', 'posixpath', 'os.path', 'os', '_sitebuiltins', '_distutils_hack', 'importlib._bootstrap', 'importlib._bootstrap_external', 'importlib', 'importlib._abc', 'contextlib', 'importlib.util', 'importlib.machinery', 'google', 'google.cloud', 'google.logging', 'mpl_toolkits', 'sphinxcontrib', 'sitecustomize', 'site', 'runpy', 'ipykernel._version', '_json', 'json.scanner', 'json.decoder', 'json.encoder', 'json', 'errno', 'signal', '_weakrefset', 'threading', 'fcntl', '_posixsubprocess', 'select', 'collections.abc', 'math', 'selectors', 'subprocess', 'IPython.core', 'IPython.core.getipython', 'IPython.core.release', 'atexit', 'weakref', 'copy', 'fnmatch', 'glob', 'token', 'tokenize', 'linecache', 'traceback', '_string', 'string', 'logging', 'zlib', '_compression', '_bz2', 'bz2', '_lzma', 'lzma', 'shutil', '_ast', 'ast', '_opcode', 'opcode', 'dis', 'inspect', 'typing.io', 'typing.re', 'typing', 'traitlets.utils', 'traitlets.utils.bunch', 'traitlets.utils.descriptions', 'traitlets.utils.getargspec', 'traitlets.utils.importstring', 'traitlets.utils.sentinel', 'traitlets.traitlets', 'traitlets._version', 'traitlets.utils.decorators', 'traitlets', 'dataclasses', 'pprint', '_socket', 'array', 'socket', '_struct', 'struct', '_compat_pickle', '_pickle', 'pickle', '_heapq', 'heapq', '_queue', 'queue', 'logging.handlers', 'socketserver', 'logging.config', 'textwrap', 'traitlets.utils.text', 'gettext', 'argparse', 'traitlets.config.loader', 'traitlets.config.configurable', 'traitlets.utils.nested_update', 'traitlets.config.application', 'traitlets.config', 'pkgutil', 'platform', 'sysconfig', 'urllib', 'urllib.parse', '_sysconfigdata__x86_64-linux-gnu', 'pydoc', 'bdb', 'IPython.utils', 'IPython.utils.ipstruct', 'IPython.utils.coloransi', 'pygments', 'IPython.utils.colorable', 'IPython.utils.PyColorize', 'locale', 'IPython.utils.encoding', 'IPython.utils.py3compat', 'IPython.core.excolors', 'IPython.testing', 'IPython.testing.skipdoctest', 'cmd', '__future__', 'codeop', 'code', 'pdb', 'IPython.core.debugger', 'IPython.core.display_trap', '_bisect', 'bisect', '_random', '_sha512', 'random', 'pexpect.exceptions', 'pexpect.utils', 'pexpect.expect', 'termios', 'tty', 'pty', 'resource', 'ptyprocess.util', 'ptyprocess.ptyprocess', 'ptyprocess', 'pexpect.spawnbase', 'pexpect.pty_spawn', 'pexpect.run', 'pexpect', 'shlex', 'IPython.utils._process_common', 'IPython.utils._process_posix', 'IPython.utils.process', 'IPython.utils.decorators', 'IPython.utils.path', 'IPython.utils.data', 'IPython.utils.terminal', 'IPython.core.ultratb', 'IPython.utils._sysinfo', 'IPython.utils.sysinfo', 'IPython.core.crashhandler', 'tempfile', 'IPython.utils.importstring', 'IPython.paths', 'IPython.core.profiledir', 'IPython.core.application', 'IPython.terminal', '_hashlib', '_blake2', 'hashlib', 'IPython.core.compilerop', 'IPython.core.error', 'ntpath', 'pathlib', 'IPython.utils.text', 'IPython.core.magic_arguments', 'getopt', 'binascii', 'mimetypes', 'IPython.core.display', 'IPython.core.page', 'getpass', 'IPython.lib.security', 'IPython.lib', '_datetime', 'datetime', 'IPython.lib.pretty', 'IPython.utils.openpy', 'IPython.utils.dir2', 'IPython.utils.wildcard', 'pygments.lexers._mapping', 'pygments.modeline', 'pygments.plugin', 'pygments.util', 'pygments.lexers', 'pygments.filter', 'pygments.token', 'pygments.filters', 'pygments.regexopt', 'pygments.lexer', 'pygments.unistring', 'pygments.lexers.python', 'pygments.formatters._mapping', 'pygments.formatters', 'pygments.styles', 'pygments.formatter', 'pygments.formatters.html', 'IPython.core.oinspect', 'IPython.core.inputtransformer2', 'decorator', 'IPython.core.magic', 'pickleshare', 'IPython.core.autocall', 'IPython.core.macro', 'IPython.core.splitinput', 'IPython.core.prefilter', 'IPython.core.alias', 'IPython.core.builtin_trap', 'backcall.backcall', 'backcall', 'IPython.core.events', 'IPython.core.displayhook', 'IPython.core.displaypub', 'IPython.core.extensions', 'IPython.utils.sentinel', 'IPython.core.formatters', '_sqlite3', 'sqlite3.dbapi2', 'sqlite3', 'IPython.core.history', 'IPython.core.logger', 'IPython.core.payload', 'IPython.core.usage', 'html.entities', 'html', 'IPython.lib.display', 'IPython.display', 'IPython.utils.capture', 'IPython.utils.io', 'IPython.core.hooks', 'IPython.utils.strdispatch', 'IPython.utils.syspathcontext', 'IPython.utils.tempdir', 'IPython.utils.contexts', 'concurrent', 'concurrent.futures._base', 'concurrent.futures', '_ssl', 'base64', 'ssl', 'asyncio.constants', 'asyncio.format_helpers', 'asyncio.base_futures', 'asyncio.log', 'asyncio.coroutines', '_contextvars', 'contextvars', 'asyncio.exceptions', 'asyncio.base_tasks', '_asyncio', 'asyncio.events', 'asyncio.futures', 'asyncio.protocols', 'asyncio.transports', 'asyncio.sslproto', 'asyncio.mixins', 'asyncio.tasks', 'asyncio.locks', 'asyncio.staggered', 'asyncio.trsock', 'asyncio.base_events', 'asyncio.runners', 'asyncio.queues', 'asyncio.streams', 'asyncio.subprocess', 'asyncio.threads', 'asyncio.base_subprocess', 'asyncio.selector_events', 'asyncio.unix_events', 'asyncio', 'IPython.core.async_helpers', 'IPython.core.interactiveshell', 'prompt_toolkit.application.current', 'prompt_toolkit.eventloop.utils', 'prompt_toolkit.eventloop.async_generator', 'prompt_toolkit.eventloop.inputhook', 'prompt_toolkit.eventloop', 'prompt_toolkit.application.run_in_terminal', 'prompt_toolkit.selection', 'prompt_toolkit.clipboard.base', 'prompt_toolkit.clipboard.in_memory', 'prompt_toolkit.clipboard', 'prompt_toolkit.cache', 'prompt_toolkit.enums', 'prompt_toolkit.filters.base', 'prompt_toolkit.filters.app', 'prompt_toolkit.filters.cli', 'prompt_toolkit.filters.utils', 'prompt_toolkit.filters', 'prompt_toolkit.document', 'prompt_toolkit.auto_suggest', 'prompt_toolkit.keys', 'prompt_toolkit.key_binding.key_bindings', 'wcwidth.table_wide', 'wcwidth.table_zero', 'wcwidth.unicode_versions', 'wcwidth.wcwidth', 'wcwidth', 'prompt_toolkit.utils', 'prompt_toolkit.key_binding.key_processor', 'prompt_toolkit.key_binding', 'prompt_toolkit.key_binding.vi_state', 'prompt_toolkit.cursor_shapes', 'prompt_toolkit.data_structures', 'prompt_toolkit.styles.base', 'prompt_toolkit.styles.named_colors', 'prompt_toolkit.styles.style', 'prompt_toolkit.styles.defaults', 'prompt_toolkit.styles.pygments', 'colorsys', 'prompt_toolkit.styles.style_transformation', 'prompt_toolkit.styles', 'prompt_toolkit.output.color_depth', 'prompt_toolkit.output.base', 'prompt_toolkit.output.flush_stdout', 'prompt_toolkit.output.plain_text', 'prompt_toolkit.output.defaults', 'prompt_toolkit.output', 'prompt_toolkit.output.vt100', 'prompt_toolkit.mouse_events', 'prompt_toolkit.formatted_text.base', 'prompt_toolkit.formatted_text.ansi', 'xml', 'xml.dom.domreg', 'xml.dom', 'xml.dom.minicompat', 'xml.dom.NodeFilter', 'xml.dom.xmlbuilder', 'xml.dom.minidom', 'prompt_toolkit.formatted_text.html', 'prompt_toolkit.formatted_text.pygments', 'prompt_toolkit.formatted_text.utils', 'prompt_toolkit.formatted_text', 'prompt_toolkit.completion.base', 'prompt_toolkit.completion.deduplicate', 'prompt_toolkit.completion.filesystem', 'prompt_toolkit.completion.word_completer', 'prompt_toolkit.completion.fuzzy_completer', 'prompt_toolkit.completion.nested', 'prompt_toolkit.completion', 'prompt_toolkit.history', 'prompt_toolkit.search', 'prompt_toolkit.validation', 'prompt_toolkit.buffer', 'prompt_toolkit.input.base', 'prompt_toolkit.input.defaults', 'prompt_toolkit.input', 'prompt_toolkit.input.typeahead', 'prompt_toolkit.key_binding.bindings', 'prompt_toolkit.key_binding.bindings.scroll', 'prompt_toolkit.key_binding.bindings.page_navigation', 'prompt_toolkit.lexers.base', 'prompt_toolkit.lexers.pygments', 'prompt_toolkit.lexers', 'prompt_toolkit.layout.utils', 'prompt_toolkit.layout.processors', 'prompt_toolkit.layout.controls', 'prompt_toolkit.layout.dimension', 'prompt_toolkit.layout.margins', 'prompt_toolkit.layout.mouse_handlers', 'prompt_toolkit.layout.screen', 'prompt_toolkit.layout.containers', 'prompt_toolkit.layout.layout', 'prompt_toolkit.layout.menus', 'prompt_toolkit.layout.scrollable_pane', 'prompt_toolkit.layout', 'prompt_toolkit.key_binding.bindings.completion', 'prompt_toolkit.key_binding.bindings.named_commands', 'prompt_toolkit.key_binding.bindings.basic', 'prompt_toolkit.key_binding.bindings.cpr', 'prompt_toolkit.key_binding.bindings.emacs', 'prompt_toolkit.key_binding.bindings.mouse', 'prompt_toolkit.input.ansi_escape_sequences', 'prompt_toolkit.input.vt100_parser', 'prompt_toolkit.key_binding.digraphs', 'prompt_toolkit.key_binding.bindings.vi', 'prompt_toolkit.key_binding.defaults', 'prompt_toolkit.key_binding.emacs_state', 'prompt_toolkit.layout.dummy', 'prompt_toolkit.renderer', 'prompt_toolkit.application.application', 'prompt_toolkit.application.dummy', 'prompt_toolkit.application', 'prompt_toolkit.key_binding.bindings.focus', 'prompt_toolkit.widgets.toolbars', 'prompt_toolkit.widgets.base', 'prompt_toolkit.widgets.dialogs', 'prompt_toolkit.widgets.menus', 'prompt_toolkit.widgets', 'prompt_toolkit.shortcuts.dialogs', 'prompt_toolkit.shortcuts.progress_bar.formatters', 'prompt_toolkit.shortcuts.progress_bar.base', 'prompt_toolkit.shortcuts.progress_bar', 'prompt_toolkit.key_binding.bindings.auto_suggest', 'prompt_toolkit.key_binding.bindings.open_in_editor', 'prompt_toolkit.shortcuts.prompt', 'prompt_toolkit.shortcuts.utils', 'prompt_toolkit.shortcuts', 'prompt_toolkit', 'prompt_toolkit.patch_stdout', 'pygments.style', 'unicodedata', 'IPython.core.latex_symbols', 'IPython.utils.generics', 'IPython.core.completer', 'IPython.terminal.ptutils', 'IPython.terminal.shortcuts', 'concurrent.futures.thread', 'IPython.terminal.debugger', 'IPython.lib.clipboard', 'IPython.terminal.magics', 'IPython.terminal.pt_inputhooks', 'IPython.terminal.prompts', 'IPython.terminal.interactiveshell', 'IPython.core.magics.auto', 'IPython.core.magics.basic', 'email', 'http', 'email.errors', 'email.quoprimime', 'email.base64mime', 'quopri', 'email.encoders', 'email.charset', 'email.header', 'calendar', 'email._parseaddr', 'email.utils', 'email._policybase', 'email.feedparser', 'email.parser', 'uu', 'email._encoded_words', 'email.iterators', 'email.message', 'http.client', 'urllib.response', 'urllib.error', 'urllib.request', 'IPython.core.magics.code', 'IPython.core.magics.config', 'IPython.core.magics.display', 'gc', 'timeit', '_lsprof', 'profile', 'cProfile', 'pstats', 'IPython.utils.module_paths', 'IPython.utils.timing', 'IPython.core.magics.execution', 'IPython.core.magics.extension', 'IPython.core.magics.history', 'IPython.core.magics.logging', 'IPython.core.magics.namespace', 'IPython.core.magics.osm', 'IPython.core.magics.packaging', 'IPython.core.pylabtools', 'IPython.core.magics.pylab', 'IPython.lib.backgroundjobs', 'IPython.core.magics.script', 'IPython.core.magics', 'IPython.core.shellapp', 'IPython.extensions', 'IPython.extensions.storemagic', 'IPython.terminal.ipapp', 'IPython.terminal.embed', 'IPython.utils.frame', 'IPython', 'ipython_genutils._version', 'ipython_genutils', 'ipython_genutils.encoding', 'ipython_genutils.py3compat', 'ipython_genutils.path', 'jupyter_client._version', '_ctypes', 'ctypes._endian', 'ctypes', 'zmq.backend.select', '_cython_0_29_32', 'cython_runtime', 'zmq.error', 'zmq.backend.cython.context', 'zmq.backend.cython.message', 'zmq.constants', 'zmq.backend.cython.socket', 'zmq.backend.cython._device', 'zmq.backend.cython._poll', 'zmq.backend.cython._proxy_steerable', 'zmq.backend.cython._version', 'zmq.backend.cython.error', 'zmq.backend.cython.utils', 'zmq.backend.cython', 'zmq.backend', 'zmq.sugar.attrsettr', 'zmq._typing', 'zmq.utils', 'zmq.utils.jsonapi', 'zmq.sugar.poll', 'zmq.sugar.socket', 'zmq.sugar.context', 'zmq.sugar.frame', 'zmq.sugar.tracker', 'zmq.sugar.version', 'zmq.sugar.stopwatch', 'zmq.sugar', 'zmq', 'jupyter_client.localinterfaces', 'jupyter_core.version', 'jupyter_core', 'platformdirs.api', 'platformdirs.version', 'configparser', 'platformdirs.unix', 'platformdirs', 'jupyter_core.utils', 'jupyter_core.paths', 'jupyter_client.utils', 'jupyter_client.connect', 'traitlets.log', 'jupyter_client.launcher', 'jupyter_client.channelsabc', 'jupyter_client.channels', 'jupyter_client.clientabc', 'jupyter_client.client', 'jupyter_client.kernelspec', 'jupyter_client.managerabc', 'jupyter_client.manager', 'jupyter_client.blocking.channels', 'jupyter_client.blocking.client', 'jupyter_client.blocking', 'zmq._future', 'zmq.asyncio', 'jupyter_client.asynchronous.channels', 'jupyter_client.asynchronous.client', 'jupyter_client.asynchronous', '_uuid', 'uuid', 'jupyter_client.multikernelmanager', 'jupyter_client', 'ipykernel.connect', 'ipykernel', 'tornado', 'numbers', 'tornado.speedups', 'tornado.util', 'tornado.escape', '_curses', 'curses', 'tornado.log', 'tornado.concurrent', 'tornado.ioloop', 'tornado.platform', 'tornado.gen', 'tornado.platform.asyncio', 'zmq.eventloop.ioloop', 'zmq.eventloop', 'zmq.eventloop.zmqstream', 'ipython_genutils.importstring', 'imp', 'hmac', 'dateutil._version', 'dateutil', 'six', '_decimal', 'decimal', 'dateutil._common', 'dateutil.relativedelta', 'six.moves', 'dateutil.tz._common', 'dateutil.tz._factories', 'dateutil.tz.tz', 'dateutil.tz', 'dateutil.parser._parser', 'dateutil.parser.isoparser', 'dateutil.parser', '_strptime', 'jupyter_client.jsonutil', 'jupyter_client.adapter', 'jupyter_client.session', 'ipykernel.iostream', 'ipykernel.heartbeat', 'IPython.utils.tokenutil', 'tornado.locks', 'tornado.queues', 'ipykernel.jsonutil', 'ipykernel.kernelbase', 'ipykernel.comm.comm', 'ipykernel.comm.manager', 'ipykernel.comm', 'IPython.core.payloadpage', 'ipykernel.displayhook', 'ipykernel.codeutil', 'ipykernel.pickleutil', 'ipykernel.serialize', 'ipykernel.datapub', 'ipykernel.zmqshell', 'importlib.abc', 'setuptools._distutils', 'distutils.debug', 'distutils.errors', 'distutils.fancy_getopt', 'distutils.dep_util', 'distutils._log', 'distutils.spawn', 'distutils.util', 'distutils.dist', 'distutils.dir_util', 'distutils.file_util', 'zipfile', 'pwd', 'grp', 'distutils.archive_util', 'distutils.cmd', 'distutils.config', 'distutils.extension', 'distutils.core', '_distutils_hack.override', 'setuptools.warnings', '_csv', 'csv', 'importlib.metadata._functools', 'importlib.metadata._text', 'importlib.metadata._adapters', 'importlib.metadata._meta', 'importlib.metadata._collections', 'importlib.metadata._itertools', 'importlib.metadata', 'importlib._adapters', 'importlib._common', 'importlib.resources', 'setuptools._importlib', 'setuptools.version', 'distutils.filelist', 'setuptools.monkey', 'setuptools.extension', 'distutils.log', 'distutils.command', 'setuptools.extern', 'setuptools._vendor', 'setuptools._vendor.packaging', 'setuptools.extern.packaging', 'setuptools._vendor.ordered_set', 'setuptools.extern.ordered_set', 'setuptools._vendor.more_itertools.recipes', 'setuptools._vendor.more_itertools.more', 'setuptools._vendor.more_itertools', 'setuptools.extern.more_itertools', 'distutils.command.bdist', 'setuptools.command', 'setuptools.windows_support', 'setuptools.errors', 'setuptools._vendor.packaging._elffile', 'setuptools._vendor.packaging._manylinux', 'setuptools._vendor.packaging._musllinux', 'setuptools.extern.packaging.tags', 'setuptools.extern.packaging._structures', 'setuptools.extern.packaging.version', 'setuptools.extern.packaging.utils', 'setuptools.extern.packaging.specifiers', 'setuptools.extern.packaging._tokenizer', 'setuptools.extern.packaging._parser', 'setuptools.extern.packaging.markers', 'setuptools.extern.packaging.requirements', 'setuptools._path', 'setuptools.config.expand', 'setuptools.config.setupcfg', 'setuptools.config', 'email._header_value_parser', 'email.headerregistry', 'setuptools.config._apply_pyprojecttoml', 'setuptools.config.pyprojecttoml', 'setuptools.discovery', 'setuptools._vendor.jaraco', 'setuptools.extern.jaraco', 'setuptools.extern.jaraco.functools', 'setuptools.extern.jaraco.context', 'setuptools.extern.jaraco.text', 'setuptools._reqs', 'setuptools._itertools', 'setuptools._entry_points', 'setuptools._normalization', 'setuptools.dist', 'setuptools.py34compat', 'setuptools._imp', 'setuptools.depends', 'setuptools.logging', 'setuptools.msvc', 'setuptools', 'distutils', 'distutils.version', 'ipykernel.eventloops', 'ipykernel.ipkernel', 'ipykernel.parentpoller', 'ipykernel.kernelapp', 'google.colab._import_hooks._altair', 'google.colab._import_hooks._bokeh', 'google.colab._import_hooks._client_info', 'google.colab._import_hooks._cv2', 'google.colab._import_hooks._pydrive', 'google.colab._import_hooks', 'google.colab._import_magics', 'google.colab._installation_commands', 'google.colab._interactive_table_helper', 'numpy._globals', 'numpy.__config__', 'numpy._distributor_init', 'numpy._version', 'numpy.version', 'numpy.core._multiarray_umath', 'numpy.compat._inspect', 'numpy.compat.py3k', 'numpy.compat', 'numpy.core.overrides', 'numpy.core.multiarray', 'numpy.core.umath', 'numpy.core._string_helpers', 'numpy.core._dtype', 'numpy.core._type_aliases', 'numpy.core.numerictypes', 'numpy.core._exceptions', 'numpy.core._methods', 'numpy.core.fromnumeric', 'numpy.core.shape_base', 'numpy.core._ufunc_config', 'numpy.core.arrayprint', 'numpy.core._asarray', 'numpy.core.numeric', 'numpy.core.defchararray', 'numpy.core.records', 'numpy.core.memmap', 'numpy.core.function_base', 'numpy.core._machar', 'numpy.core.getlimits', 'numpy.core.einsumfunc', 'numpy.core._multiarray_tests', 'numpy.core._add_newdocs', 'numpy.core._add_newdocs_scalars', 'numpy.core._dtype_ctypes', 'numpy.core._internal', 'numpy._pytesttester', 'numpy.core', 'numpy.lib.mixins', 'numpy.lib.ufunclike', 'numpy.lib.type_check', 'numpy.lib.scimath', 'numpy.lib.stride_tricks', 'numpy.lib.twodim_base', 'numpy.linalg._umath_linalg', 'numpy.linalg.linalg', 'numpy.linalg', 'numpy.matrixlib.defmatrix', 'numpy.matrixlib', 'numpy.lib.histograms', 'numpy.lib.function_base', 'numpy.lib.index_tricks', 'numpy.lib.nanfunctions', 'numpy.lib.shape_base', 'numpy.lib.polynomial', 'numpy.lib.utils', 'numpy.lib.arraysetops', 'numpy.lib.format', 'numpy.lib._datasource', 'numpy.lib._iotools', 'numpy.lib.npyio', 'numpy.lib.arrayterator', 'numpy.lib.arraypad', 'numpy.lib._version', 'numpy.lib', 'numpy.fft._pocketfft_internal', 'numpy.fft._pocketfft', 'numpy.fft.helper', 'numpy.fft', 'numpy.polynomial.polyutils', 'numpy.polynomial._polybase', 'numpy.polynomial.polynomial', 'numpy.polynomial.chebyshev', 'numpy.polynomial.legendre', 'numpy.polynomial.hermite', 'numpy.polynomial.hermite_e', 'numpy.polynomial.laguerre', 'numpy.polynomial', '_cython_0_29_30', 'numpy.random._common', 'secrets', 'numpy.random.bit_generator', 'numpy.random._bounded_integers', 'numpy.random._mt19937', 'numpy.random.mtrand', 'numpy.random._philox', 'numpy.random._pcg64', 'numpy.random._sfc64', 'numpy.random._generator', 'numpy.random._pickle', 'numpy.random', 'numpy.ctypeslib', 'numpy.ma.core', 'numpy.ma.extras', 'numpy.ma', 'numpy', 'google.colab._quickchart', 'google.colab._ipython', 'google.colab.errors', 'google.colab._message', 'google.colab.output._js', 'google.colab.output._publish', 'google.colab.output._js_builder', 'google.colab.output._area', 'google.colab.output._tags', 'google.colab.output._util', 'google.colab.output._widgets', 'google.colab.output', 'google.colab._quickchart_hint_button', 'IPython.utils.traitlets', 'google.colab.data_table', 'google.colab._interactive_table_hint_button', 'google.colab._reprs', 'google.colab._shell_customizations', 'google.colab._system_commands', 'google.colab._tensorflow_magics', 'http.server', 'google.colab.files', 'google.colab.auth', 'google.colab.autoviz', 'pexpect.popen_spawn', 'psutil._common', 'psutil._compat', 'psutil._psposix', 'psutil._psutil_linux', 'psutil._psutil_posix', 'psutil._pslinux', 'psutil', 'google.colab.drive', 'gzip', 'socks', 'pyparsing.util', 'pyparsing.unicode', 'pyparsing.exceptions', 'pyparsing.actions', 'pyparsing.results', 'pyparsing.core', 'pyparsing.helpers', 'pyparsing.testing', 'pyparsing.common', 'pyparsing', 'httplib2.error', 'httplib2.auth', 'httplib2.iri2uri', 'certifi.core', 'certifi', 'httplib2.certs', 'importlib.readers', 'httplib2', 'google.colab.runtime', 'google.colab.snippets', 'google.colab.widgets._widget', 'google.colab.widgets._grid', 'google.colab.widgets._tabbar', 'google.colab.widgets', 'google.colab', 'google.colab._history', 'google.colab._inspector', 'google.colab._pip', 'IPython.core.inputtransformer', 'IPython.core.inputsplitter', 'google.colab._shell', 'google.colab._kernel', 'faulthandler', 'IPython.core.completerlib', 'packaging', 'packaging._structures', 'packaging.version', 'matplotlib._api.deprecation', 'matplotlib._api', 'matplotlib._version', 'matplotlib._c_internal_utils', 'matplotlib.cbook', 'matplotlib._docstring', 'PIL._version', 'PIL', 'xml.parsers', 'pyexpat.errors', 'pyexpat.model', 'pyexpat', 'xml.parsers.expat.model', 'xml.parsers.expat.errors', 'xml.parsers.expat', 'defusedxml.common', 'defusedxml', 'xml.etree', 'xml.etree.ElementPath', '_elementtree', 'xml.etree.ElementTree', 'defusedxml.ElementTree', 'PIL.ImageMode', 'PIL.TiffTags', 'PIL._binary', 'PIL._util', 'PIL._imaging', 'cffi.lock', 'cffi.error', 'cffi.model', 'cffi.api', 'cffi', 'PIL.Image', 'PIL.ImageChops', 'PIL.ImageFile', 'PIL.GimpGradientFile', 'PIL.GimpPaletteFile', 'PIL.ImageColor', 'PIL.PaletteFile', 'PIL.ImagePalette', 'PIL.ImageSequence', 'PIL.PngImagePlugin', 'matplotlib._cm', 'matplotlib._path', 'matplotlib.bezier', 'matplotlib.path', 'matplotlib.transforms', 'matplotlib.ticker', 'matplotlib.scale', 'matplotlib._color_data', 'matplotlib.colors', 'matplotlib._fontconfig_pattern', 'matplotlib._enums', 'cycler', 'matplotlib.rcsetup', 'matplotlib.ft2font', 'kiwisolver._cext', 'kiwisolver', 'matplotlib._cm_listed', 'matplotlib.cm', 'matplotlib', 'matplotlib.backends', 'matplotlib._pylab_helpers', 'matplotlib.backend_tools', 'matplotlib.artist', 'matplotlib._mathtext_data', 'matplotlib._afm', 'matplotlib.font_manager', 'matplotlib.hatch', 'matplotlib.markers', 'matplotlib.lines', 'matplotlib.patches', 'matplotlib._text_helpers', 'matplotlib.dviread', 'matplotlib._mathtext', 'matplotlib.mathtext', 'matplotlib.texmanager', 'matplotlib.textpath', 'matplotlib.text', 'matplotlib._tight_bbox', 'matplotlib.collections', 'matplotlib.widgets', 'matplotlib.backend_managers', 'matplotlib.backend_bases', 'matplotlib.backends._backend_agg', 'matplotlib.backends.backend_agg', 'matplotlib._blocking_input', 'matplotlib._image', 'matplotlib.image', 'matplotlib.offsetbox', 'matplotlib.units', 'matplotlib.axis', 'matplotlib._tight_layout', 'matplotlib.gridspec', 'matplotlib.spines', 'matplotlib.table', 'matplotlib.axes._base', 'matplotlib.category', 'matplotlib.contour', 'dateutil.rrule', 'matplotlib.dates', 'matplotlib.container', 'matplotlib.legend_handler', 'matplotlib.legend', 'matplotlib.mlab', 'matplotlib.quiver', 'matplotlib.stackplot', 'matplotlib.streamplot', 'matplotlib.tri._triangulation', 'matplotlib.tri._tricontour', 'matplotlib.tri._trifinder', 'matplotlib.tri._tritools', 'matplotlib.tri._triinterpolate', 'matplotlib.tri._tripcolor', 'matplotlib.tri._triplot', 'matplotlib.tri._trirefine', 'matplotlib.tri', 'matplotlib.axes._secondary_axes', 'matplotlib.axes._axes', 'matplotlib.axes', 'matplotlib.projections.geo', 'matplotlib.projections.polar', 'mpl_toolkits.mplot3d.proj3d', 'mpl_toolkits.mplot3d.art3d', 'mpl_toolkits.mplot3d.axis3d', 'mpl_toolkits.mplot3d.axes3d', 'mpl_toolkits.mplot3d', 'matplotlib.projections', 'matplotlib.colorbar', 'matplotlib._layoutgrid', 'matplotlib._constrained_layout', 'matplotlib.layout_engine', 'matplotlib.figure', 'matplotlib_inline.config', 'matplotlib_inline.backend_inline', 'matplotlib_inline', 'matplotlib.style.core', 'matplotlib.style', 'matplotlib.pyplot', 'storemagic', 'debugpy._version', 'debugpy.public_api', 'debugpy', 'google.colab._debugpy_repr', 'google.colab._variable_inspector', 'portpicker', 'google.colab._debugpy', 'debugpy._vendored._util', 'debugpy._vendored', '_pydevd_bundle', 'encodings.ascii', 'encodings.latin_1', 'stringprep', 'encodings.idna', '_pydevd_bundle.pydevd_vm_type', '_pydev_bundle', 'xmlrpc', 'xmlrpc.client', 'xmlrpc.server', '_pydev_bundle._pydev_saved_modules', '_pydevd_bundle.pydevd_constants', '_pydev_runfiles', '_pydevd_frame_eval', 'pydev_ipython', 'plistlib', 'pkg_resources.extern', 'pkg_resources._vendor', 'pkg_resources._vendor.jaraco', 'pkg_resources.extern.jaraco', 'pkg_resources._vendor.more_itertools.recipes', 'pkg_resources._vendor.more_itertools.more', 'pkg_resources._vendor.more_itertools', 'pkg_resources.extern.more_itertools', 'pkg_resources.extern.jaraco.functools', 'pkg_resources.extern.jaraco.context', 'pkg_resources.extern.jaraco.text', 'pkg_resources._vendor.platformdirs.api', 'pkg_resources._vendor.platformdirs.version', 'pkg_resources._vendor.platformdirs.unix', 'pkg_resources._vendor.platformdirs', 'pkg_resources.extern.platformdirs', 'pkg_resources._vendor.packaging', 'pkg_resources.extern.packaging', 'pkg_resources.extern.packaging._structures', 'pkg_resources.extern.packaging.version', 'pkg_resources._vendor.packaging._elffile', 'pkg_resources._vendor.packaging._manylinux', 'pkg_resources._vendor.packaging._musllinux', 'pkg_resources.extern.packaging.tags', 'pkg_resources.extern.packaging.utils', 'pkg_resources.extern.packaging.specifiers', 'pkg_resources.extern.packaging._tokenizer', 'pkg_resources.extern.packaging._parser', 'pkg_resources.extern.packaging.markers', 'pkg_resources.extern.packaging.requirements', 'pkg_resources', 'pydevd_plugins', '_pydev_bundle.pydev_log', '_pydev_bundle._pydev_filesystem_encoding', '_pydevd_bundle.pydevd_comm_constants', 'pydevd_file_utils', '_pydev_bundle._pydev_execfile', '_pydevd_bundle.pydevd_exec2', '_pydev_bundle.pydev_imports', '_pydev_bundle.pydev_is_thread_alive', '_pydev_bundle.pydev_override', 'pydevd_plugins.extensions', '_pydevd_bundle.pydevd_extension_utils', '_pydevd_bundle.pydevd_frame_utils', '_pydevd_bundle.pydevd_filtering', '_pydevd_bundle.pydevd_io', '_pydevd_bundle.pydevd_defaults', '_pydevd_bundle.pydevd_utils', '_pydevd_bundle.pydevd_runpy', '_pydev_bundle._pydev_tipper_common', '_pydev_bundle._pydev_imports_tipper', '_pydev_bundle._pydev_calltip_util', '_pydevd_bundle.pydevd_safe_repr', '_pydevd_bundle.pydevd_resolver', '_pydevd_bundle.pydevd_extension_api', '_pydevd_bundle.pydevd_xml', '_pydevd_bundle.pydevd_dont_trace', '_pydevd_frame_eval.vendored', '_pydevd_frame_eval.vendored.bytecode.flags', '_pydevd_frame_eval.vendored.bytecode.instr', '_pydevd_frame_eval.vendored.bytecode.bytecode', '_pydevd_frame_eval.vendored.bytecode.concrete', '_pydevd_frame_eval.vendored.bytecode.cfg', '_pydevd_frame_eval.vendored.bytecode', '_pydevd_bundle.pydevd_bytecode_utils', '_pydevd_bundle.pydevd_cython', '_pydevd_bundle.pydevd_cython_wrapper', '_pydevd_bundle.pydevd_additional_thread_info', '_pydevd_bundle.pydevd_thread_lifecycle', '_pydevd_bundle.pydevd_save_locals', '_pydev_bundle.pydev_monkey', 'pydevd_tracing', '_pydevd_bundle.pydevd_collect_bytecode_info', '_pydevd_bundle.pydevd_daemon_thread', '_pydevd_bundle.pydevd_timeout', '_pydevd_bundle.pydevd_vars', '_pydev_bundle.pydev_console_utils', '_pydevd_bundle.pydevd_import_class', '_pydevd_bundle.pydevd_breakpoints', '_pydevd_bundle.pydevd_custom_frames', '_pydevd_bundle.pydevd_dont_trace_files', '_pydevd_bundle.pydevd_net_command', '_pydevd_bundle.pydevconsole_code', '_pydev_bundle.pydev_umd', 'pydevconsole', '_pydev_bundle._pydev_completer', '_pydevd_bundle.pydevd_net_command_factory_xml', '_pydevd_bundle.pydevd_frame', '_pydevd_bundle.pydevd_additional_thread_info_regular', '_pydevd_bundle.pydevd_trace_dispatch', '_pydevd_frame_eval.pydevd_frame_eval_main', '_pydevd_bundle.pydevd_source_mapping', '_pydevd_bundle.pydevd_concurrency_analyser', '_pydevd_bundle.pydevd_concurrency_analyser.pydevd_thread_wrappers', '_pydevd_bundle.pydevd_concurrency_analyser.pydevd_concurrency_logger', '_pydevd_bundle._debug_adapter', '_pydevd_bundle._debug_adapter.pydevd_schema_log', '_pydevd_bundle._debug_adapter.pydevd_base_schema', '_pydevd_bundle._debug_adapter.pydevd_schema', '_pydevd_bundle.pydevd_reload', '_pydev_bundle.fsnotify', '_pydevd_bundle.pydevd_console', '_pydevd_bundle.pydevd_comm', '_pydevd_bundle.pydevd_net_command_factory_json', '_pydevd_bundle.pydevd_api', '_pydevd_bundle.pydevd_json_debug_options', '_pydevd_bundle.pydevd_process_net_command_json', '_pydevd_bundle.pydevd_traceproperty', '_pydevd_bundle.pydevd_process_net_command', '_pydevd_bundle.pydevd_suspended_frames', '_pydevd_bundle.pydevd_trace_api', 'pydevd_plugins.pydevd_line_validation', 'pydevd_plugins.django_debug', 'pydevd_plugins.jinja2_debug', '_pydevd_bundle.pydevd_plugin_utils', 'pydevd_plugins.extensions.types', 'pydevd_plugins.extensions.types.pydevd_helpers', 'pydevd_plugins.extensions.types.pydevd_plugin_numpy_types', 'pydevd_plugins.extensions.types.pydevd_plugin_pandas_types', 'pydevd_plugins.extensions.types.pydevd_plugins_django_form_str', 'pydevd', 'debugpy._vendored.force_pydevd', 'debugpy.server', 'debugpy.adapter', 'debugpy.common', 'debugpy.common.json', 'debugpy.common.timestamp', 'debugpy.common.util', 'debugpy.common.log', 'debugpy.common.sockets', 'debugpy.server.api', 'encodings.hex_codec', 'pytz.exceptions', 'pytz.lazy', 'pytz.tzinfo', 'pytz.tzfile', 'pytz', 'pandas._typing', 'pandas._libs.tslibs.np_datetime', 'pandas._libs.tslibs.dtypes', 'pandas._libs.tslibs.base', 'pandas.util._exceptions', 'pandas._libs.tslibs.nattype', 'pandas.util.version', 'pandas.compat._optional', 'zoneinfo._tzpath', 'zoneinfo._common', '_zoneinfo', 'zoneinfo', 'pandas._libs.tslibs.timezones', 'pandas._libs.tslibs.tzconversion', 'pandas._libs.tslibs.ccalendar', 'pandas._config.config', 'pandas._config.dates', 'pandas._config.display', 'pandas._config', 'pandas._config.localization', 'pandas._libs.tslibs.fields', 'pandas._libs.tslibs.timedeltas', 'pandas._libs.tslibs.timestamps', 'dateutil.easter', 'pandas._libs.properties', 'pandas._libs.tslibs.offsets', 'pandas._libs.tslibs.parsing', 'pandas._libs.tslibs.conversion', 'pandas._libs.tslibs.period', 'pandas._libs.tslibs.vectorized', 'pandas._libs.tslibs', 'pandas._libs.ops_dispatch', 'pandas._libs.missing', 'pandas._libs.hashtable', 'pandas._libs.algos', 'pandas._libs.interval', 'pandas._libs', 'pandas.util._decorators', 'pandas.core', 'pandas.core.util', 'pandas._libs.tslib', 'pandas._libs.lib', 'pandas._libs.hashing', 'pandas.core.dtypes', 'pandas.errors', 'pandas.core.dtypes.generic', 'pandas.core.dtypes.base', 'pandas.core.dtypes.inference', 'pandas.core.dtypes.dtypes', 'pandas.core.dtypes.common', 'pandas.core.util.hashing', 'pandas.util', 'pandas.compat.numpy', 'pyarrow._generated_version', 'cloudpickle.compat', 'typing_extensions', 'cloudpickle.cloudpickle', 'cloudpickle.cloudpickle_fast', 'cloudpickle', 'pyarrow.util', 'pyarrow.lib', 'pyarrow._hdfsio', 'pyarrow.filesystem', 'pyarrow.hdfs', 'pyarrow.ipc', 'pyarrow.serialization', 'pyarrow.types', 'pyarrow', 'pandas.compat.pyarrow', 'pandas.compat', 'pandas.core.config_init', 'pandas.core.dtypes.missing', 'pandas.util._validators', 'pandas.core.dtypes.astype', 'pandas.core.dtypes.cast', 'pandas.core.dtypes.concat', 'pandas.core.array_algos', 'pandas.core.common', 'pandas.core.construction', 'pandas.core.array_algos.take', 'pandas.core.indexers.utils', 'pandas.core.indexers', 'pandas.core.algorithms', 'pandas.core.roperator', 'pandas._libs.ops', 'pandas.core.computation', 'numexpr.interpreter', 'numexpr.expressions', 'numexpr.version', 'numexpr.utils', 'numexpr.necompiler', 'numexpr', 'pandas.core.computation.check', 'pandas.core.computation.expressions', 'pandas.core.ops.missing', 'pandas.core.ops.dispatch', 'pandas.core.ops.invalid', 'pandas.core.ops.array_ops', 'pandas.core.ops.common', 'pandas.core.ops.docstrings', 'pandas.core.ops.mask_ops', 'pandas.core.ops.methods', 'pandas.core.ops', 'pandas.core.arraylike', 'pandas.compat.numpy.function', 'pandas.core.missing', 'pandas.core.array_algos.quantile', 'pandas.core.sorting', 'pandas.core.arrays.base', 'pyarrow._compute', 'pyarrow._compute_docstrings', 'pyarrow.vendored', 'pyarrow.vendored.docscrape', 'pyarrow.compute', 'pandas.core.arrays.arrow._arrow_utils', 'pandas.core.arrays.arrow.dtype', 'pandas.core.arrays.arrow.array', 'pandas.core.arrays.arrow', 'pandas.core.nanops', 'pandas.core.array_algos.masked_reductions', 'pandas.core.arrays.masked', 'pandas.core.arrays.boolean', 'pandas._libs.arrays', 'pandas.core.accessor', 'pandas.core.array_algos.transforms', 'pandas.core.arrays._mixins', 'pandas.core.base', 'pandas.core.strings.accessor', 'pandas.core.strings.base', 'pandas.core.strings', 'pandas.core.strings.object_array', 'pandas.io', 'pandas.io.formats', 'pandas.io.formats.console', 'pandas.core.arrays.categorical', 'pandas.core.arrays.numeric', 'pandas.core.arrays.integer', 'pandas.tseries', 'pandas.tseries.frequencies', 'pandas.core.arrays.datetimelike', 'pandas.core.arrays._ranges', 'pandas.tseries.offsets', 'pandas.core.arrays.datetimes', 'pandas.core.arrays.floating', 'pandas.core.indexes', 'pandas._libs.index', 'pandas._libs.join', 'pandas.core.array_algos.putmask', 'pandas._libs.sparse', 'pandas.core.arrays.sparse.dtype', 'pandas.io.formats.printing', 'pandas.core.arrays.sparse.array', 'pandas.core.arrays.sparse.accessor', 'pandas.core.arrays.sparse', 'pandas.core.arrays.numpy_', 'pandas.core.arrays.string_', 'pandas.core.indexes.frozen', 'pandas.core.indexes.base', 'pandas.core.arrays.interval', 'pandas.core.arrays.period', 'pandas.core.arrays.string_arrow', 'pandas.core.arrays.timedeltas', 'pandas.core.arrays', 'pandas.core.flags', 'pandas._libs.reduction', 'pandas.core.apply', 'pandas._libs.indexing', 'pandas.core.indexes.extension', 'pandas.core.indexes.category', 'pandas.core.indexes.numeric', 'pandas.core.indexes.range', 'pandas.core.tools', 'pandas.core.tools.timedeltas', 'pandas.core.indexes.datetimelike', 'pandas.core.tools.times', 'pandas.core.indexes.datetimes', 'pandas.core.indexes.multi', 'pandas.core.indexes.timedeltas', 'pandas.core.indexes.interval', 'pandas.core.indexes.period', 'pandas.core.indexes.api', 'pandas.core.indexing', 'pandas.core.sample', 'pandas.core.array_algos.replace', 'pandas.core.reshape', 'pandas._libs.internals', 'pandas._libs.writers', 'pandas.core.internals.blocks', 'pandas.core.internals.api', 'pandas.core.internals.base', 'pandas.core.internals.array_manager', 'pandas.core.internals.ops', 'pandas.core.internals.managers', 'pandas.core.internals.concat', 'pandas.core.internals', 'pandas.core.reshape.concat', 'mmap', 'tarfile', 'pandas.core.shared_docs', 'pandas.io.common', 'pandas.io.formats.format', 'pandas.core.describe', 'pandas.core.internals.construction', 'pandas._libs.window', 'pandas._libs.window.aggregations', 'pandas._libs.window.indexers', 'pandas.core.indexers.objects', 'pandas.core.util.numba_', 'pandas.core.window.common', 'pandas.core.window.doc', 'pandas.core.window.numba_', 'pandas.core.window.online', 'pandas.core._numba', 'pandas.core._numba.executor', 'pandas.core.window.rolling', 'pandas.core.window.ewm', 'pandas.core.window.expanding', 'pandas.core.window', 'pandas.core.generic', 'pandas.core.reshape.util', 'pandas.core.tools.numeric', 'pandas.core.reshape.melt', 'pandas._libs.reshape', 'pandas.core.indexes.accessors', 'pandas._libs.tslibs.strptime', 'pandas.arrays', 'pandas.core.tools.datetimes', 'pandas.io.formats.info', 'pandas.plotting._core', 'pandas.plotting._misc', 'pandas.plotting', 'pandas.core.series', 'pandas.core.frame', 'pandas.core.groupby.base', 'pandas._libs.groupby', 'pandas.core.groupby.numba_', 'pandas.core.groupby.categorical', 'pandas.core.groupby.grouper', 'pandas.core.groupby.ops', 'pandas.core.groupby.indexing', 'pandas.core.groupby.groupby', 'pandas.core.groupby.generic', 'pandas.core.groupby', 'pandas.core.api', 'pandas.tseries.api', 'pandas.core.computation.common', 'pandas.core.computation.align', 'pandas.compat.chainmap', 'pandas.core.computation.scope', 'pandas.core.computation.ops', 'pandas.core.computation.engines', 'pandas.core.computation.parsing', 'pandas.core.computation.expr', 'pandas.core.computation.eval', 'pandas.core.computation.api', 'pandas.core.reshape.encoding', 'pandas.core.reshape.merge', 'pandas.core.reshape.pivot', 'pandas.core.reshape.tile', 'pandas.core.reshape.api', 'pandas.api.extensions', 'pandas.api.indexers', 'pandas.core.interchange', 'pandas.core.interchange.dataframe_protocol', 'pandas.core.dtypes.api', 'pandas.api.types', 'pandas.core.interchange.buffer', 'pandas.core.interchange.utils', 'pandas.core.interchange.column', 'pandas.core.interchange.from_dataframe', 'pandas.api.interchange', 'pandas.api', 'pandas._testing._random', 'pandas._testing.contexts', 'pandas._testing._io', 'pandas._testing._warnings', 'cmath', 'pandas._libs.testing', 'pandas._testing.asserters', 'pandas._testing.compat', 'pandas._testing', 'pandas.testing', 'pandas.util._print_versions', 'pandas.io.clipboards', 'pandas._libs.parsers', 'pandas.io.excel._util', 'pandas.io.date_converters', 'pandas.io.parsers.base_parser', 'pandas.io.parsers.arrow_parser_wrapper', 'pandas.io.parsers.c_parser_wrapper', 'pandas.io.parsers.python_parser', 'pandas.io.parsers.readers', 'pandas.io.parsers', 'pandas.io.excel._odfreader', 'pandas.io.excel._openpyxl', 'pandas.io.excel._pyxlsb', 'pandas.io.excel._xlrd', 'pandas.io.excel._base', 'pandas._libs.json', 'pandas.io.excel._odswriter', 'pandas.io.excel._xlsxwriter', 'pandas.io.excel._xlwt', 'pandas.io.excel', 'pandas.io.feather_format', 'pandas.io.gbq', 'pandas.io.html', 'pandas.io.json._normalize', 'pandas.io.json._table_schema', 'pandas.io.json._json', 'pandas.io.json', 'pandas.io.orc', 'pandas.io.parquet', 'pandas.compat.pickle_compat', 'pandas.io.pickle', 'pandas.core.computation.pytables', 'pandas.io.pytables', 'pandas.io.sas.sasreader', 'pandas.io.sas', 'pandas.io.spss', 'pandas.io.sql', 'pandas.io.stata', 'pandas.io.xml', 'pandas.io.api', 'pandas.util._tester', 'pandas._version', 'pandas', 'keras.distribute', 'keras.engine', 'tensorflow.python.platform', 'tensorflow.python.platform.build_info', 'tensorflow.python.platform.self_check', 'tensorflow.python.platform._pywrap_cpu_feature_guard', 'tensorflow.python._pywrap_tensorflow_internal', 'tensorflow.python.pywrap_tensorflow', 'tensorflow.python.eager', 'absl', 'absl.flags._helpers', 'absl.flags._argument_parser', 'absl.flags._exceptions', 'absl.flags._flag', 'absl.flags._validators_classes', 'absl.flags._flagvalues', 'absl.flags._validators', 'absl.flags._defines', 'absl.flags', 'absl.logging.converter', 'absl.logging', 'tensorflow.core', 'tensorflow.core.framework', 'google.protobuf', 'google.protobuf.internal', 'google.protobuf.internal.enum_type_wrapper', 'google.protobuf.message', 'google.protobuf.internal._api_implementation', 'google.protobuf.internal.api_implementation', 'google.protobuf.pyext', 'google.protobuf.pyext._message', 'google.protobuf.descriptor', 'google.protobuf.descriptor_database', 'google.protobuf.text_encoding', 'google.protobuf.descriptor_pool', 'google.protobuf.pyext.cpp_message', 'google.protobuf.message_factory', 'google.protobuf.symbol_database', 'google.protobuf.reflection', 'google.protobuf.internal.builder', 'google.protobuf.internal.well_known_types', 'tensorflow.core.framework.tensor_shape_pb2', 'tensorflow.core.framework.types_pb2', 'tensorflow.core.framework.resource_handle_pb2', 'tensorflow.core.framework.tensor_pb2', 'tensorflow.core.framework.attr_value_pb2', 'tensorflow.core.framework.full_type_pb2', 'tensorflow.core.framework.node_def_pb2', 'tensorflow.core.framework.op_def_pb2', 'tensorflow.core.framework.function_pb2', 'tensorflow.core.protobuf', 'tensorflow.core.framework.cost_graph_pb2', 'tensorflow.core.framework.versions_pb2', 'tensorflow.core.framework.graph_pb2', 'tensorflow.core.framework.allocation_description_pb2', 'tensorflow.core.framework.tensor_description_pb2', 'tensorflow.core.framework.step_stats_pb2', 'tensorflow.core.protobuf.cluster_pb2', 'tensorflow.core.protobuf.debug_pb2', 'tensorflow.core.protobuf.verifier_config_pb2', 'tensorflow.core.protobuf.rewriter_config_pb2', 'tensorflow.tsl', 'tensorflow.tsl.protobuf', 'tensorflow.tsl.protobuf.rpc_options_pb2', 'tensorflow.core.protobuf.rpc_options_pb2', 'tensorflow.tsl.protobuf.coordination_config_pb2', 'tensorflow.core.protobuf.config_pb2', 'tensorflow.python._pywrap_tfe', 'tensorflow.python.pywrap_tfe', 'tensorflow.python.platform._pywrap_tf2', 'tensorflow.python.util', 'tensorflow.python.util.tf_decorator', 'tensorflow.python.util.tf_inspect', 'tensorflow.python.util.tf_export', 'tensorflow.python.tf2', 'tensorflow.python.client', 'tensorflow.python.client._pywrap_tf_session', 'tensorflow.python.util._tf_stack', 'tensorflow.python.util.tf_stack', 'tensorflow.python.client.pywrap_tf_session', 'tensorflow.python.eager.executor', 'tensorflow.tsl.protobuf.histogram_pb2', 'tensorflow.core.framework.summary_pb2', 'tensorflow.python.framework', 'tensorflow.core.framework.api_def_pb2', 'tensorflow.python.util.compat', 'tensorflow.python.util.tf_contextlib', 'tensorflow.python.framework.c_api_util', 'tensorflow.python.eager.monitoring', 'tensorflow.python.framework.device_spec', 'tensorflow.python.framework.device', 'tensorflow.python.framework.tfrt_utils', 'tensorflow.python.util.is_in_graph_mode', 'tensorflow.python.platform.tf_logging', 'tensorflow.python.util.decorator_utils', 'tensorflow.tools', 'tensorflow.tools.docs', 'tensorflow.tools.docs.doc_controls', 'tensorflow.python.util.deprecation', 'tensorflow.python.eager.context', 'tensorflow.python.data.experimental.ops', 'tensorflow.core.protobuf.data_service_pb2', 'tensorflow.python.data.util', 'wrapt._wrappers', 'wrapt.wrappers', 'wrapt.arguments', 'wrapt.decorators', 'wrapt.importer', 'wrapt', 'tensorflow.core.protobuf.struct_pb2', 'tensorflow.python.util._pywrap_utils', 'tensorflow.python.util._pywrap_nest', 'tensorflow.python.util.nest', 'tensorflow.python.framework.composite_tensor', 'encodings.raw_unicode_escape', 'encodings.unicode_escape', 'google.protobuf.internal.containers', 'google.protobuf.internal.wire_format', 'google.protobuf.internal.encoder', 'google.protobuf.internal.decoder', 'google.protobuf.internal.type_checkers', 'google.protobuf.text_format', 'tensorflow.core.lib', 'tensorflow.core.lib.core', 'tensorflow.tsl.protobuf.error_codes_pb2', 'tensorflow.core.lib.core.error_codes_pb2', 'tensorflow.python._pywrap_py_exception_registry', 'tensorflow.python.framework.errors_impl', 'tensorflow.python.framework.errors', 'tensorflow.python.eager.core', 'tensorflow.python.framework._dtypes', 'tensorflow.python.types', 'tensorflow.python.types.doc_typealias', 'tensorflow.python.lib', 'tensorflow.python.lib.core', 'tensorflow.python.lib.core._pywrap_bfloat16', 'tensorflow.python.lib.core._pywrap_custom_casts', 'tensorflow.python.lib.core._pywrap_float8', 'tensorflow.python.types.trace', 'tensorflow.core.function', 'google.protobuf.any_pb2', 'tensorflow.core.function.trace_type.serialization_pb2', 'tensorflow.core.function.trace_type.serialization', 'tensorflow.core.function.trace_type.default_types_pb2', 'tensorflow.core.function.trace_type.util', 'tensorflow.core.function.trace_type.default_types', 'tensorflow.core.function.trace_type.trace_type_builder', 'tensorflow.core.function.trace_type', 'tensorflow.python.framework.dtypes', 'absl.command_name', 'absl.app', 'tensorflow.python.util.lazy_loader', 'tensorflow.python.eager.tape', 'tensorflow.python.framework.cpp_shape_inference_pb2', 'tensorflow.python.framework.composite_tensor_gradient', 'tensorflow.python.framework.tensor_conversion_registry', 'tensorflow.python.framework.tensor_shape', 'tensorflow.python.types.internal', 'tensorflow.python.framework.type_spec_registry', 'tensorflow.python.framework.type_spec', 'tensorflow.python.saved_model', 'tensorflow.python.saved_model.nested_structure_coder', 'tensorflow.python.framework.indexed_slices', 'tensorflow.python.framework.registry', 'tensorflow.python.framework.traceable_stack', 'tensorflow.python.framework.versions', 'tensorflow.python.ops', 'tensorflow.python.ops.control_flow_util', 'tensorflow.python.profiler', 'tensorflow.python.profiler.internal', 'tensorflow.python.profiler.internal._pywrap_traceme', 'tensorflow.python.profiler.trace', 'tensorflow.python.types.core', 'tensorflow.python.framework._pywrap_python_api_dispatcher', 'tensorflow.python.util.traceback_utils', 'tensorflow.python.util.type_annotations', 'tensorflow.python.util.dispatch', 'tensorflow.python.util.function_utils', 'tensorflow.python.util.lock_util', 'tensorflow.python.util.object_identity', 'tensorflow.python.framework.ops', 'tensorflow.python.eager.execute', 'tensorflow.python.framework.op_callbacks', '_cython_3_0_0a11', 'tensorflow.python.framework.fast_tensor_util', 'tensorflow.python.framework.tensor_util', 'tensorflow.python.framework.constant_op', 'tensorflow.python.framework.common_shapes', 'tensorflow.python.ops.handle_data_util', 'tensorflow.python.framework.tensor_spec', 'tensorflow.python.framework._op_def_registry', 'tensorflow.python.framework.op_def_registry', 'tensorflow.core.config', 'tensorflow.python.flags_pybind', 'tensorflow.core.config.flags', 'tensorflow.python.framework._op_def_library_pybind', 'tensorflow.python.framework.op_def_library_pybind', 'tensorflow.python.framework.op_def_library', 'tensorflow.python.ops.gen_sparse_ops', 'tensorflow.python.framework.sparse_tensor', 'tensorflow.python.data.util.nest', 'tensorflow.core.framework.variable_pb2', 'tensorflow.python.checkpoint', 'tensorflow.python.training', 'tensorflow.python.training.saving', 'tensorflow.python.training.saving.saveable_object', 'tensorflow.python.checkpoint.tensor_callable', 'tensorflow.python.compat', 'tensorflow.python.compat.compat', 'tensorflow.python.framework.auto_control_deps_utils', 'google.protobuf.wrappers_pb2', 'tensorflow.core.protobuf.trackable_object_graph_pb2', 'tensorflow.core.protobuf.saved_object_graph_pb2', 'tensorflow.core.protobuf.saver_pb2', 'tensorflow.core.protobuf.meta_graph_pb2', 'tensorflow.core.protobuf.graph_debug_info_pb2', 'tensorflow.python.framework.error_interpolation', 'tensorflow.python.lib.io', 'tensorflow.python.lib.io._pywrap_file_io', 'tensorflow.python.lib.io.file_io', 'tensorflow.python.framework.graph_io', 'tensorflow.python.framework.graph_to_function_def', 'tensorflow.python.ops.gen_array_ops', 'tensorflow.python.ops.gen_math_ops', 'tensorflow.python.ops.array_ops', 'tensorflow.python.ops.gen_data_flow_ops', 'tensorflow.python.ops.session_ops', 'tensorflow.python.training.experimental', 'tensorflow.python.training.experimental.mixed_precision_global_state', 'tensorflow.python.client.session', 'tensorflow.python.ops.gen_linalg_ops', 'tensorflow.python.ops.gen_bitwise_ops', 'tensorflow.python.ops.gen_nn_ops', 'tensorflow.python.ops.math_ops', 'tensorflow.python.ops.linalg_ops_impl', 'tensorflow.python.util._pywrap_determinism', 'tensorflow.python.util._pywrap_tensor_float_32_execution', 'tensorflow.python.framework.config', 'tensorflow.python.framework.random_seed', 'tensorflow.core.protobuf.control_flow_pb2', 'tensorflow.python.ops.gen_control_flow_ops', 'tensorflow.python.ops.gen_functional_ops', 'tensorflow.python.ops.gen_logging_ops', 'tensorflow.python.ops.gen_list_ops', 'tensorflow.python.ops.list_ops', 'tensorflow.python.util.tf_should_use', 'tensorflow.python.ops.tensor_array_ops', 'tensorflow.python.util.variable_utils', 'tensorflow.python.ops.control_flow_ops', 'tensorflow.python.ops.gen_random_ops', 'tensorflow.python.ops.bitwise_ops', 'tensorflow.python.ops.gen_random_index_shuffle_ops', 'tensorflow.python.ops.gen_stateless_random_ops', 'tensorflow.python.ops.gen_stateless_random_ops_v2', 'tensorflow.python.ops.stateless_random_ops', 'tensorflow.python.ops.random_ops', 'tensorflow.python.ops.init_ops', 'tensorflow.python.ops.gen_state_ops', 'tensorflow.python.ops.gen_resource_variable_ops', 'tensorflow.python.ops.state_ops', 'tensorflow.python.trackable', 'tensorflow.python.trackable.constants', 'tensorflow.python.trackable.base', 'tensorflow.python.ops.variables', 'tensorflow.python.ops.variable_scope', 'tensorflow.python.framework.function', 'tensorflow.python.framework.importer', 'tensorflow.python.framework.meta_graph', 'tensorflow.python.ops.resource_variable_ops', 'tensorflow.python.ops.ragged', 'tensorflow.python.ops.check_ops', 'tensorflow.python.ops.gen_ragged_conversion_ops', 'tensorflow.python.ops.ragged.ragged_config', 'tensorflow.python.ops.gen_ragged_math_ops', 'tensorflow.python.ops.ragged.ragged_util', 'tensorflow.python.ops.ragged.segment_id_ops', 'tensorflow.python.ops.ragged.row_partition', 'tensorflow.python.ops.ragged.ragged_tensor_value', 'tensorflow.python.ops.ragged.ragged_tensor', 'tensorflow.python.data.util.structure', 'tensorflow.python.ops.gen_experimental_dataset_ops', 'tensorflow.python.data.experimental.ops.compression_ops', 'tensorflow.python.data.experimental.service._pywrap_server_lib', 'tensorflow.python.data.experimental.service._pywrap_utils', 'tensorflow.python.data.ops', 'tensorflow.core.framework.dataset_metadata_pb2', 'tensorflow.core.framework.model_pb2', 'tensorflow.core.framework.dataset_options_pb2', 'tensorflow.python.autograph.utils.context_managers', 'tensorflow.python.autograph.utils.misc', 'tensorflow.python.autograph.impl', 'tensorflow.python.autograph.converters', 'gast.astn', 'gast.ast3', 'gast.gast', 'gast', 'tensorflow.python.autograph.core', 'tensorflow.python.autograph.pyct', 'tensorflow.python.autograph.pyct.anno', 'astunparse.unparser', 'astunparse.printer', 'astunparse', 'tensorflow.python.autograph.pyct.errors', 'tensorflow.python.autograph.pyct.inspect_utils', 'tensorflow.python.autograph.pyct.parser', 'tensorflow.python.autograph.pyct.qual_names', 'tensorflow.python.autograph.pyct.ast_util', 'tensorflow.python.autograph.pyct.templates', 'termcolor.termcolor', 'termcolor', 'tensorflow.python.autograph.pyct.pretty_printer', 'tensorflow.python.autograph.pyct.transformer', 'tensorflow.python.autograph.core.converter', 'tensorflow.python.autograph.converters.asserts', 'tensorflow.python.autograph.pyct.static_analysis', 'tensorflow.python.autograph.pyct.static_analysis.annos', 'tensorflow.python.autograph.pyct.static_analysis.activity', 'tensorflow.python.autograph.converters.break_statements', 'tensorflow.python.autograph.utils.ag_logging', 'tensorflow.python.autograph.converters.call_trees', 'tensorflow.python.autograph.converters.conditional_expressions', 'tensorflow.python.autograph.converters.continue_statements', 'tensorflow.python.autograph.lang', 'tensorflow.python.autograph.lang.directives', 'tensorflow.python.autograph.pyct.cfg', 'difflib', 'tensorflow.python.autograph.pyct.origin_info', 'tensorflow.python.autograph.pyct.static_analysis.liveness', 'tensorflow.python.autograph.pyct.static_analysis.reaching_definitions', 'tensorflow.python.autograph.pyct.static_analysis.reaching_fndefs', 'tensorflow.python.autograph.converters.control_flow', 'tensorflow.python.autograph.converters.directives', 'tensorflow.python.autograph.converters.functions', 'tensorflow.python.autograph.converters.lists', 'tensorflow.python.autograph.converters.logical_expressions', 'tensorflow.python.autograph.converters.return_statements', 'tensorflow.python.autograph.converters.slices', 'tensorflow.python.autograph.converters.variables', 'tensorflow.python.autograph.core.ag_ctx', 'tensorflow.python.autograph.operators.variables', 'tensorflow.python.framework.auto_control_deps', 'tensorflow.python.autograph.core.function_wrappers', 'tensorflow.python.autograph.core.unsupported_features_checker', 'unittest.util', 'unittest.result', 'unittest.case', 'unittest.suite', 'unittest.loader', 'unittest.signals', 'unittest.runner', 'unittest.main', 'unittest', 'tensorflow.python.autograph.core.config_lib', 'tensorflow.python.autograph.core.config', 'tensorflow.python.autograph.pyct.cache', 'tensorflow.python.eager.polymorphic_function', 'tensorflow.core.function.polymorphism', 'tensorflow.core.function.polymorphism.function_type_pb2', 'tensorflow.core.function.polymorphism.function_type', 'tensorflow.python.eager.backprop_util', 'tensorflow.python.eager.forwardprop_util', 'tensorflow.python.eager.graph_only_ops', 'tensorflow.python.eager.polymorphic_function.attributes', 'tensorflow.python.eager.polymorphic_function.composite_tensor_utils', 'tensorflow.python.eager.polymorphic_function.function_spec', 'tensorflow.python.eager.polymorphic_function.saved_model_exported_concrete', 'tensorflow.core.function.capture', 'tensorflow.core.function.capture.capture_container', 'tensorflow.python.saved_model.save_context', 'tensorflow.python.framework.func_graph', 'tensorflow.python.ops.default_gradient', 'tensorflow.python.ops.functional_ops', 'tensorflow.python.ops.control_flow_v2_func_graphs', 'tensorflow.python.ops.control_flow_state', 'tensorflow.python.ops.unconnected_gradients', 'tensorflow.python.ops.gradients_util', 'tensorflow.python.eager.polymorphic_function.monomorphic_function', 'tensorflow.core.function.polymorphism.type_dispatch', 'tensorflow.core.function.polymorphism.function_cache', 'tensorflow.python.eager.polymorphic_function.function_context', 'tensorflow.python.eager.polymorphic_function.tracing_compiler', 'tensorflow.python.distribute', 'tensorflow.python.distribute.parallel_device', 'tensorflow.python._pywrap_parallel_device', 'tensorflow.python.distribute.device_util', 'tensorflow.python.tpu', 'tensorflow.python.tpu.ops', 'tensorflow.python.ops.gen_tpu_ops', 'tensorflow.python.tpu.tpu_function', 'tensorflow.python.tpu.ops.tpu_ops', 'tensorflow.python.distribute.parallel_device.parallel_device', 'tensorflow.python.ops.op_selector', 'tensorflow.python.eager.lift_to_graph', 'tensorflow.python.eager.polymorphic_function.compiler_ir', 'tensorflow.python.eager.polymorphic_function.polymorphic_function', 'tensorflow.python.eager.polymorphic_function.quarantine', 'tensorflow.python.eager.function', 'tensorflow.python.autograph.impl.conversion', 'tensorflow.python.autograph.operators.data_structures', 'tensorflow.python.autograph.lang.special_functions', 'tensorflow.python.autograph.pyct.error_utils', 'tensorflow.python.autograph.pyct.loader', 'tensorflow.python.autograph.pyct.naming', 'tensorflow.python.autograph.pyct.transpiler', 'tensorflow.python.autograph.impl.api', 'tensorflow.python.eager.imperative_grad', 'tensorflow.python.eager.def_function', 'tensorflow.compiler', 'tensorflow.compiler.tf2xla', 'tensorflow.compiler.tf2xla.python', 'tensorflow.compiler.tf2xla.ops', 'tensorflow.compiler.tf2xla.ops.gen_xla_ops', 'tensorflow.compiler.xla', 'tensorflow.compiler.xla.xla_data_pb2', 'opt_einsum.parser', 'opt_einsum.helpers', 'opt_einsum.blas', 'opt_einsum.paths', 'opt_einsum.path_random', 'opt_einsum.sharing', 'opt_einsum.backends.cupy', 'opt_einsum.backends.object_arrays', 'opt_einsum.backends.jax', 'opt_einsum.backends.tensorflow', 'opt_einsum.backends.theano', 'opt_einsum.backends.torch', 'opt_einsum.backends.dispatch', 'opt_einsum.backends', 'opt_einsum.contract', 'opt_einsum._version', 'opt_einsum', 'tensorflow.python.ops.gen_special_math_ops', 'tensorflow.python.ops.special_math_ops', 'tensorflow.python.ops.clip_ops', 'tensorflow.python.ops.map_fn', 'tensorflow.python.ops.linalg_ops', 'tensorflow.python.ops.gen_manip_ops', 'tensorflow.python.ops.manip_ops', 'tensorflow.python.framework._proto_comparators', 'tensorflow.python.framework.graph_util_impl', 'tensorflow.python.framework.graph_util', 'tensorflow.python.platform.device_context', 'tensorflow.python.ops.nn_ops', 'tensorflow.python.ops.sort_ops', 'tensorflow.python.ops.numpy_ops.np_export', 'tensorflow.python.ops.numpy_ops.np_dtypes', 'tensorflow.python.ops.numpy_ops.np_arrays', 'tensorflow.python.ops.numpy_ops.np_utils', 'tensorflow.python.ops.numpy_ops.np_array_ops', 'tensorflow.python.ops.numpy_ops.np_random', 'tensorflow.python.ops.numpy_ops.np_math_ops', 'tensorflow.python.ops.numpy_ops.np_config', 'tensorflow.python.ops.numpy_ops', 'tensorflow.compiler.tf2xla.python.xla', 'tensorflow.python.framework.smart_cond', 'tensorflow.python.lib.io._pywrap_record_io', 'tensorflow.python.lib.io.tf_record', 'tensorflow.python.lib.io.python_io', 'tensorflow.python.ops.data_flow_ops', 'tensorflow.python.ops.gen_image_ops', 'tensorflow.python.ops.gen_optional_ops', 'tensorflow.python.ops.gen_parsing_ops', 'tensorflow.python.ops.gen_spectral_ops', 'tensorflow.python.ops.sparse_ops', 'tensorflow.python.ops.ragged.ragged_functional_ops', 'tensorflow.python.ops.ragged.ragged_math_ops', 'tensorflow.python.ops.parsing_config', 'tensorflow.python.ops.parsing_ops', 'tensorflow.python.platform.flags', 'tensorflow.python.ops.parallel_for.pfor', 'tensorflow.python.ops.parallel_for.control_flow_ops', 'tensorflow.python.ops.array_grad', 'tensorflow.python.ops.control_flow_grad', 'tensorflow.python.ops.image_grad', 'tensorflow.python.ops.linalg', 'tensorflow.python.ops.linalg.linalg_impl', 'tensorflow.python.ops.linalg_grad', 'tensorflow.python.ops.gen_string_ops', 'tensorflow.python.ops.string_ops', 'tensorflow.python.ops.logging_ops', 'tensorflow.python.ops.manip_grad', 'tensorflow.python.ops.math_grad', 'tensorflow.python.ops.optional_grad', 'tensorflow.python.ops.random_grad', 'tensorflow.python.ops.gradients_impl', 'tensorflow.python.ops.parallel_for.gradients', 'tensorflow.python.ops.parallel_for', 'tensorflow.python.eager.backprop', 'tensorflow.python.lib.core._pywrap_py_func', 'tensorflow.python.ops.gen_script_ops', 'tensorflow.python.ops.script_ops', 'tensorflow.python.autograph.utils.py_func', 'tensorflow.python.autograph.utils.tensor_list', 'tensorflow.python.autograph.utils', 'tensorflow.python.autograph.utils.tensors', 'tensorflow.python.autograph.utils.type_registry', 'tensorflow.python.autograph.operators.py_builtins', 'tensorflow.python.types.distribute', 'tensorflow.python.autograph.operators.control_flow', 'tensorflow.python.autograph.operators.conditional_expressions', 'tensorflow.python.autograph.operators.exceptions', 'tensorflow.python.autograph.operators.logical', 'tensorflow.python.autograph.operators.slices', 'tensorflow.python.autograph.operators', 'tensorflow.python.util.all_util', 'tensorflow.python.autograph', 'tensorflow.python.data.experimental.ops.take_while_ops', 'tensorflow.python.data.ops.dataset_autograph', 'tensorflow.python.data.ops.debug_mode', 'tensorflow.python.checkpoint.saveable_compat', 'tensorflow.python.data.ops.iterator_autograph', 'tensorflow.python.data.ops.optional_ops', 'tensorflow.python.data.util.options', 'tensorflow.python.data.ops.options', 'tensorflow.python.ops.gen_dataset_ops', 'tensorflow.python.training.training_util', 'tensorflow.python.training.checkpoint_state_pb2', 'tensorflow.python.checkpoint.checkpoint_management', 'tensorflow.python.ops.gen_io_ops', 'tensorflow.python.ops.io_ops', 'tensorflow.python.platform.gfile', 'tensorflow.python.saved_model.pywrap_saved_model.constants', 'tensorflow.python.saved_model.pywrap_saved_model.metrics', 'tensorflow.python.saved_model.pywrap_saved_model.fingerprinting', 'tensorflow.python.saved_model.pywrap_saved_model', 'tensorflow.python.util._pywrap_checkpoint_reader', 'tensorflow.python.training.py_checkpoint_reader', 'tensorflow.python.trackable.python_state', 'tensorflow.python.trackable.trackable_utils', 'tensorflow.python.training.saving.saveable_object_util', 'tensorflow.python.training.saver', 'tensorflow.python.data.ops.iterator_ops', 'tensorflow.python.data.ops.structured_function', 'tensorflow.python.data.util.traverse', 'tensorflow.python.saved_model.constants', 'tensorflow.python.saved_model.path_helpers', 'tensorflow.python.trackable.asset', 'tensorflow.python.trackable.resource', 'tensorflow.python.types.data', 'tensorflow.python.data.ops.batch_op', 'tensorflow.python.data.ops.prefetch_op', 'tensorflow.python.data.util.random_seed', 'tensorflow.python.data.ops.shuffle_op', 'tensorflow.python.data.ops.repeat_op', 'tensorflow.python.data.ops.dataset_ops', 'tensorflow.python.data.experimental.ops.data_service_ops', 'tensorflow.core.protobuf.service_config_pb2', 'tensorflow.python.data.experimental.service.server_lib', 'tensorflow.python.data.experimental.service', 'tensorflow.python.data.util.convert', 'tensorflow.python.data.experimental.ops.batching', 'tensorflow.python.data.experimental.ops.cardinality', 'tensorflow.python.data.experimental.ops.counter', 'tensorflow.python.data.experimental.ops.distribute', 'tensorflow.python.data.experimental.ops.enumerate_ops', 'tensorflow.python.data.experimental.ops.error_ops', 'tensorflow.python.data.experimental.ops.from_list', 'tensorflow.python.data.experimental.ops.get_single_element', 'tensorflow.python.data.experimental.ops.grouping', 'tensorflow.python.data.ops.from_tensor_slices_op', 'tensorflow.python.data.ops.readers', 'tensorflow.python.data.experimental.ops.interleave_ops', 'tensorflow.python.data.experimental.ops.io', 'tensorflow.core.util', 'tensorflow.core.util.event_pb2', 'tensorflow.python.client.timeline', 'tensorflow.python.training.session_run_hook', 'tensorflow.python.summary', 'tensorflow.python.summary.summary_iterator', 'tensorflow.python.summary.writer', 'tensorflow.python.summary.plugin_asset', 'tensorflow.python.client._pywrap_events_writer', 'tensorflow.python.summary.writer.event_file_writer', 'tensorflow.python.profiler.internal._pywrap_profiler', 'tensorflow.python.eager.profiler', 'tensorflow.python.ops.gen_summary_ops', 'tensorflow.python.ops.summary_op_util', 'tensorflow.python.ops.summary_ops_v2', 'tensorflow.python.summary.writer.event_file_writer_v2', 'tensorflow.python.summary.writer.writer', 'tensorflow.python.summary.writer.writer_cache', 'tensorflow.python.training.summary_io', 'tensorflow.python.training.basic_session_run_hooks', 'tensorflow.python.data.experimental.ops.iterator_ops', 'tensorflow.python.ops.gen_lookup_ops', 'tensorflow.python.saved_model.registration.registration', 'tensorflow.python.saved_model.registration', 'tensorflow.python.ops.lookup_ops', 'tensorflow.python.data.experimental.ops.lookup_ops', 'tensorflow.python.data.experimental.ops.parsing_ops', 'tensorflow.python.data.experimental.ops.prefetching_ops', 'tensorflow.python.data.experimental.ops.random_access', 'tensorflow.python.data.ops.random_op', 'tensorflow.python.data.experimental.ops.random_ops', 'tensorflow.python.data.ops.map_op', 'tensorflow.python.data.experimental.ops.readers', 'tensorflow.python.data.experimental.ops.resampling', 'tensorflow.python.data.experimental.ops.scan_ops', 'tensorflow.python.data.experimental.ops.shuffle_ops', 'tensorflow.python.data.experimental.ops.snapshot', 'tensorflow.python.data.experimental.ops.unique', 'tensorflow.python.data.experimental.ops.writers', 'tensorflow.python.data.experimental', 'tensorflow.python.data', 'tensorflow.python.feature_column', 'tensorflow.python.feature_column.utils', 'tensorflow.python.layers', 'tensorflow.python.keras.distribute', 'tensorflow.python.distribute.distribution_strategy_context', 'tensorflow.python.keras.backend_config', 'tensorflow.python.checkpoint.checkpoint_options', 'tensorflow.python.checkpoint.functional_saver', 'tensorflow.python.distribute.collective_util', 'tensorflow.python.distribute.numpy_dataset', 'tensorflow.python.distribute.reduce_util', 'tensorflow.python.distribute.packed_distributed_variable', 'tensorflow.python.saved_model.save_options', 'tensorflow.python.distribute.values_util', 'tensorflow.python.distribute.values', 'tensorflow.python.ops.custom_gradient', 'tensorflow.python.ops.losses', 'tensorflow.python.ops.confusion_matrix', 'tensorflow.python.ops.gen_ctc_ops', 'tensorflow.python.ops.inplace_ops', 'tensorflow.python.ops.nn_grad', 'tensorflow.python.ops.ctc_ops', 'tensorflow.python.ops.data_flow_grad', 'tensorflow.python.ops.embedding_ops', 'tensorflow.python.ops.gen_candidate_sampling_ops', 'tensorflow.python.ops.candidate_sampling_ops', 'tensorflow.python.ops.losses.util', 'tensorflow.python.ops.nn_impl', 'tensorflow.python.ops.nn', 'tensorflow.python.ops.gen_set_ops', 'tensorflow.python.ops.sets_impl', 'tensorflow.python.ops.sets', 'tensorflow.python.ops.weights_broadcast_ops', 'tensorflow.python.ops.losses.losses_impl', 'tensorflow.python.distribute.distribute_lib', 'tensorflow.python.compiler', 'tensorflow.python.compiler.xla.jit', 'tensorflow.compiler.jit', 'tensorflow.compiler.jit.ops', 'tensorflow.compiler.jit.ops.xla_ops', 'tensorflow.compiler.jit.ops.xla_ops_grad', 'tensorflow.python.distribute.summary_op_util', 'tensorflow.python.compiler.xla.xla', 'tensorflow.python.compiler.xla', 'tensorflow.python.compiler.xla.experimental', 'tensorflow.python.compiler.xla.experimental.xla_sharding', 'tensorflow.core.protobuf.tpu', 'tensorflow.core.protobuf.tpu.dynamic_padding_pb2', 'tensorflow.compiler.xla.service', 'tensorflow.compiler.xla.service.hlo_pb2', 'tensorflow.core.protobuf.tpu.optimization_parameters_pb2', 'tensorflow.core.protobuf.tpu.tpu_embedding_configuration_pb2', 'tensorflow.core.protobuf.tpu.topology_pb2', 'tensorflow.python.tpu.topology', 'tensorflow.python.tpu.device_assignment', 'tensorflow.python.tpu.tpu_name_util', 'tensorflow.python.tpu.tpu_sharding', 'tensorflow.python.tpu.tpu_feed', 'tensorflow.python.tpu.tpu', 'tensorflow.python.distribute.tpu_util', 'tensorflow.python.ops.gen_tpu_partition_ops', 'tensorflow.python.distribute.tpu_replicated_variable', 'tensorflow.python.distribute.tpu_values', 'tensorflow.python.distribute.distribute_utils', 'tensorflow.python.eager.forwardprop', 'tensorflow.python.ops.gradients', 'tensorflow.python.training.slot_creator', 'tensorflow.python.training.optimizer', 'tensorflow.python.checkpoint.util', 'tensorflow.python.checkpoint.save_util_v1', 'tensorflow.python.eager.polymorphic_function.saved_model_utils', 'tensorflow.python.saved_model.revived_types', 'tensorflow.python.trackable.layer_utils', 'tensorflow.python.trackable.data_structures', 'tensorflow.python.trackable.converter', 'tensorflow.python.checkpoint.trackable_view', 'tensorflow.python.checkpoint.graph_view', 'tensorflow.python.checkpoint.checkpoint_view', 'tensorflow.python.checkpoint.restore', 'tensorflow.python.checkpoint.save_util', 'tensorflow.python.trackable.autotrackable', 'tensorflow.python.checkpoint.checkpoint', 'tensorflow.python.distribute.distribute_coordinator_context', 'tensorflow.python.ops.resources', 'google.protobuf.json_format', 'tensorflow.python.summary.summary', 'tensorflow.python.training.coordinator', 'tensorflow.core.protobuf.error_codes_pb2', 'tensorflow.core.protobuf.queue_runner_pb2', 'tensorflow.python.training.queue_runner_impl', 'tensorflow.python.training.queue_runner', 'tensorflow.python.training.session_manager', 'tensorflow.python.training.monitored_session', 'tensorflow.core.protobuf.device_filters_pb2', 'tensorflow.core.protobuf.tensorflow_server_pb2', 'tensorflow.python.training.server_lib', 'tensorflow.python.keras.distribute.distribute_coordinator_utils', 'tensorflow.python.keras.engine', 'tensorflow.python.keras.utils', 'tensorflow.python.keras.utils.object_identity', 'tensorflow.python.ops.gen_ragged_array_ops', 'tensorflow.python.framework.immutable_dict', 'tensorflow.python.framework.extension_type_field', 'tensorflow.core.protobuf.composite_tensor_variant_pb2', 'tensorflow.python.ops.gen_composite_tensor_ops', 'tensorflow.python.ops.composite_tensor_ops', 'tensorflow.python.framework.extension_type', 'tensorflow.python.ops.ragged.dynamic_ragged_shape', 'tensorflow.python.ops.ragged.ragged_array_ops', 'tensorflow.python.ops.ragged.ragged_gather_ops', 'tensorflow.python.ops.ragged.ragged_getitem', 'tensorflow.python.ops.ragged.ragged_operators', 'tensorflow.python.keras.engine.keras_tensor', 'tensorflow.python.keras.utils.control_flow_util', 'tensorflow.python.keras.utils.tf_contextlib', 'tensorflow.python.keras.utils.tf_inspect', 'tensorflow.python.ops.image_ops_impl', 'tensorflow.python.ops.image_ops', 'tensorflow.python.ops.tensor_array_grad', 'tensorflow.python.training.moving_averages', 'tensorflow.python.keras.backend', 'tensorflow.python.keras.distribute.distributed_training_utils', 'tensorflow.python.keras.utils.generic_utils', 'tensorflow.python.keras.constraints', 'tensorflow.python.keras.initializers.initializers_v1', 'tensorflow.python.keras.initializers.initializers_v2', 'tensorflow.python.keras.initializers', 'tensorflow.python.keras.regularizers', 'tensorflow.python.distribute.coordinator', 'multiprocessing.process', 'multiprocessing.reduction', 'multiprocessing.context', '__mp_main__', 'multiprocessing', 'multiprocessing.dummy.connection', 'multiprocessing.dummy', 'multiprocessing.util', '_multiprocessing', 'multiprocessing.connection', 'multiprocessing.pool', 'tensorflow.core.framework.device_attributes_pb2', 'tensorflow.python.client._pywrap_device_lib', 'tensorflow.python.client.device_lib', 'tensorflow.python.ops.gen_collective_ops', 'tensorflow.python.ops.collective_ops', 'tensorflow.python.ops.gen_nccl_ops', 'tensorflow.python.ops.nccl_ops', 'tensorflow.python.distribute.cross_device_utils', 'tensorflow.python.distribute.coordinator.coordinator_context', 'tensorflow.python.distribute.ps_values', 'tensorflow.core.framework.kernel_def_pb2', 'tensorflow.python.framework.kernels', 'tensorflow.python.distribute.cross_device_ops', 'tensorflow.python.ops.structured', 'tensorflow.python.ops.ragged.ragged_factory_ops', 'tensorflow.python.ops.structured.structured_tensor', 'tensorflow.python.framework.type_utils', 'tensorflow.python.data.ops.multi_device_iterator_ops', 'tensorflow.python.distribute.input_ops', 'tensorflow.python.distribute.input_lib', 'tensorflow.python.distribute.v1', 'tensorflow.python.distribute.v1.input_lib', 'tensorflow.python.distribute.input_util', 'tensorflow.python.distribute.shared_variable_creator', 'tensorflow.python.distribute.mirrored_run', 'tensorflow.python.distribute.multi_worker_util', 'tensorflow.python.distribute.cluster_resolver.cluster_resolver', 'googleapiclient', 'email.generator', 'email.mime', 'email.contentmanager', 'email.policy', 'email.mime.base', 'email.mime.multipart', 'email.mime.nonmultipart', 'google.api_core.version', 'google.api_core', 'google.api_core.client_options', 'google.auth.version', 'google.auth.environment_vars', 'google.auth.exceptions', 'google.auth.transport', 'six.moves.urllib', 'google.auth.transport._http_client', 'google.auth._default', 'google.auth', 'google.auth.transport._mtls_helper', 'google.auth.transport.mtls', 'google.oauth2', 'google.auth._helpers', 'google.auth.crypt.base', 'cryptography.__about__', 'cryptography.utils', 'cryptography', 'cryptography.exceptions', 'cryptography.hazmat', 'cryptography.hazmat.backends', 'cryptography.hazmat.primitives', 'cryptography.hazmat.primitives.hashes', 'cryptography.hazmat.primitives._serialization', 'cryptography.hazmat.primitives.asymmetric', 'cryptography.hazmat.primitives.asymmetric.dh', 'cryptography.hazmat.bindings', '_cffi_backend', '_openssl.lib', '_openssl', 'cryptography.hazmat.bindings._rust', 'cryptography.hazmat.primitives.asymmetric.utils', 'cryptography.hazmat.primitives.asymmetric.dsa', 'cryptography.hazmat._oid', 'cryptography.hazmat.primitives.asymmetric.ec', 'cryptography.hazmat.primitives.asymmetric.ed448', 'cryptography.hazmat.primitives.asymmetric.ed25519', 'cryptography.hazmat.primitives._asymmetric', 'cryptography.hazmat.primitives.asymmetric.rsa', 'cryptography.hazmat.primitives.asymmetric.x448', 'cryptography.hazmat.primitives.asymmetric.x25519', 'cryptography.hazmat.primitives.asymmetric.types', 'cryptography.hazmat.primitives.serialization.base', 'cryptography.hazmat.primitives.asymmetric.padding', 'cryptography.hazmat.primitives._cipheralgorithm', 'cryptography.hazmat.primitives.ciphers.algorithms', 'cryptography.hazmat.primitives.ciphers.modes', 'cryptography.hazmat.primitives.ciphers.base', 'cryptography.hazmat.primitives.ciphers', 'cryptography.hazmat.primitives.serialization.ssh', 'cryptography.hazmat.primitives.serialization', 'cryptography.x509.certificate_transparency', 'ipaddress', 'cryptography.hazmat.primitives.constant_time', 'cryptography.x509.oid', 'cryptography.x509.name', 'cryptography.x509.general_name', 'cryptography.x509.extensions', 'cryptography.x509.base', 'cryptography.x509', 'cryptography.hazmat.backends.openssl.aead', 'cryptography.hazmat.backends.openssl.ciphers', 'cryptography.hazmat.backends.openssl.cmac', 'cryptography.hazmat.backends.openssl.dh', 'cryptography.hazmat.backends.openssl.utils', 'cryptography.hazmat.backends.openssl.dsa', 'cryptography.hazmat.backends.openssl.ec', 'cryptography.hazmat.backends.openssl.ed448', 'cryptography.hazmat.backends.openssl.ed25519', 'cryptography.hazmat.backends.openssl.hashes', 'cryptography.hazmat.backends.openssl.hmac', 'cryptography.hazmat.backends.openssl.poly1305', 'cryptography.hazmat.backends.openssl.rsa', 'cryptography.hazmat.backends.openssl.x448', 'cryptography.hazmat.bindings.openssl', 'cryptography.hazmat.bindings.openssl._conditional', 'cryptography.hazmat.bindings.openssl.binding', 'cryptography.hazmat.primitives.kdf', 'cryptography.hazmat.primitives.kdf.scrypt', 'cryptography.hazmat.primitives.serialization.pkcs12', 'cryptography.hazmat.backends.openssl.backend', 'cryptography.hazmat.backends.openssl', 'google.auth.crypt._cryptography_rsa', 'google.auth.crypt.rsa', 'google.auth.crypt.es256', 'google.auth.crypt', 'google.auth._service_account_info', 'google.auth.credentials', 'cachetools.keys', 'cachetools', 'google.auth.jwt', 'google.auth._exponential_backoff', 'google.oauth2._client', 'google.oauth2.service_account', 'uritemplate.variable', 'uritemplate.orderedset', 'uritemplate.template', 'uritemplate.api', 'uritemplate', 'google_auth_httplib2', 'oauth2client', 'oauth2client._helpers', 'oauth2client._pkce', 'oauth2client.clientsecrets', 'oauth2client.transport', 'pyasn1', 'pyasn1.codec', 'pyasn1.codec.der', 'pyasn1.codec.cer', 'pyasn1.error', 'pyasn1.type', 'pyasn1.codec.ber', 'pyasn1.type.error', 'pyasn1.type.constraint', 'pyasn1.type.tag', 'pyasn1.type.tagmap', 'pyasn1.type.base', 'pyasn1.codec.ber.eoo', 'pyasn1.compat', 'pyasn1.compat.octets', 'pyasn1.compat.integer', 'pyasn1.type.namedtype', 'pyasn1.type.namedval', 'pyasn1.type.univ', 'pyasn1.codec.streaming', 'pyasn1.debug', 'pyasn1.type.char', 'pyasn1.type.useful', 'pyasn1.codec.ber.decoder', 'pyasn1.codec.cer.decoder', 'pyasn1.codec.der.decoder', 'pyasn1_modules', 'pyasn1_modules.pem', 'pyasn1.type.opentype', 'pyasn1_modules.rfc2459', 'pyasn1_modules.rfc2251', 'pyasn1_modules.rfc5208', 'rsa.common', 'rsa.transform', 'rsa.randnum', 'rsa.prime', 'rsa.pem', 'rsa.core', 'rsa.key', 'rsa.pkcs1', 'rsa', 'oauth2client._pure_python_crypt', 'oauth2client.crypt', 'oauth2client.client', 'googleapiclient._auth', 'googleapiclient.mimeparse', 'googleapiclient._helpers', 'googleapiclient.errors', 'googleapiclient.version', 'googleapiclient.model', 'googleapiclient.http', 'googleapiclient.schema', 'googleapiclient.discovery', 'tensorflow.python.distribute.cluster_resolver.gce_cluster_resolver', 'tensorflow.python.distribute.cluster_resolver.kubernetes_cluster_resolver', 'tensorflow.python.distribute.cluster_resolver.slurm_cluster_resolver', 'tensorflow.python.distribute.cluster_resolver.tfconfig_cluster_resolver', 'tensorflow.python.distribute.cluster_resolver.tpu', 'tensorflow.python.tpu.tpu_system_metadata', 'tensorflow.python.tpu.client', 'tensorflow.python.tpu.client.client', 'tensorflow.python.distribute.cluster_resolver.tpu.tpu_cluster_resolver', 'tensorflow.python.distribute.cluster_resolver.tpu_cluster_resolver', 'tensorflow.python.distribute.cluster_resolver', 'tensorflow.python.training.device_setter', 'tensorflow.python.distribute.parameter_server_strategy', 'tensorflow.python.ops.partitioned_variables', 'tensorflow.python.distribute.sharded_variable', 'tensorflow.python.platform.remote_utils', 'tensorflow.python.eager.remote', 'tensorflow.python.util.keras_deps', 'tensorflow.python.distribute.parameter_server_strategy_v2', 'tensorflow.python.distribute.coordinator.metric_utils', 'tensorflow.python.distribute.coordinator.values', 'tensorflow.python.distribute.coordinator.watchdog', 'tensorflow.python.eager.cancellation', 'tensorflow.python.distribute.coordinator.cluster_coordinator', 'tensorflow.python.keras.utils.tf_utils', 'tensorflow.python.keras.engine.base_layer_utils', 'tensorflow.python.keras.engine.input_spec', 'tensorflow.python.keras.saving', 'tensorflow.python.keras.saving.saved_model', 'tensorflow.python.keras.saving.saved_model.json_utils', 'tensorflow.python.keras.engine.node', 'tensorflow.python.keras.mixed_precision', 'tensorflow.python.keras.mixed_precision.autocast_variable', 'tensorflow.python.distribute.mirrored_strategy', 'tensorflow.python.tpu.tpu_strategy_util', 'tensorflow.python.distribute.collective_all_reduce_strategy', 'tensorflow.python.distribute.one_device_strategy', 'tensorflow.python.tpu.tpu_hardware_feature', 'tensorflow.python.platform.analytics', 'tensorflow.python.tpu.tensor_tracer_flags', 'tensorflow.python.tpu.tensor_tracer_pb2', 'tensorflow.python.tpu.tensor_tracer_report', 'tensorflow.python.tpu.tensor_tracer', 'tensorflow.python.tpu.training_loop', 'tensorflow.python.distribute.tpu_strategy', 'tensorflow.python.keras.optimizer_v1', 'tensorflow.python.keras.optimizer_v2', 'tensorflow.python.distribute.central_storage_strategy', 'tensorflow.python.keras.optimizer_v2.learning_rate_schedule', 'tensorflow.python.keras.optimizer_v2.utils', 'tensorflow.python.keras.utils.layer_utils', 'tensorflow.python.keras.optimizer_v2.optimizer_v2', 'tensorflow.python.ops.gen_training_ops', 'tensorflow.python.training.gen_training_ops', 'tensorflow.python.keras.optimizer_v2.adadelta', 'tensorflow.python.keras.optimizer_v2.adagrad', 'tensorflow.python.keras.optimizer_v2.adam', 'tensorflow.python.keras.optimizer_v2.adamax', 'tensorflow.python.keras.optimizer_v2.ftrl', 'tensorflow.python.keras.optimizer_v2.gradient_descent', 'tensorflow.python.keras.optimizer_v2.nadam', 'tensorflow.python.keras.optimizer_v2.rmsprop', 'tensorflow.python.keras.optimizers', 'tensorflow.python.training.experimental.loss_scale', 'tensorflow.python.keras.mixed_precision.loss_scale', 'tensorflow.python.trackable.base_delegate', 'tensorflow.python.training.experimental.loss_scale_optimizer', 'tensorflow.python.training.experimental.mixed_precision', 'tensorflow.python.keras.mixed_precision.loss_scale_optimizer', 'tensorflow.python.keras.mixed_precision.device_compatibility_check', 'tensorflow.python.keras.mixed_precision.policy', 'tensorflow.python.keras.saving.saved_model.utils', 'tensorflow.python.keras.saving.saved_model.base_serialization', 'tensorflow.python.keras.saving.saved_model.constants', 'tensorflow.python.keras.utils.losses_utils', 'tensorflow.python.ops.ragged.ragged_map_ops', 'tensorflow.python.keras.losses', 'tensorflow.python.keras.utils.version_utils', 'tensorflow.python.keras.utils.io_utils', 'tensorflow.python.keras.saving.saving_utils', 'tensorflow.python.keras.protobuf', 'tensorflow.python.keras.protobuf.versions_pb2', 'tensorflow.python.keras.protobuf.saved_metadata_pb2', 'tensorflow.python.keras.saving.saved_model.serialized_attributes', 'tensorflow.python.keras.utils.metrics_utils', 'tensorflow.python.framework.function_def_to_graph', 'tensorflow.python.saved_model.function_deserialization', 'tensorflow.python.saved_model.load_options', 'tensorflow.python.eager.wrap_function', 'tensorflow.core.protobuf.saved_model_pb2', 'tensorflow.python.saved_model.signature_constants', 'tensorflow.python.saved_model.utils_impl', 'tensorflow.python.saved_model.signature_def_utils_impl', 'tensorflow.python.saved_model.signature_def_utils', 'tensorflow.python.saved_model.loader_impl', 'tensorflow.python.saved_model.function_serialization', 'tensorflow.python.saved_model.signature_serialization', 'tensorflow.python.saved_model.load_v1_in_v2', 'tensorflow.python.saved_model.load', 'tensorflow.python.keras.saving.saved_model.load', 'tensorflow.python.keras.saving.saved_model.save_impl', 'tensorflow.python.keras.saving.saved_model.layer_serialization', 'tensorflow.python.module', 'tensorflow.python.module.module', 'tensorflow.python.keras.engine.base_layer', 'tensorflow.python.keras.engine.input_layer', 'tensorflow.python.keras.engine.training_utils', 'six.moves.urllib.request', 'tensorflow.python.keras.utils.data_utils', 'tensorflow.python.keras.utils.dataset_creator', 'tensorflow.python.keras.engine.data_adapter', 'tensorflow.python.keras.engine.base_preprocessing_layer', 'tensorflow.python.keras.layers.advanced_activations', 'tensorflow.python.keras.utils.conv_utils', 'tensorflow.python.keras.layers.pooling', 'tensorflow.python.keras.layers.convolutional', 'tensorflow.python.ops.gen_cudnn_rnn_ops', 'tensorflow.python.ops.cudnn_rnn_grad', 'tensorflow.python.ops.gen_rnn_ops', 'tensorflow.python.ops.rnn_grad', 'tensorflow.python.ops.sparse_grad', 'tensorflow.python.ops.state_grad', 'tensorflow.python.ops.gen_batch_ops', 'tensorflow.python.ops.batch_ops', 'tensorflow.python.ops.critical_section_ops', 'tensorflow.python.ops.histogram_ops', 'tensorflow.python.ops.numerics', 'tensorflow.python.ops.gen_decode_proto_ops', 'tensorflow.python.ops.gen_encode_proto_ops', 'tensorflow.python.ops.proto_ops', 'tensorflow.python.ops.ragged.ragged_tensor_shape', 'tensorflow.python.ops.ragged.ragged_dispatch', 'tensorflow.python.ops.template', 'tensorflow.compiler.tf2tensorrt', 'tensorflow.compiler.tf2tensorrt._pywrap_py_utils', 'tensorflow.python.compiler.tensorrt.utils', 'tensorflow.python.grappler', 'tensorflow.python.grappler._pywrap_tf_optimizer', 'tensorflow.core.grappler', 'tensorflow.core.grappler.costs', 'tensorflow.core.protobuf.device_properties_pb2', 'tensorflow.core.grappler.costs.op_performance_data_pb2', 'tensorflow.python.grappler._pywrap_tf_cluster', 'tensorflow.python.grappler.cluster', 'tensorflow.python.grappler.tf_optimizer', 'tensorflow.python.framework.convert_to_constants', 'tensorflow.python.saved_model.builder_impl', 'tensorflow.python.saved_model.builder', 'tensorflow.python.saved_model.loader', 'tensorflow.core.protobuf.fingerprint_pb2', 'tensorflow.python.saved_model.tag_constants', 'tensorflow.python.saved_model.tracing_utils', 'tensorflow.python.saved_model.save', 'tensorflow.compiler.tf2tensorrt.ops', 'tensorflow.compiler.tf2tensorrt.ops.gen_trt_ops', 'tensorflow.python.compiler.tensorrt.trt_convert', 'tensorflow.python.compiler.tensorrt', 'tensorflow.python.ops.standard_ops', 'tensorflow.python.keras.layers.core', 'tensorflow.python.keras.layers.dense_attention', 'tensorflow.python.keras.layers.embeddings', 'tensorflow.python.keras.layers.merge', 'tensorflow.python.keras.layers.recurrent', 'tensorflow.python.platform.sysconfig', 'tensorflow.python.keras.layers.recurrent_v2', 'tensorflow.python.keras.layers.convolutional_recurrent', 'tensorflow.python.keras.layers.cudnn_recurrent', 'tensorflow.python.keras.layers.legacy_rnn', 'tensorflow.python.keras.layers.legacy_rnn.rnn_cell_wrapper_impl', 'tensorflow.python.keras.layers.rnn_cell_wrapper_v2', 'tensorflow.python.keras.layers.serialization', 'tensorflow.python.keras.layers', 'tensorflow.python.keras.activations', 'tensorflow.python.keras.saving.saved_model.metric_serialization', 'tensorflow.python.keras.metrics', 'tensorflow.python.keras.distribute.distributed_file_utils', 'tensorflow.python.saved_model.model_utils.export_output', 'tensorflow.python.saved_model.utils', 'tensorflow.python.saved_model.model_utils.mode_keys', 'tensorflow.python.saved_model.model_utils.export_utils', 'tensorflow.python.saved_model.model_utils', 'tensorflow.python.keras.utils.mode_keys', 'tensorflow.python.keras.distribute.worker_training_state', 'tensorflow.python.profiler.profiler_v2', 'urllib3.packages', 'urllib3.packages.six', 'urllib3.packages.six.moves', 'urllib3.packages.six.moves.http_client', 'urllib3.exceptions', 'urllib3._version', 'urllib3.contrib', 'urllib3.contrib._appengine_environ', 'urllib3.util.wait', 'urllib3.util.connection', 'urllib3.util.request', 'urllib3.util.response', 'urllib3.util.retry', 'urllib3.util.url', 'urllib3.util.ssltransport', 'urllib3.util.ssl_', 'urllib3.util.timeout', 'urllib3.util', 'urllib3.util.proxy', 'urllib3._collections', 'urllib3.util.ssl_match_hostname', 'urllib3.connection', 'urllib3.fields', 'urllib3.filepost', 'urllib3.packages.six.moves.urllib', 'urllib3.packages.six.moves.urllib.parse', 'urllib3.request', 'urllib3.response', 'urllib3.util.queue', 'urllib3.connectionpool', 'urllib3.poolmanager', 'urllib3', 'chardet.enums', 'chardet.charsetprober', 'chardet.charsetgroupprober', 'chardet.codingstatemachine', 'chardet.escsm', 'chardet.escprober', 'chardet.latin1prober', 'chardet.mbcssm', 'chardet.utf8prober', 'chardet.mbcharsetprober', 'chardet.euctwfreq', 'chardet.euckrfreq', 'chardet.gb2312freq', 'chardet.big5freq', 'chardet.jisfreq', 'chardet.chardistribution', 'chardet.jpcntx', 'chardet.sjisprober', 'chardet.eucjpprober', 'chardet.gb2312prober', 'chardet.euckrprober', 'chardet.cp949prober', 'chardet.big5prober', 'chardet.euctwprober', 'chardet.mbcsgroupprober', 'chardet.hebrewprober', 'chardet.sbcharsetprober', 'chardet.langbulgarianmodel', 'chardet.langgreekmodel', 'chardet.langhebrewmodel', 'chardet.langrussianmodel', 'chardet.langthaimodel', 'chardet.langturkishmodel', 'chardet.sbcsgroupprober', 'chardet.universaldetector', 'chardet.version', 'chardet', 'http.cookiejar', 'http.cookies', 'requests.compat', 'requests.exceptions', 'charset_normalizer.assets', 'charset_normalizer.constant', '_multibytecodec', 'charset_normalizer.utils', 'charset_normalizer.md', 'charset_normalizer.models', 'charset_normalizer.cd', 'charset_normalizer.api', 'charset_normalizer.legacy', 'charset_normalizer.version', 'charset_normalizer', 'requests.__version__', 'requests.certs', 'requests._internal_utils', 'requests.cookies', 'requests.structures', 'requests.utils', 'requests.packages.urllib3.packages', 'requests.packages.urllib3.packages.six', 'requests.packages.urllib3.packages.six.moves', 'requests.packages.urllib3.packages.six.moves.http_client', 'requests.packages.urllib3.exceptions', 'requests.packages.urllib3._version', 'requests.packages.urllib3.contrib', 'requests.packages.urllib3.contrib._appengine_environ', 'requests.packages.urllib3.util.wait', 'requests.packages.urllib3.util.connection', 'requests.packages.urllib3.util.request', 'requests.packages.urllib3.util.response', 'requests.packages.urllib3.util.retry', 'requests.packages.urllib3.util.url', 'requests.packages.urllib3.util.ssltransport', 'requests.packages.urllib3.util.ssl_', 'requests.packages.urllib3.util.timeout', 'requests.packages.urllib3.util', 'requests.packages.urllib3.util.proxy', 'requests.packages.urllib3._collections', 'requests.packages.urllib3.util.ssl_match_hostname', 'requests.packages.urllib3.connection', 'requests.packages.urllib3.fields', 'requests.packages.urllib3.filepost', 'requests.packages.urllib3.packages.six.moves.urllib', 'requests.packages.urllib3.packages.six.moves.urllib.parse', 'requests.packages.urllib3.request', 'requests.packages.urllib3.response', 'requests.packages.urllib3.util.queue', 'requests.packages.urllib3.connectionpool', 'requests.packages.urllib3.poolmanager', 'requests.packages.urllib3', 'idna.package_data', 'idna.idnadata', 'idna.intranges', 'idna.core', 'idna', 'requests.packages.idna.package_data', 'requests.packages.idna.idnadata', 'requests.packages.idna.intranges', 'requests.packages.idna.core', 'requests.packages.idna', 'requests.packages.chardet', 'requests.packages', 'requests.hooks', 'requests.auth', 'requests.status_codes', 'requests.models', 'urllib3.contrib.socks', 'requests.adapters', 'requests.sessions', 'requests.api', 'requests', 'tensorflow.python.keras.callbacks', 'tensorflow.python.keras.engine.compile_utils', 'tensorflow.python.keras.saving.model_config', 'h5py._errors', '_cython_0_29_33', 'h5py.defs', 'h5py._objects', 'h5py.h5py_warnings', 'h5py.h5', 'h5py.version', 'h5py.h5r', 'h5py.utils', 'h5py.h5s', 'h5py.h5ac', 'h5py.h5p', 'h5py.h5t', 'h5py._conv', 'h5py.h5z', 'h5py._proxy', 'h5py.h5a', 'h5py.h5d', 'h5py.h5ds', 'h5py.h5g', 'h5py.h5i', 'h5py.h5f', 'h5py.h5fd', 'h5py.h5pl', 'h5py._hl', 'h5py._hl.compat', 'h5py._hl.filters', 'h5py._hl.base', 'h5py.h5o', 'h5py.h5l', 'h5py._selector', 'h5py._hl.selections', 'h5py._hl.selections2', 'h5py._hl.datatype', 'h5py._hl.vds', 'h5py._hl.dataset', 'h5py._hl.group', 'h5py._hl.files', 'h5py._hl.attrs', 'h5py', 'tensorflow.python.keras.saving.hdf5_format', 'tensorflow.python.keras.saving.saved_model.load_context', 'tensorflow.python.keras.saving.saved_model.save', 'tensorflow.python.keras.saving.save', 'tensorflow.python.keras.saving.saved_model.model_serialization', 'tensorflow.python.keras.engine.training', 'tensorflow.python.keras.saving.saved_model.network_serialization', 'tensorflow.python.keras.engine.functional', 'tensorflow.python.keras.engine.sequential', 'tensorflow.python.keras.engine.training_utils_v1', 'tensorflow.python.keras.distribute.distributed_training_utils_v1', 'scipy._lib._testutils', 'scipy._lib', 'scipy._lib.deprecation', 'scipy.__config__', 'scipy.version', 'scipy._distributor_init', 'scipy._lib._pep440', 'scipy._lib._ccallback_c', 'scipy._lib._ccallback', 'scipy', 'scipy._lib._util', 'scipy.sparse._sputils', 'scipy.sparse._base', 'scipy.sparse._sparsetools', 'scipy.sparse._data', 'scipy.sparse._index', 'scipy.sparse._compressed', 'scipy.sparse._csr', 'scipy.sparse._csc', '_csparsetools', 'scipy.sparse._csparsetools', 'scipy.sparse._lil', 'scipy.sparse._dok', 'scipy.sparse._coo', 'scipy.sparse._dia', 'scipy.sparse._bsr', 'scipy.sparse._construct', 'scipy.sparse._extract', 'scipy.sparse._matrix_io', 'scipy.sparse._arrays', 'scipy.sparse.linalg._isolve._iterative', 'scipy.sparse.linalg._interface', 'scipy.sparse.linalg._isolve.utils', 'scipy._lib.decorator', 'scipy._lib._threadsafety', 'scipy.sparse.linalg._isolve.iterative', 'scipy.sparse.linalg._isolve.minres', 'scipy.linalg._fblas', 'scipy.linalg.blas', 'scipy.linalg._flapack', 'scipy.linalg.lapack', 'scipy.linalg._misc', 'scipy.linalg._cythonized_array_utils', 'scipy.linalg._flinalg', 'scipy.linalg._flinalg_py', 'scipy.linalg._decomp', 'scipy.linalg._decomp_svd', 'scipy.linalg._solve_toeplitz', 'scipy.linalg._basic', 'scipy.linalg._decomp_lu', 'scipy.linalg._decomp_ldl', 'scipy.linalg._decomp_cholesky', 'scipy.linalg._decomp_qr', 'scipy.linalg._decomp_qz', 'scipy.linalg._decomp_schur', 'scipy.linalg._decomp_polar', 'scipy.linalg._special_matrices', 'scipy.linalg._expm_frechet', 'scipy.linalg._matfuncs_sqrtm_triu', 'scipy.linalg._matfuncs_sqrtm', 'scipy.linalg.cython_lapack', 'scipy.linalg.cython_blas', 'scipy.linalg._matfuncs_expm', 'scipy.linalg._matfuncs', 'scipy.linalg._solvers', 'scipy.linalg._procrustes', 'scipy.linalg._decomp_update', 'scipy.linalg._sketches', 'scipy.linalg._decomp_cossin', 'scipy.linalg.decomp', 'scipy.linalg.decomp_cholesky', 'scipy.linalg.decomp_lu', 'scipy.linalg.decomp_qr', 'scipy.linalg.decomp_svd', 'scipy.linalg.decomp_schur', 'scipy.linalg.basic', 'scipy.linalg.misc', 'scipy.linalg.special_matrices', 'scipy.linalg.flinalg', 'scipy.linalg.matfuncs', 'scipy.linalg', 'scipy.sparse.linalg._isolve._gcrotmk', 'scipy.sparse.linalg._isolve.lgmres', 'scipy.sparse.linalg._isolve.lsqr', 'scipy.sparse.linalg._isolve.lsmr', 'scipy.sparse.linalg._isolve.tfqmr', 'scipy.sparse.linalg._isolve', 'scipy.sparse.linalg._dsolve._superlu', 'scipy.sparse.linalg._dsolve.linsolve', 'scipy.sparse.linalg._dsolve._add_newdocs', 'scipy.sparse.linalg._dsolve', 'scipy.sparse.linalg._eigen.arpack._arpack', 'scipy.sparse.linalg._eigen.arpack.arpack', 'scipy.sparse.linalg._eigen.arpack', 'scipy.sparse.linalg._eigen.lobpcg.lobpcg', 'scipy.sparse.linalg._eigen.lobpcg', 'scipy.sparse.linalg._eigen._svds', 'scipy.sparse.linalg._eigen', 'scipy.sparse.linalg._onenormest', 'scipy.sparse.linalg._expm_multiply', 'scipy.sparse.linalg._matfuncs', 'scipy.sparse.linalg._norm', 'scipy.sparse.linalg.isolve', 'scipy.sparse.linalg.dsolve', 'scipy.sparse.linalg.interface', 'scipy.sparse.linalg.eigen', 'scipy.sparse.linalg.matfuncs', 'scipy.sparse.linalg', 'scipy.sparse.csgraph._laplacian', 'scipy.sparse.csgraph._tools', 'scipy.sparse.csgraph._validation', 'scipy.sparse.csgraph._shortest_path', 'scipy.sparse.csgraph._traversal', 'scipy.sparse.csgraph._min_spanning_tree', 'scipy.sparse.csgraph._flow', 'scipy.sparse.csgraph._matching', 'scipy.sparse.csgraph._reordering', 'scipy.sparse.csgraph', 'scipy.sparse.base', 'scipy.sparse.bsr', 'scipy.sparse.compressed', 'scipy.sparse.construct', 'scipy.sparse.coo', 'scipy.sparse.csc', 'scipy.sparse.csr', 'scipy.sparse.data', 'scipy.sparse.dia', 'scipy.sparse.dok', 'scipy.sparse.extract', 'scipy.sparse.lil', 'scipy.sparse.sparsetools', 'scipy.sparse.sputils', 'scipy.sparse', 'tensorflow.python.keras.engine.training_arrays_v1', 'tensorflow.python.keras.engine.partial_batch_padding_handler', 'tensorflow.python.keras.engine.training_distributed_v1', 'tensorflow.python.keras.engine.training_eager_v1', 'tensorflow.python.keras.engine.training_generator_v1', 'tensorflow.python.keras.engine.training_v1', 'tensorflow.python.keras.models', 'tensorflow.python.keras', 'tensorflow.python.keras.legacy_tf_layers', 'tensorflow.python.keras.legacy_tf_layers.variable_scope_shim', 'tensorflow.python.keras.legacy_tf_layers.base', 'tensorflow.python.layers.base', 'tensorflow.python.training.checkpoint_utils', 'tensorflow.python.feature_column.feature_column', 'tensorflow.python.feature_column.feature_column_v2', 'tensorflow.python.feature_column.sequence_feature_column', 'tensorflow.python.feature_column.serialization', 'tensorflow.python.feature_column.feature_column_lib', 'tensorflow.python.ops.gen_count_ops', 'tensorflow.python.ops.bincount_ops', 'tensorflow.python.ops.control_flow_util_v2', 'tensorflow.python.ops.cond_v2', 'tensorflow.python.ops.gradient_checker_v2', 'tensorflow.python.ops.metrics_impl', 'tensorflow.python.ops.metrics', 'tensorflow.python.ops.gen_stateful_random_ops', 'tensorflow.python.ops.stateful_random_ops', 'tensorflow.python.ops.while_v2_indexed_slices_rewriter', 'tensorflow.python.ops.while_v2', 'tensorflow.python.ops.distributions', 'tensorflow.python.ops.distributions.kullback_leibler', 'tensorflow.python.ops.distributions.util', 'tensorflow.python.ops.distributions.distribution', 'tensorflow.python.ops.distributions.bernoulli', 'tensorflow.python.ops.distributions.beta', 'tensorflow.python.ops.distributions.categorical', 'tensorflow.python.ops.distributions.dirichlet', 'tensorflow.python.ops.distributions.dirichlet_multinomial', 'tensorflow.python.ops.distributions.gamma', 'tensorflow.python.ops.distributions.exponential', 'tensorflow.python.ops.distributions.special_math', 'tensorflow.python.ops.distributions.laplace', 'tensorflow.python.ops.distributions.multinomial', 'tensorflow.python.ops.distributions.normal', 'tensorflow.python.ops.distributions.student_t', 'tensorflow.python.ops.distributions.uniform', 'tensorflow.python.ops.distributions.distributions', 'tensorflow.python.ops.linalg.linear_operator_algebra', 'tensorflow.python.ops.linalg.linear_operator_util', 'tensorflow.python.ops.linalg.slicing', 'tensorflow.python.ops.linalg.linear_operator', 'tensorflow.python.ops.linalg.linear_operator_adjoint', 'tensorflow.python.ops.linalg.linear_operator_block_diag', 'tensorflow.python.ops.signal', 'tensorflow.python.ops.signal.fft_ops', 'tensorflow.python.ops.linalg.linear_operator_circulant', 'tensorflow.python.ops.linalg.linear_operator_diag', 'tensorflow.python.ops.linalg.linear_operator_householder', 'tensorflow.python.ops.linalg.linear_operator_identity', 'tensorflow.python.ops.linalg.linear_operator_kronecker', 'tensorflow.python.ops.linalg.adjoint_registrations', 'tensorflow.python.ops.linalg.linear_operator_composition', 'tensorflow.python.ops.linalg.linear_operator_lower_triangular', 'tensorflow.python.ops.linalg.cholesky_registrations', 'tensorflow.python.ops.linalg.linear_operator_full_matrix', 'tensorflow.python.ops.linalg.linear_operator_addition', 'tensorflow.python.ops.linalg.linear_operator_block_lower_triangular', 'tensorflow.python.ops.linalg.linear_operator_inversion', 'tensorflow.python.ops.linalg.inverse_registrations', 'tensorflow.python.ops.linalg.linear_operator_zeros', 'tensorflow.python.ops.linalg.registrations_util', 'tensorflow.python.ops.linalg.matmul_registrations', 'tensorflow.python.ops.linalg.solve_registrations', 'tensorflow.python.ops.linalg.linear_operator_low_rank_update', 'tensorflow.python.ops.linalg.linear_operator_permutation', 'tensorflow.python.ops.linalg.linear_operator_toeplitz', 'tensorflow.python.ops.linalg.linear_operator_tridiag', 'tensorflow.python.ops.linalg.linalg', 'tensorflow.python.ops.linalg.sparse', 'tensorflow.python.ops.linalg.sparse.conjugate_gradient', 'tensorflow.python.ops.linalg.sparse.gen_sparse_csr_matrix_ops', 'tensorflow.python.ops.linalg.sparse.sparse_csr_matrix_ops', 'tensorflow.python.ops.linalg.sparse.sparse_csr_matrix_grad', 'tensorflow.python.ops.linalg.sparse.sparse', 'tensorflow.python.ops.losses.losses', 'tensorflow.python.ops.ragged.ragged_batch_gather_ops', 'tensorflow.python.ops.ragged.ragged_concat_ops', 'tensorflow.python.ops.ragged.ragged_where_op', 'tensorflow.python.ops.ragged.ragged_batch_gather_with_default_op', 'tensorflow.python.ops.ragged.ragged_check_ops', 'tensorflow.python.ops.ragged.ragged_conversion_ops', 'tensorflow.python.ops.ragged.ragged_image_ops', 'tensorflow.python.ops.ragged.ragged_squeeze_op', 'tensorflow.python.ops.ragged.ragged_string_ops', 'tensorflow.python.ops.ragged.ragged_ops', 'tensorflow.python.ops.signal.dct_ops', 'fractions', 'tensorflow.python.ops.signal.util_ops', 'tensorflow.python.ops.signal.shape_ops', 'tensorflow.python.ops.signal.mel_ops', 'tensorflow.python.ops.signal.mfcc_ops', 'tensorflow.python.ops.signal.reconstruction_ops', 'tensorflow.python.ops.signal.window_ops', 'tensorflow.python.ops.signal.spectral_ops', 'tensorflow.python.ops.signal.signal', 'tensorflow.python.ops.structured.structured_array_ops', 'tensorflow.python.ops.structured.structured_ops', 'tensorflow.core.profiler', 'tensorflow.core.profiler.tfprof_log_pb2', 'tensorflow.core.profiler.tfprof_output_pb2', 'tensorflow.core.profiler.tfprof_options_pb2', 'tensorflow.python.profiler.internal.flops_registry', 'tensorflow.python.profiler.tfprof_logger', 'tensorflow.python.profiler.option_builder', 'tensorflow.python.util._pywrap_tfprof', 'tensorflow.python.profiler.model_analyzer', 'tensorflow.python.profiler.profiler', 'tensorflow.python.profiler.profiler_client', 'tensorflow.python.saved_model.main_op_impl', 'tensorflow.python.saved_model.main_op', 'tensorflow.python.saved_model.method_name_updater', 'tensorflow.python.saved_model.fingerprinting', 'tensorflow.python.saved_model.simple_save', 'tensorflow.python.saved_model.saved_model', 'tensorflow.python.tpu.bfloat16', 'tensorflow.python.tpu.feature_column', 'tensorflow.python.tpu.feature_column_v2', 'tensorflow.python.tpu.tpu_embedding', 'tensorflow.python.ops.init_ops_v2', 'tensorflow.python.tpu.tpu_embedding_v2_utils', 'tensorflow.python.tpu.tpu_embedding_base', 'tensorflow.python.tpu.tpu_embedding_for_serving', 'tensorflow.python.tpu.tpu_embedding_v1', 'tensorflow.python.tpu.tpu_embedding_v2', 'tensorflow.python.tpu.tpu_optimizer', 'tensorflow.python.tpu.api', 'tensorflow.python.user_ops', 'tensorflow.python.user_ops.ops', 'tensorflow.python.user_ops.ops.gen_user_ops', 'tensorflow.python.user_ops.user_ops', 'tensorflow.python.ops.gen_audio_ops', 'tensorflow.python.ops.gen_boosted_trees_ops', 'tensorflow.python.ops.gen_sendrecv_ops', 'tensorflow.python.ops.gen_uniform_quant_ops', 'tensorflow.python.ops.gen_sdca_ops', 'tensorflow.python.ops.sdca_ops', 'tensorflow.python.training.training_ops', 'tensorflow.python.training.adadelta', 'tensorflow.python.training.adagrad', 'tensorflow.python.training.adagrad_da', 'tensorflow.python.training.proximal_adagrad', 'tensorflow.python.training.adam', 'tensorflow.python.training.ftrl', 'tensorflow.python.training.momentum', 'tensorflow.python.training.rmsprop', 'tensorflow.python.training.gradient_descent', 'tensorflow.python.training.proximal_gradient_descent', 'tensorflow.python.training.sync_replicas_optimizer', 'tensorflow.python.layers.utils', 'tensorflow.python.training.input', 'tensorflow.python.training.basic_loops', 'tensorflow.python.training.supervisor', 'tensorflow.python.ops.gen_checkpoint_ops', 'tensorflow.python.training.checkpoint_ops', 'tensorflow.python.training.warm_starting_util', 'tensorflow.core.example', 'tensorflow.core.example.feature_pb2', 'tensorflow.core.example.example_pb2', 'tensorflow.python.keras.optimizer_v2.legacy_learning_rate_decay', 'tensorflow.python.training.learning_rate_decay', 'tensorflow.python.training.training', 'tensorflow.python._pywrap_quantize_training', 'tensorflow.python.training.quantize_training', 'tensorflow.python.platform.app', 'tensorflow.python.platform.resource_loader', 'absl.testing', 'unittest.mock', 'absl.testing._pretty_print_reporter', 'xml.sax.handler', 'xml.sax._exceptions', 'xml.sax.xmlreader', 'xml.sax', 'xml.sax.saxutils', 'absl.testing.xml_reporter', 'absl.testing.absltest', 'absl.testing.parameterized', 'tensorflow.python._pywrap_sanitizers', 'tensorflow.python.pywrap_sanitizers', 'tensorflow.python.framework._test_metrics_util', 'tensorflow.python.framework.gpu_util', 'tensorflow.python.ops.gen_sync_ops', 'tensorflow.python.platform._pywrap_stacktrace_handler', 'tensorflow.tsl.protobuf.test_log_pb2', 'tensorflow.core.util.test_log_pb2', 'tensorflow.python.platform.benchmark', 'tensorflow.python.platform.googletest', 'tensorflow.python.util._pywrap_util_port', 'tensorflow.python.util.protobuf', 'tensorflow.python.util.protobuf.compare', 'tensorflow.python.framework.test_util', 'tensorflow.python.ops.gradient_checker', 'tensorflow.python.platform.test', 'tensorflow.python.ops.control_flow_v2_toggles', 'tensorflow.python.compat.v2_compat', 'tensorflow.python.keras.layers.legacy_rnn.rnn_cell_impl', 'tensorflow.python.ops.rnn_cell_impl', 'tensorflow.python.ops.rnn', 'tensorflow.python.ops.rnn_cell', 'tensorflow.python.debug.lib', 'tensorflow.python.debug.lib.debug_graphs', 'tensorflow.python.debug.lib.debug_data', 'tensorflow.python.debug.lib.debug_gradients', 'tensorflow.python.debug.lib.debug_utils', 'tensorflow.python.debug.wrappers', 'tensorflow.python.debug.wrappers.framework', 'tensorflow.python.debug.wrappers.dumping_wrapper', 'tensorflow.python.debug.lib.common', 'tensorflow.python.debug.wrappers.grpc_wrapper', 'tensorflow.python.debug.cli', 'tensorflow.python.debug.cli.debugger_cli_common', 'tensorflow.python.debug.cli.cli_config', 'tensorflow.python.debug.cli.command_parser', 'tensorflow.python.debug.cli.tensor_format', 'tensorflow.python.debug.cli.cli_shared', 'tensorflow.python.debug.cli.evaluator', 'tensorflow.python.debug.cli.ui_factory', 'tensorflow.python.debug.lib.profiling', 'tensorflow.python.debug.lib.source_utils', 'tensorflow.python.debug.cli.analyzer_cli', 'tensorflow.python.debug.cli.profile_analyzer_cli', 'tensorflow.python.debug.wrappers.local_cli_wrapper', 'tensorflow.python.debug.wrappers.hooks', 'tensorflow.python.debug', 'tensorflow.core.protobuf.debug_event_pb2', 'tensorflow.python.debug.lib.op_callbacks_common', 'tensorflow.python.ops.gen_debug_ops', 'tensorflow.python.debug.lib.check_numerics_callback', 'tensorflow.python.client._pywrap_debug_events_writer', 'tensorflow.python.debug.lib.debug_events_writer', 'tensorflow.python.debug.lib.dumping_callback', 'tensorflow.python.dlpack', 'tensorflow.python.dlpack.dlpack', 'tensorflow.python.compiler.mlir', 'tensorflow.python._pywrap_mlir', 'tensorflow.python.pywrap_mlir', 'tensorflow.python.compiler.mlir.mlir', 'tensorflow.python', 'tensorflow.python.tools', 'tensorflow.python.tools.module_util', 'tensorflow._api', 'tensorflow._api.v2', 'tensorflow._api.v2.__internal__.autograph', 'tensorflow._api.v2.__internal__.decorator', 'tensorflow._api.v2.__internal__.dispatch', 'tensorflow.python.eager.test', 'tensorflow.python.distribute.multi_process_lib', 'tblib.cpython', 'tblib', 'tblib.pickling_support', 'tensorflow.python.distribute.multi_process_runner', 'tensorflow.python.distribute.distribute_coordinator', 'tensorflow.python.distribute.multi_worker_test_base', 'tensorflow.python.framework.test_combinations', 'tensorflow.python.framework.combinations', 'tensorflow.python.distribute.combinations', 'tensorflow.python.distribute.test_util', 'tensorflow.python.distribute.strategy_combinations', 'tensorflow._api.v2.__internal__.distribute.combinations', 'tensorflow.python.distribute.merge_call_interim', 'tensorflow._api.v2.__internal__.distribute.interim', 'tensorflow._api.v2.__internal__.distribute.multi_process_runner', 'tensorflow._api.v2.__internal__.distribute', 'tensorflow._api.v2.__internal__.eager_context', 'tensorflow._api.v2.__internal__.feature_column', 'tensorflow._api.v2.__internal__.function', 'tensorflow._api.v2.__internal__.graph_util', 'tensorflow._api.v2.__internal__.mixed_precision', 'tensorflow._api.v2.__internal__.monitoring', 'tensorflow._api.v2.__internal__.nest', 'tensorflow._api.v2.__internal__.ops', 'tensorflow._api.v2.__internal__.saved_model.load', 'tensorflow._api.v2.__internal__.saved_model', 'tensorflow._api.v2.__internal__.smart_cond', 'tensorflow._api.v2.__internal__.test.combinations', 'tensorflow._api.v2.__internal__.test', 'tensorflow._api.v2.__internal__.tf2', 'tensorflow._api.v2.__internal__.tracking', 'tensorflow._api.v2.__internal__.train', 'tensorflow._api.v2.__internal__.types.data', 'tensorflow._api.v2.__internal__.types', 'tensorflow._api.v2.__internal__', 'tensorflow._api.v2.__operators__', 'tensorflow._api.v2.audio', 'tensorflow._api.v2.autodiff', 'tensorflow._api.v2.autograph.experimental', 'tensorflow._api.v2.autograph', 'tensorflow._api.v2.bitwise', 'tensorflow._api.v2.compat.v1.__internal__.types.data', 'tensorflow._api.v2.compat.v1.__internal__.types', 'tensorflow._api.v2.compat.v1.__internal__', 'tensorflow._api.v2.compat.v1.app', 'tensorflow._api.v2.compat.v1.audio', 'tensorflow._api.v2.compat.v1.autograph.experimental', 'tensorflow._api.v2.compat.v1.autograph', 'tensorflow._api.v2.compat.v1.bitwise', 'tensorflow._api.v2.compat.v1.compat.v1.compat', 'tensorflow._api.v2.compat.v1.config.experimental', 'tensorflow._api.v2.compat.v1.config.optimizer', 'tensorflow._api.v2.compat.v1.config.threading', 'tensorflow._api.v2.compat.v1.config', 'tensorflow._api.v2.compat.v1.data.experimental.service', 'tensorflow._api.v2.compat.v1.data.experimental', 'tensorflow._api.v2.compat.v1.data', 'tensorflow._api.v2.compat.v1.debugging.experimental', 'tensorflow._api.v2.compat.v1.debugging', 'tensorflow._api.v2.compat.v1.distribute.cluster_resolver', 'tensorflow._api.v2.compat.v1.distribute.experimental', 'tensorflow._api.v2.compat.v1.distribute', 'tensorflow._api.v2.compat.v1.distributions', 'tensorflow._api.v2.compat.v1.dtypes.experimental', 'tensorflow._api.v2.compat.v1.dtypes', 'tensorflow._api.v2.compat.v1.errors', 'tensorflow._api.v2.compat.v1.experimental.extension_type', 'tensorflow.python.framework._pywrap_python_op_gen', 'tensorflow.python.framework.load_library', 'tensorflow._api.v2.compat.v1.experimental', 'tensorflow._api.v2.compat.v1.feature_column', 'tensorflow._api.v2.compat.v1.gfile', 'tensorflow._api.v2.compat.v1.graph_util', 'tensorflow._api.v2.compat.v1.image', 'tensorflow._api.v2.compat.v1.initializers', 'tensorflow._api.v2.compat.v1.io.gfile', 'tensorflow._api.v2.compat.v1.io', 'tensorflow._api.v2.compat.v1.layers.experimental', 'tensorflow._api.v2.compat.v1.layers', 'tensorflow._api.v2.compat.v1.linalg.experimental', 'tensorflow._api.v2.compat.v1.linalg', 'tensorflow.lite', 'tensorflow.lite.python', 'tensorflow.lite.toco', 'tensorflow.lite.toco.types_pb2', 'tensorflow.lite.toco.toco_flags_pb2', 'tensorflow.lite.python.lite_constants', 'tensorflow._api.v2.compat.v1.lite.constants', 'tensorflow.lite.python.authoring', 'flatbuffers.compat', 'flatbuffers.packer', 'flatbuffers.number_types', 'flatbuffers.encode', 'flatbuffers.builder', 'flatbuffers.table', 'flatbuffers._version', 'flatbuffers.util', 'flatbuffers', 'tensorflow.lite.python.conversion_metadata_schema_py_generated', 'tensorflow.lite.python.schema_py_generated', 'tensorflow.lite.python.schema_util', 'tensorflow.lite.python.tflite_keras_util', 'tensorflow.lite.python.op_hint', 'tensorflow.lite.tools', 'tensorflow.lite.tools.flatbuffer_utils', 'jax._src', 'jax._src.cloud_tpu_init', 'jaxlib.version', 'jaxlib', 'jax.version', 'jaxlib.cpu_feature_guard', 'jaxlib.utils', 'jaxlib.xla_extension.profiler', 'jaxlib.xla_extension.ops', 'jaxlib.xla_extension.outfeed_receiver', 'jaxlib.xla_extension.pytree', 'jaxlib.xla_extension.jax_jit', 'jaxlib.xla_extension.pmap_lib', 'jaxlib.xla_extension.transfer_guard_lib', 'jaxlib.xla_extension.mlir', 'jaxlib.xla_extension.hlo_sharding_util', 'jaxlib.xla_extension', 'ml_dtypes._custom_floats', 'ml_dtypes._finfo', 'ml_dtypes', 'jaxlib.xla_client', 'jaxlib.mlir', 'jaxlib.mlir._mlir_libs._mlir.ir', 'jaxlib.mlir._mlir_libs._mlir.passmanager', 'jaxlib.mlir._mlir_libs._mlir', 'jaxlib.mlir._mlir_libs._site_initialize_0', 'jaxlib.mlir._mlir_libs', 'jaxlib.mlir.ir', 'jaxlib.mlir.dialects', 'jaxlib.mlir.dialects._ods_common', 'jaxlib.mlir.dialects._stablehlo_ops_gen', 'jaxlib.mlir._mlir_libs._stablehlo', 'jaxlib.mlir.dialects.stablehlo', 'jaxlib.hlo_helpers', 'jaxlib.cpu', 'jaxlib.cpu._lapack', 'jaxlib.lapack', 'jaxlib.cpu._ducc_fft', 'jaxlib.ducc_fft', 'jaxlib.cuda', 'jaxlib.cuda._blas', 'jaxlib.cuda._solver', 'jaxlib.gpu_solver', 'jaxlib.cuda._sparse', 'jaxlib.gpu_sparse', 'jaxlib.cuda._prng', 'jaxlib.gpu_prng', 'jaxlib.cuda._linalg', 'jaxlib.gpu_linalg', 'jaxlib.cuda._rnn', 'jaxlib.gpu_rnn', 'jax._src.lib', 'jax._src.config', 'jax.config', 'jax._src.basearray', 'jax._src.typing', 'jax._src.util', 'jax._src.traceback_util', 'jax._src.dtypes', 'jax._src.effects', 'jax._src.errors', 'jax._src.tree_util', 'jax._src.linear_util', 'jax._src.source_info_util', 'jax._src.pretty_printer', 'jax._src.core', 'jax.core', 'jax.typing', 'jax._src.clusters.cluster', 'jax._src.clusters.ompi_cluster', 'jax._src.clusters.slurm_cluster', 'jax._src.clusters.cloud_tpu_cluster', 'jax._src.clusters', 'jax._src.distributed', 'jax._src.xla_bridge', 'jax._src.environment_info', 'jax._src.interpreters', 'jax._src.ad_util', 'jax._src.mesh', 'jax._src.op_shardings', 'jax._src.sharding', 'jax._src.sharding_specs', 'jax._src.partition_spec', 'jax._src.sharding_impls', 'jax._src.abstract_arrays', 'jax._src.api_util', 'jax._src.profiler', 'jax._src.state.types', 'jax._src.state', 'jax._src.interpreters.partial_eval', 'jax._src.interpreters.xla', 'jaxlib.mlir.passmanager', 'jax._src.lib.mlir', 'jaxlib.mlir.dialects._builtin_ops_ext', 'jaxlib.mlir.dialects._builtin_ops_gen', 'jaxlib.mlir.dialects.builtin', 'jaxlib.mlir.dialects._chlo_ops_gen', 'jaxlib.mlir._mlir_libs._chlo', 'jaxlib.mlir.dialects.chlo', 'jaxlib.mlir.dialects._mhlo_ops_gen', 'jaxlib.mlir._mlir_libs._mlirHlo', 'jaxlib.mlir.dialects.mhlo', 'jaxlib.mlir.dialects._func_ops_ext', 'jaxlib.mlir.dialects._func_ops_gen', 'jaxlib.mlir.dialects.func', 'jaxlib.mlir.dialects._ml_program_ops_ext', 'jaxlib.mlir.dialects._ml_program_ops_gen', 'jaxlib.mlir.dialects.ml_program', 'jaxlib.mlir.dialects._sparse_tensor_ops_gen', 'jaxlib.mlir._mlir_libs._mlirDialectsSparseTensor', 'jaxlib.mlir._mlir_libs._mlirSparseTensorPasses', 'jaxlib.mlir.dialects.sparse_tensor', 'jax._src.lib.mlir.dialects', 'jax._src.interpreters.mlir', 'jax._src.stages', 'etils', 'etils.epath.stat_utils', 'etils.epath.typing', 'etils.epath.backend', 'etils.epy.backports', 'etils.epy.contextlib', 'etils.epy.env_utils', 'etils.epy.itertools', 'etils.epy.py_utils', 'etils.epy.reraise_utils', 'etils.epy.text_utils', 'etils.epy', 'etils.epath.abstract_path', 'etils.epath.gpath', 'etils.epath.testing', 'etils.epath.flags', 'etils.epath.register', 'importlib_resources._compat', 'importlib_resources.abc', 'importlib_resources._common', 'importlib_resources._legacy', 'importlib_resources', 'etils.epath.resource_utils', 'etils.epath', 'jax._src.path', 'jax._src.compilation_cache_interface', 'jax._src.gfile_cache', 'jaxlib.mlir._mlir_libs._jax_passes', 'jaxlib.mlir.jax', 'jax._src.lib.mlir.jax', 'jax._src.compilation_cache', 'jax.tree_util', 'jax._src.interpreters.ad', 'jax._src.interpreters.batching', 'jax.errors', 'jax._src.interpreters.pxla', 'jax._src.monitoring', 'jax._src.dispatch', 'jax._src.array', 'jax._src.pjit', 'jax._src.lax', 'jax._src.lax.utils', 'jax._src.lax.slicing', 'jax._src.lax.lax', 'jax._src.api', 'jax._src.lax.convolution', 'jax._src.ad_checkpoint', 'jax._src.custom_api_util', 'jax._src.custom_transpose', 'jax._src.custom_derivatives', 'jax._src.numpy', 'jax._src.numpy.util', 'jax._src.numpy.ufuncs', 'jax._src.lax.windowed_reductions', 'jax.api_util', 'jax._src.lax.control_flow.common', 'jax._src.lax.control_flow.loops', 'jax._src.state.primitives', 'jax.interpreters', 'jax.interpreters.partial_eval', 'jax._src.state.utils', 'jax._src.state.discharge', 'jax._src.lax.control_flow.conditionals', 'jax._src.lax.control_flow.solves', 'jax._src.lax.control_flow', 'jax._src.callback', 'jax.interpreters.ad', 'jax.interpreters.batching', 'jax.interpreters.mlir', 'jax._src.deprecations', 'jax.interpreters.pxla', 'jax.interpreters.xla', 'jax.abstract_arrays', 'jax.custom_derivatives', 'jax._src.lax.special', 'jax._src.lax.fft', 'jax._src.numpy.reductions', 'jax._src.numpy.vectorize', 'jax._src.numpy.lax_numpy', 'jax._src.lax.parallel', 'jax._src.lax.other', 'jax._src.lax.ann', 'jax._src.numpy.linalg', 'jax.dtypes', 'jax._src.numpy.fft', 'jax.numpy.fft', 'jax._src.third_party', 'jax._src.third_party.numpy', 'jax._src.third_party.numpy.linalg', 'jax.numpy.linalg', 'jax._src.numpy.index_tricks', 'jax._src.numpy.polynomial', 'jax._src.numpy.setops', 'jax._src.ops', 'jax._src.ops.scatter', 'jax._src.numpy.array_methods', 'jax.numpy', 'jax._src.lax.qdwh', 'jax._src.lax.stack', 'jax._src.lax.eigh', 'jax._src.lax.svd', 'jax._src.lax.linalg', 'jax.lax.linalg', 'jax.lax', 'jax._src.custom_batching', 'jax.custom_batching', 'jax.custom_transpose', 'jax.distributed', 'rich._extension', 'rich', 'rich._cell_widths', 'rich.cells', 'rich.repr', 'rich.errors', 'rich.color_triplet', 'rich.palette', 'rich._palettes', 'rich.terminal_theme', 'rich.color', 'rich.style', 'rich.segment', 'rich.jupyter', 'rich.protocol', 'rich.measure', 'rich.constrain', 'rich.align', 'rich._loop', 'rich.box', 'rich._null_file', 'rich.default_styles', 'rich.theme', 'rich.themes', 'rich._emoji_codes', 'rich._emoji_replace', 'rich._export_format', 'rich._fileno', 'rich._pick', 'rich._wrap', 'rich.containers', 'rich.control', 'rich.emoji', 'rich.text', 'rich._log_render', 'rich.highlighter', 'rich.markup', 'rich.pager', 'attr._compat', 'attr._config', 'attr.exceptions', 'attr.setters', 'attr._make', 'attr.converters', 'attr.filters', 'attr.validators', 'attr._cmp', 'attr._funcs', 'attr._next_gen', 'attr._version_info', 'attr', 'rich.abc', 'rich.pretty', 'rich.region', 'rich.padding', 'rich.panel', 'rich._ratio', 'rich.table', 'rich.scope', 'rich.screen', 'rich.styled', 'rich.console', 'jax._src.debugging', 'jax._src.debugger.core', 'jax._src.debugger.cli_debugger', 'jax._src.debugger.colab_lib', 'jax._src.debugger.colab_debugger', 'jax._src.debugger.web_debugger', 'jax._src.debugger', 'jax.debug', 'jax._src.image', 'jax._src.image.scale', 'jax.image', 'jax.linear_util', 'jax.monitoring', 'jax._src.nn', 'jax._src.prng', 'jax._src.random', 'jax.random', 'jax._src.nn.initializers', 'jax.nn.initializers', 'jax._src.ops.special', 'jax._src.nn.functions', 'jax.nn', 'jax.ops', 'jax.profiler', 'jax._src.lazy_loader', 'jax.scipy', 'jax.sharding', 'jax.stages', 'jax.util', 'jax.experimental.x64_context', 'jax.experimental', 'jax.experimental.compilation_cache', 'jax.experimental.compilation_cache.compilation_cache', 'jax.lib.xla_bridge', 'jax.lib', 'jax', 'tensorflow.lite.python.util', 'tensorflow.python._pywrap_toco_api', 'tensorflow.lite.python.wrap_toco', 'tensorflow.lite.python.metrics', 'tensorflow.lite.python.metrics.converter_error_data_pb2', 'tensorflow.lite.python.metrics.metrics_interface', 'tensorflow.lite.python.metrics.metrics', 'tensorflow.lite.python.convert_phase', 'tensorflow.lite.python.metrics.wrapper', 'tensorflow.lite.python.metrics._pywrap_tensorflow_lite_metrics_wrapper', 'tensorflow.lite.python.metrics.wrapper.metrics_wrapper', 'tensorflow.lite.toco.model_flags_pb2', 'tensorflow.lite.python.convert', 'tensorflow.lite.experimental', 'tensorflow.lite.experimental.microfrontend', 'tensorflow.lite.experimental.microfrontend.python', 'tensorflow.lite.experimental.microfrontend.python.ops', 'tensorflow.lite.experimental.microfrontend.ops', 'tensorflow.lite.experimental.microfrontend.ops.gen_audio_microfrontend_op', 'aa8f2297d25b4dc6fd3d98411eb3ba53823c4f42', 'tensorflow.lite.experimental.microfrontend.python.ops.audio_microfrontend_op', 'tensorflow.lite.python.convert_saved_model', 'tensorflow.lite.python.interpreter_wrapper', 'tensorflow.lite.python.interpreter_wrapper._pywrap_tensorflow_interpreter_wrapper', 'tensorflow.lite.python.interpreter', 'tensorflow.lite.python.optimize', 'tensorflow.lite.python.optimize.calibrator', 'tensorflow.lite.tools.optimize', 'tensorflow.lite.tools.optimize.debugging', 'tensorflow.lite.tools.optimize.debugging.python', 'tensorflow.lite.tools.optimize.debugging.python.debugger', 'tensorflow.lite.python.lite', 'tensorflow.lite.python.authoring.authoring', 'tensorflow._api.v2.compat.v1.lite.experimental.authoring', 'tensorflow.lite.python.analyzer_wrapper', 'tensorflow.lite.python.analyzer_wrapper._pywrap_analyzer_wrapper', 'tensorflow.lite.python.analyzer', 'tensorflow._api.v2.compat.v1.lite.experimental', 'tensorflow._api.v2.compat.v1.lite', 'tensorflow._api.v2.compat.v1.logging', 'tensorflow._api.v2.compat.v1.lookup.experimental', 'tensorflow._api.v2.compat.v1.lookup', 'tensorflow._api.v2.compat.v1.losses', 'tensorflow._api.v2.compat.v1.manip', 'tensorflow._api.v2.compat.v1.math.special', 'tensorflow._api.v2.compat.v1.math', 'tensorflow._api.v2.compat.v1.metrics', 'tensorflow._api.v2.compat.v1.mixed_precision.experimental', 'tensorflow._api.v2.compat.v1.mixed_precision', 'tensorflow._api.v2.compat.v1.mlir.experimental', 'tensorflow._api.v2.compat.v1.mlir', 'tensorflow._api.v2.compat.v1.nest', 'tensorflow._api.v2.compat.v1.nn.experimental', 'tensorflow._api.v2.compat.v1.nn.rnn_cell', 'tensorflow._api.v2.compat.v1.nn', 'tensorflow._api.v2.compat.v1.profiler', 'tensorflow._api.v2.compat.v1.python_io', 'tensorflow._api.v2.compat.v1.quantization', 'tensorflow._api.v2.compat.v1.queue', 'tensorflow._api.v2.compat.v1.ragged', 'tensorflow._api.v2.compat.v1.random.experimental', 'tensorflow._api.v2.compat.v1.random', 'tensorflow._api.v2.compat.v1.raw_ops', 'tensorflow._api.v2.compat.v1.resource_loader', 'tensorflow._api.v2.compat.v1.saved_model.builder', 'tensorflow._api.v2.compat.v1.saved_model.constants', 'tensorflow._api.v2.compat.v1.saved_model.experimental', 'tensorflow._api.v2.compat.v1.saved_model.loader', 'tensorflow._api.v2.compat.v1.saved_model.main_op', 'tensorflow._api.v2.compat.v1.saved_model.signature_constants', 'tensorflow._api.v2.compat.v1.saved_model.signature_def_utils', 'tensorflow._api.v2.compat.v1.saved_model.tag_constants', 'tensorflow._api.v2.compat.v1.saved_model.utils', 'tensorflow._api.v2.compat.v1.saved_model', 'tensorflow._api.v2.compat.v1.sets', 'tensorflow._api.v2.compat.v1.signal', 'tensorflow._api.v2.compat.v1.sparse', 'tensorflow._api.v2.compat.v1.spectral', 'tensorflow._api.v2.compat.v1.strings', 'tensorflow._api.v2.compat.v1.summary', 'tensorflow._api.v2.compat.v1.sysconfig', 'tensorflow._api.v2.compat.v1.test.experimental', 'tensorflow._api.v2.compat.v1.test', 'tensorflow._api.v2.compat.v1.tpu.experimental.embedding', 'tensorflow._api.v2.compat.v1.tpu.experimental', 'tensorflow._api.v2.compat.v1.tpu', 'tensorflow._api.v2.compat.v1.train.experimental', 'tensorflow._api.v2.compat.v1.train.queue_runner', 'tensorflow._api.v2.compat.v1.train', 'tensorflow._api.v2.compat.v1.types.experimental', 'tensorflow._api.v2.compat.v1.types', 'tensorflow._api.v2.compat.v1.user_ops', 'tensorflow._api.v2.compat.v1.version', 'tensorflow._api.v2.compat.v1.xla.experimental', 'tensorflow._api.v2.compat.v1.xla', 'tensorflow._api.v2.compat.v1.compat.v1', 'tensorflow._api.v2.compat.v1.compat.v2.compat', 'tensorflow._api.v2.compat.v2.__internal__.autograph', 'tensorflow._api.v2.compat.v2.__internal__.decorator', 'tensorflow._api.v2.compat.v2.__internal__.dispatch', 'tensorflow._api.v2.compat.v2.__internal__.distribute.combinations', 'tensorflow._api.v2.compat.v2.__internal__.distribute.interim', 'tensorflow._api.v2.compat.v2.__internal__.distribute.multi_process_runner', 'tensorflow._api.v2.compat.v2.__internal__.distribute', 'tensorflow._api.v2.compat.v2.__internal__.eager_context', 'tensorflow._api.v2.compat.v2.__internal__.feature_column', 'tensorflow._api.v2.compat.v2.__internal__.function', 'tensorflow._api.v2.compat.v2.__internal__.graph_util', 'tensorflow._api.v2.compat.v2.__internal__.mixed_precision', 'tensorflow._api.v2.compat.v2.__internal__.monitoring', 'tensorflow._api.v2.compat.v2.__internal__.nest', 'tensorflow._api.v2.compat.v2.__internal__.ops', 'tensorflow._api.v2.compat.v2.__internal__.saved_model.load', 'tensorflow._api.v2.compat.v2.__internal__.saved_model', 'tensorflow._api.v2.compat.v2.__internal__.smart_cond', 'tensorflow._api.v2.compat.v2.__internal__.test.combinations', 'tensorflow._api.v2.compat.v2.__internal__.test', 'tensorflow._api.v2.compat.v2.__internal__.tf2', 'tensorflow._api.v2.compat.v2.__internal__.tracking', 'tensorflow._api.v2.compat.v2.__internal__.train', 'tensorflow._api.v2.compat.v2.__internal__.types.data', 'tensorflow._api.v2.compat.v2.__internal__.types', 'tensorflow._api.v2.compat.v2.__internal__', 'tensorflow._api.v2.compat.v2.__operators__', 'tensorflow._api.v2.compat.v2.audio', 'tensorflow._api.v2.compat.v2.autodiff', 'tensorflow._api.v2.compat.v2.autograph.experimental', 'tensorflow._api.v2.compat.v2.autograph', 'tensorflow._api.v2.compat.v2.bitwise', 'tensorflow._api.v2.compat.v2.compat.v1.compat', 'tensorflow._api.v2.compat.v2.compat.v1', 'tensorflow._api.v2.compat.v2.compat.v2.compat', 'tensorflow._api.v2.compat.v2.config.experimental', 'tensorflow._api.v2.compat.v2.config.optimizer', 'tensorflow._api.v2.compat.v2.config.threading', 'tensorflow._api.v2.compat.v2.config', 'tensorflow._api.v2.compat.v2.data.experimental.service', 'tensorflow._api.v2.compat.v2.data.experimental', 'tensorflow._api.v2.compat.v2.data', 'tensorflow._api.v2.compat.v2.debugging.experimental', 'tensorflow._api.v2.compat.v2.debugging', 'tensorflow._api.v2.compat.v2.distribute.cluster_resolver', 'tensorflow._api.v2.compat.v2.distribute.coordinator', 'tensorflow._api.v2.compat.v2.distribute.experimental.coordinator', 'tensorflow._api.v2.compat.v2.distribute.experimental.partitioners', 'tensorflow.python.distribute.failure_handling', 'tensorflow.core.distributed_runtime', 'tensorflow.core.distributed_runtime.preemption', 'tensorflow.core.distributed_runtime.preemption.gen_check_preemption_op', 'tensorflow.python.distribute.failure_handling.failure_handling_util', 'tensorflow.python.distribute.failure_handling.failure_handling', 'tensorflow.python.distribute.failure_handling.preemption_watcher', 'tensorflow.python.distribute.experimental', 'tensorflow.python.distribute.experimental.rpc', 'tensorflow.distribute', 'tensorflow.distribute.experimental', 'tensorflow.distribute.experimental.rpc', 'tensorflow.distribute.experimental.rpc.kernels', 'tensorflow.distribute.experimental.rpc.kernels.gen_rpc_ops', 'tensorflow.distribute.experimental.rpc.proto', 'tensorflow.distribute.experimental.rpc.proto.tf_rpc_service_pb2', 'tensorflow.python.distribute.experimental.rpc.rpc_ops', 'tensorflow._api.v2.compat.v2.distribute.experimental.rpc', 'tensorflow._api.v2.compat.v2.distribute.experimental', 'tensorflow._api.v2.compat.v2.distribute', 'tensorflow._api.v2.compat.v2.dtypes.experimental', 'tensorflow._api.v2.compat.v2.dtypes', 'tensorflow._api.v2.compat.v2.errors', 'tensorflow._api.v2.compat.v2.experimental.dlpack', 'tensorflow.dtensor', 'tensorflow.dtensor.python', 'tensorflow.dtensor.python.config', 'tensorflow.dtensor.python.gen_dtensor_ops', 'tensorflow.dtensor.proto', 'tensorflow.dtensor.proto.layout_pb2', 'tensorflow.python._pywrap_dtensor_device', 'tensorflow.dtensor.python.layout', 'tensorflow.dtensor.python.dtensor_device', 'tensorflow.dtensor.python.tpu_util', 'tensorflow.dtensor.python.accelerator_util', 'tensorflow.dtensor.python.api', 'tensorflow.dtensor.python.d_variable', 'tensorflow.dtensor.python.mesh_util', 'tensorflow.dtensor.python.save_restore', 'tensorflow.dtensor.python.d_checkpoint', 'tensorflow.dtensor.python.input_util', 'tensorflow._api.v2.compat.v2.experimental.dtensor', 'tensorflow._api.v2.compat.v2.experimental.extension_type', 'tensorflow._api.v2.compat.v2.experimental.numpy.random', 'tensorflow._api.v2.compat.v2.experimental.numpy', 'tensorflow._api.v2.compat.v2.experimental.tensorrt', 'tensorflow._api.v2.compat.v2.experimental', 'tensorflow._api.v2.compat.v2.feature_column', 'tensorflow._api.v2.compat.v2.graph_util', 'tensorflow._api.v2.compat.v2.image', 'tensorflow._api.v2.compat.v2.io.gfile', 'tensorflow._api.v2.compat.v2.io', 'tensorflow._api.v2.compat.v2.linalg.experimental', 'tensorflow._api.v2.compat.v2.linalg', 'tensorflow._api.v2.compat.v2.lite.experimental.authoring', 'tensorflow._api.v2.compat.v2.lite.experimental', 'tensorflow._api.v2.compat.v2.lite', 'tensorflow._api.v2.compat.v2.lookup.experimental', 'tensorflow._api.v2.compat.v2.lookup', 'tensorflow._api.v2.compat.v2.math.special', 'tensorflow._api.v2.compat.v2.math', 'tensorflow._api.v2.compat.v2.mlir.experimental', 'tensorflow._api.v2.compat.v2.mlir', 'tensorflow._api.v2.compat.v2.nest', 'tensorflow._api.v2.compat.v2.nn.experimental', 'tensorflow._api.v2.compat.v2.nn', 'tensorflow._api.v2.compat.v2.profiler.experimental.client', 'tensorflow._api.v2.compat.v2.profiler.experimental.server', 'tensorflow._api.v2.compat.v2.profiler.experimental', 'tensorflow._api.v2.compat.v2.profiler', 'tensorflow._api.v2.compat.v2.quantization', 'tensorflow._api.v2.compat.v2.queue', 'tensorflow._api.v2.compat.v2.ragged', 'tensorflow._api.v2.compat.v2.random.experimental', 'tensorflow._api.v2.compat.v2.random', 'tensorflow._api.v2.compat.v2.raw_ops', 'tensorflow._api.v2.compat.v2.saved_model.experimental', 'tensorflow._api.v2.compat.v2.saved_model', 'tensorflow._api.v2.compat.v2.sets', 'tensorflow._api.v2.compat.v2.signal', 'tensorflow._api.v2.compat.v2.sparse', 'tensorflow._api.v2.compat.v2.strings', 'tensorflow._api.v2.compat.v2.summary.experimental', 'tensorflow._api.v2.compat.v2.summary', 'tensorflow._api.v2.compat.v2.sysconfig', 'tensorflow._api.v2.compat.v2.test.experimental', 'tensorflow._api.v2.compat.v2.test', 'tensorflow._api.v2.compat.v2.tpu.experimental.embedding', 'tensorflow._api.v2.compat.v2.tpu.experimental', 'tensorflow._api.v2.compat.v2.tpu', 'tensorflow._api.v2.compat.v2.train.experimental', 'tensorflow._api.v2.compat.v2.train', 'tensorflow._api.v2.compat.v2.types.experimental.distributed', 'tensorflow._api.v2.compat.v2.types.experimental', 'tensorflow._api.v2.compat.v2.types', 'tensorflow._api.v2.compat.v2.version', 'tensorflow._api.v2.compat.v2.xla.experimental', 'tensorflow._api.v2.compat.v2.xla', 'tensorboard.lazy', 'tensorboard.version', 'tensorboard', 'tensorboard.plugins', 'tensorboard.plugins.audio', 'tensorboard.util', 'tensorboard.util.op_evaluator', 'tensorboard.util.encoder', 'tensorboard.compat', 'tensorboard.compat.proto', 'tensorboard.compat.proto.histogram_pb2', 'tensorboard.compat.proto.tensor_shape_pb2', 'tensorboard.compat.proto.types_pb2', 'tensorboard.compat.proto.resource_handle_pb2', 'tensorboard.compat.proto.tensor_pb2', 'tensorboard.compat.proto.summary_pb2', 'tensorboard.plugins.audio.plugin_data_pb2', 'tensorboard.plugins.audio.metadata', 'tensorboard.util.lazy_tensor_creator', 'tensorboard.plugins.audio.summary_v2', 'tensorboard.plugins.audio.summary', 'tensorboard.plugins.custom_scalar', 'tensorboard.plugins.custom_scalar.layout_pb2', 'tensorboard.plugins.custom_scalar.metadata', 'tensorboard.plugins.custom_scalar.summary', 'tensorboard.plugins.histogram', 'tensorboard.plugins.histogram.plugin_data_pb2', 'tensorboard.plugins.histogram.metadata', 'tensorboard.compat.proto.cost_graph_pb2', 'tensorboard.compat.proto.attr_value_pb2', 'tensorboard.compat.proto.full_type_pb2', 'tensorboard.compat.proto.node_def_pb2', 'tensorboard.compat.proto.op_def_pb2', 'tensorboard.compat.proto.function_pb2', 'tensorboard.compat.proto.versions_pb2', 'tensorboard.compat.proto.graph_pb2', 'tensorboard.compat.proto.allocation_description_pb2', 'tensorboard.compat.proto.tensor_description_pb2', 'tensorboard.compat.proto.step_stats_pb2', 'tensorboard.compat.proto.cluster_pb2', 'tensorboard.compat.proto.debug_pb2', 'tensorboard.compat.proto.verifier_config_pb2', 'tensorboard.compat.proto.rewriter_config_pb2', 'tensorboard.compat.proto.rpc_options_pb2', 'tensorboard.compat.proto.coordination_config_pb2', 'tensorboard.compat.proto.config_pb2', 'tensorboard.compat.proto.event_pb2', 'tensorboard.compat.proto.variable_pb2', 'tensorboard.compat.proto.struct_pb2', 'tensorboard.compat.proto.trackable_object_graph_pb2', 'tensorboard.compat.proto.saved_object_graph_pb2', 'tensorboard.compat.proto.saver_pb2', 'tensorboard.compat.proto.meta_graph_pb2', 'tensorboard.compat.tensorflow_stub.error_codes', 'tensorboard.compat.tensorflow_stub.errors', 'fsspec._version', 'fsspec.caching', 'fsspec.callbacks', 'fsspec.utils', 'fsspec.config', 'fsspec.dircache', 'fsspec.transaction', 'fsspec.spec', 'fsspec.compression', 'fsspec.registry', 'fsspec.core', 'fsspec.exceptions', 'fsspec.mapping', 'fsspec', 'tensorboard.compat.tensorflow_stub.compat.v1', 'tensorboard.compat.tensorflow_stub.compat', 'tensorboard.compat.tensorflow_stub.io.gfile', 'tensorboard.compat.tensorflow_stub.io', 'tensorboard.compat.tensorflow_stub.pywrap_tensorflow', 'tensorboard.compat.tensorflow_stub.dtypes', 'tensorboard.compat.tensorflow_stub.flags', 'tensorboard.compat.tensorflow_stub.app', 'tensorboard.compat.tensorflow_stub.tensor_shape', 'tensorboard.compat.tensorflow_stub', 'tensorboard.util.tensor_util', 'tensorboard.plugins.histogram.summary_v2', 'tensorboard.plugins.histogram.summary', 'tensorboard.plugins.image', 'tensorboard.plugins.image.plugin_data_pb2', 'tensorboard.plugins.image.metadata', 'tensorboard.plugins.image.summary_v2', 'tensorboard.plugins.image.summary', 'tensorboard.plugins.pr_curve', 'tensorboard.plugins.pr_curve.plugin_data_pb2', 'tensorboard.plugins.pr_curve.metadata', 'tensorboard.plugins.pr_curve.summary', 'tensorboard.plugins.scalar', 'tensorboard.plugins.scalar.plugin_data_pb2', 'tensorboard.plugins.scalar.metadata', 'tensorboard.plugins.scalar.summary_v2', 'tensorboard.plugins.scalar.summary', 'tensorboard.plugins.text', 'tensorboard.plugins.text.plugin_data_pb2', 'tensorboard.plugins.text.metadata', 'tensorboard.plugins.text.summary_v2', 'tensorboard.plugins.text.summary', 'tensorboard.summary.v1', 'tensorboard.summary.v2', 'tensorboard.summary.writer', 'tensorboard.summary.writer.record_writer', 'tensorboard.summary.writer.event_file_writer', 'tensorboard.summary._output', 'tensorboard.summary._writer', 'tensorboard.summary', 'tensorboard.summary._tf', 'tensorboard.summary._tf.summary', 'tensorflow._api.v2.compat.v2.compat.v2', 'tensorflow._api.v2.compat.v2.compat', 'tensorflow._api.v2.compat.v2', 'tensorflow._api.v2.compat.v1.compat.v2', 'tensorflow._api.v2.compat.v1.compat', 'tensorflow._api.v2.compat.v1', 'tensorflow._api.v2.compat', 'tensorflow._api.v2.config.experimental', 'tensorflow._api.v2.config.optimizer', 'tensorflow._api.v2.config.threading', 'tensorflow._api.v2.config', 'tensorflow._api.v2.data.experimental.service', 'tensorflow._api.v2.data.experimental', 'tensorflow._api.v2.data', 'tensorflow._api.v2.debugging.experimental', 'tensorflow._api.v2.debugging', 'tensorflow._api.v2.distribute.cluster_resolver', 'tensorflow._api.v2.distribute.coordinator', 'tensorflow._api.v2.distribute.experimental.coordinator', 'tensorflow._api.v2.distribute.experimental.partitioners', 'tensorflow._api.v2.distribute.experimental.rpc', 'tensorflow._api.v2.distribute.experimental', 'tensorflow._api.v2.distribute', 'tensorflow._api.v2.dtypes.experimental', 'tensorflow._api.v2.dtypes', 'tensorflow._api.v2.errors', 'tensorflow._api.v2.experimental.dlpack', 'tensorflow._api.v2.experimental.dtensor', 'tensorflow._api.v2.experimental.extension_type', 'tensorflow._api.v2.experimental.numpy.random', 'tensorflow._api.v2.experimental.numpy', 'tensorflow._api.v2.experimental.tensorrt', 'tensorflow._api.v2.experimental', 'tensorflow._api.v2.feature_column', 'tensorflow._api.v2.graph_util', 'tensorflow._api.v2.image', 'tensorflow._api.v2.io.gfile', 'tensorflow._api.v2.io', 'tensorflow._api.v2.linalg.experimental', 'tensorflow._api.v2.linalg', 'tensorflow._api.v2.lite.experimental.authoring', 'tensorflow._api.v2.lite.experimental', 'tensorflow._api.v2.lite', 'tensorflow._api.v2.lookup.experimental', 'tensorflow._api.v2.lookup', 'tensorflow._api.v2.math.special', 'tensorflow._api.v2.math', 'tensorflow._api.v2.mlir.experimental', 'tensorflow._api.v2.mlir', 'tensorflow._api.v2.nest', 'tensorflow._api.v2.nn.experimental', 'tensorflow._api.v2.nn', 'tensorflow._api.v2.profiler.experimental.client', 'tensorflow._api.v2.profiler.experimental.server', 'tensorflow._api.v2.profiler.experimental', 'tensorflow._api.v2.profiler', 'tensorflow._api.v2.quantization', 'tensorflow._api.v2.queue', 'tensorflow._api.v2.ragged', 'tensorflow._api.v2.random.experimental', 'tensorflow._api.v2.random', 'tensorflow._api.v2.raw_ops', 'tensorflow._api.v2.saved_model.experimental', 'tensorflow._api.v2.saved_model', 'tensorflow._api.v2.sets', 'tensorflow._api.v2.signal', 'tensorflow._api.v2.sparse', 'tensorflow._api.v2.strings', 'tensorflow._api.v2.summary.experimental', 'tensorflow._api.v2.summary', 'tensorflow._api.v2.sysconfig', 'tensorflow._api.v2.test.experimental', 'tensorflow._api.v2.test', 'tensorflow._api.v2.tpu.experimental.embedding', 'tensorflow._api.v2.tpu.experimental', 'tensorflow._api.v2.tpu', 'tensorflow._api.v2.train.experimental', 'tensorflow._api.v2.train', 'tensorflow._api.v2.types.experimental.distributed', 'tensorflow._api.v2.types.experimental', 'tensorflow._api.v2.types', 'tensorflow._api.v2.version', 'tensorflow._api.v2.xla.experimental', 'tensorflow._api.v2.xla', 'tensorflow', 'tensorflow.compat.v1.__internal__.types.data', 'tensorflow.compat.v1.__internal__.types', 'tensorflow.compat.v1.__internal__', 'tensorflow.compat.v1.app', 'tensorflow.compat.v1.audio', 'tensorflow.compat.v1.autograph.experimental', 'tensorflow.compat.v1.autograph', 'tensorflow.compat.v1.bitwise', 'tensorflow.compat.v1.compat.v1.compat', 'tensorflow.compat.v1.compat.v1', 'tensorflow.compat.v1.compat.v2.compat', 'tensorflow.compat.v1.compat.v2', 'tensorflow.compat.v1.compat', 'tensorflow.compat.v1.config.experimental', 'tensorflow.compat.v1.config.optimizer', 'tensorflow.compat.v1.config.threading', 'tensorflow.compat.v1.config', 'tensorflow.compat.v1.data.experimental.service', 'tensorflow.compat.v1.data.experimental', 'tensorflow.compat.v1.data', 'tensorflow.compat.v1.debugging.experimental', 'tensorflow.compat.v1.debugging', 'tensorflow.compat.v1.distribute.cluster_resolver', 'tensorflow.compat.v1.distribute.experimental', 'tensorflow.compat.v1.distribute', 'tensorflow.compat.v1.distributions', 'tensorflow.compat.v1.dtypes.experimental', 'tensorflow.compat.v1.dtypes', 'tensorflow.compat.v1.errors', 'tensorflow.compat.v1.experimental.extension_type', 'tensorflow.compat.v1.experimental', 'tensorflow.compat.v1.feature_column', 'tensorflow.compat.v1.gfile', 'tensorflow.compat.v1.graph_util', 'tensorflow.compat.v1.image', 'tensorflow.compat.v1.initializers', 'tensorflow.compat.v1.io.gfile', 'tensorflow.compat.v1.io', 'tensorflow.compat.v1.layers.experimental', 'tensorflow.compat.v1.layers', 'tensorflow.compat.v1.linalg.experimental', 'tensorflow.compat.v1.linalg', 'tensorflow.compat.v1.lite.constants', 'tensorflow.compat.v1.lite.experimental.authoring', 'tensorflow.compat.v1.lite.experimental', 'tensorflow.compat.v1.lite', 'tensorflow.compat.v1.logging', 'tensorflow.compat.v1.lookup.experimental', 'tensorflow.compat.v1.lookup', 'tensorflow.compat.v1.losses', 'tensorflow.compat.v1.manip', 'tensorflow.compat.v1.math.special', 'tensorflow.compat.v1.math', 'tensorflow.compat.v1.metrics', 'tensorflow.compat.v1.mixed_precision.experimental', 'tensorflow.compat.v1.mixed_precision', 'tensorflow.compat.v1.mlir.experimental', 'tensorflow.compat.v1.mlir', 'tensorflow.compat.v1.nest', 'tensorflow.compat.v1.nn.experimental', 'tensorflow.compat.v1.nn.rnn_cell', 'tensorflow.compat.v1.nn', 'tensorflow.compat.v1.profiler', 'tensorflow.compat.v1.python_io', 'tensorflow.compat.v1.quantization', 'tensorflow.compat.v1.queue', 'tensorflow.compat.v1.ragged', 'tensorflow.compat.v1.random.experimental', 'tensorflow.compat.v1.random', 'tensorflow.compat.v1.raw_ops', 'tensorflow.compat.v1.resource_loader', 'tensorflow.compat.v1.saved_model.builder', 'tensorflow.compat.v1.saved_model.constants', 'tensorflow.compat.v1.saved_model.experimental', 'tensorflow.compat.v1.saved_model.loader', 'tensorflow.compat.v1.saved_model.main_op', 'tensorflow.compat.v1.saved_model.signature_constants', 'tensorflow.compat.v1.saved_model.signature_def_utils', 'tensorflow.compat.v1.saved_model.tag_constants', 'tensorflow.compat.v1.saved_model.utils', 'tensorflow.compat.v1.saved_model', 'tensorflow.compat.v1.sets', 'tensorflow.compat.v1.signal', 'tensorflow.compat.v1.sparse', 'tensorflow.compat.v1.spectral', 'tensorflow.compat.v1.strings', 'tensorflow.compat.v1.summary', 'tensorflow.compat.v1.sysconfig', 'tensorflow.compat.v1.test.experimental', 'tensorflow.compat.v1.test', 'tensorflow.compat.v1.tpu.experimental.embedding', 'tensorflow.compat.v1.tpu.experimental', 'tensorflow.compat.v1.tpu', 'tensorflow.compat.v1.train.experimental', 'tensorflow.compat.v1.train.queue_runner', 'tensorflow.compat.v1.train', 'tensorflow.compat.v1.types.experimental', 'tensorflow.compat.v1.types', 'tensorflow.compat.v1.user_ops', 'tensorflow.compat.v1.version', 'tensorflow.compat.v1.xla.experimental', 'tensorflow.compat.v1.xla', 'tensorflow.compat.v1', 'tensorflow.compat.v2.__internal__.autograph', 'tensorflow.compat.v2.__internal__.decorator', 'tensorflow.compat.v2.__internal__.dispatch', 'tensorflow.compat.v2.__internal__.distribute.combinations', 'tensorflow.compat.v2.__internal__.distribute.interim', 'tensorflow.compat.v2.__internal__.distribute.multi_process_runner', 'tensorflow.compat.v2.__internal__.distribute', 'tensorflow.compat.v2.__internal__.eager_context', 'tensorflow.compat.v2.__internal__.feature_column', 'tensorflow.compat.v2.__internal__.function', 'tensorflow.compat.v2.__internal__.graph_util', 'tensorflow.compat.v2.__internal__.mixed_precision', 'tensorflow.compat.v2.__internal__.monitoring', 'tensorflow.compat.v2.__internal__.nest', 'tensorflow.compat.v2.__internal__.ops', 'tensorflow.compat.v2.__internal__.saved_model.load', 'tensorflow.compat.v2.__internal__.saved_model', 'tensorflow.compat.v2.__internal__.smart_cond', 'tensorflow.compat.v2.__internal__.test.combinations', 'tensorflow.compat.v2.__internal__.test', 'tensorflow.compat.v2.__internal__.tf2', 'tensorflow.compat.v2.__internal__.tracking', 'tensorflow.compat.v2.__internal__.train', 'tensorflow.compat.v2.__internal__.types.data', 'tensorflow.compat.v2.__internal__.types', 'tensorflow.compat.v2.__internal__', 'tensorflow.compat.v2.__operators__', 'tensorflow.compat.v2.audio', 'tensorflow.compat.v2.autodiff', 'tensorflow.compat.v2.autograph.experimental', 'tensorflow.compat.v2.autograph', 'tensorflow.compat.v2.bitwise', 'tensorflow.compat.v2.compat.v1.compat', 'tensorflow.compat.v2.compat.v1', 'tensorflow.compat.v2.compat.v2.compat', 'tensorflow.compat.v2.compat.v2', 'tensorflow.compat.v2.compat', 'tensorflow.compat.v2.config.experimental', 'tensorflow.compat.v2.config.optimizer', 'tensorflow.compat.v2.config.threading', 'tensorflow.compat.v2.config', 'tensorflow.compat.v2.data.experimental.service', 'tensorflow.compat.v2.data.experimental', 'tensorflow.compat.v2.data', 'tensorflow.compat.v2.debugging.experimental', 'tensorflow.compat.v2.debugging', 'tensorflow.compat.v2.distribute.cluster_resolver', 'tensorflow.compat.v2.distribute.coordinator', 'tensorflow.compat.v2.distribute.experimental.coordinator', 'tensorflow.compat.v2.distribute.experimental.partitioners', 'tensorflow.compat.v2.distribute.experimental.rpc', 'tensorflow.compat.v2.distribute.experimental', 'tensorflow.compat.v2.distribute', 'tensorflow.compat.v2.dtypes.experimental', 'tensorflow.compat.v2.dtypes', 'tensorflow.compat.v2.errors', 'tensorflow.compat.v2.experimental.dlpack', 'tensorflow.compat.v2.experimental.dtensor', 'tensorflow.compat.v2.experimental.extension_type', 'tensorflow.compat.v2.experimental.numpy.random', 'tensorflow.compat.v2.experimental.numpy', 'tensorflow.compat.v2.experimental.tensorrt', 'tensorflow.compat.v2.experimental', 'tensorflow.compat.v2.feature_column', 'tensorflow.compat.v2.graph_util', 'tensorflow.compat.v2.image', 'tensorflow.compat.v2.io.gfile', 'tensorflow.compat.v2.io', 'tensorflow.compat.v2.linalg.experimental', 'tensorflow.compat.v2.linalg', 'tensorflow.compat.v2.lite.experimental.authoring', 'tensorflow.compat.v2.lite.experimental', 'tensorflow.compat.v2.lite', 'tensorflow.compat.v2.lookup.experimental', 'tensorflow.compat.v2.lookup', 'tensorflow.compat.v2.math.special', 'tensorflow.compat.v2.math', 'tensorflow.compat.v2.mlir.experimental', 'tensorflow.compat.v2.mlir', 'tensorflow.compat.v2.nest', 'tensorflow.compat.v2.nn.experimental', 'tensorflow.compat.v2.nn', 'tensorflow.compat.v2.profiler.experimental.client', 'tensorflow.compat.v2.profiler.experimental.server', 'tensorflow.compat.v2.profiler.experimental', 'tensorflow.compat.v2.profiler', 'tensorflow.compat.v2.quantization', 'tensorflow.compat.v2.queue', 'tensorflow.compat.v2.ragged', 'tensorflow.compat.v2.random.experimental', 'tensorflow.compat.v2.random', 'tensorflow.compat.v2.raw_ops', 'tensorflow.compat.v2.saved_model.experimental', 'tensorflow.compat.v2.saved_model', 'tensorflow.compat.v2.sets', 'tensorflow.compat.v2.signal', 'tensorflow.compat.v2.sparse', 'tensorflow.compat.v2.strings', 'tensorflow.compat.v2.summary.experimental', 'tensorflow.compat.v2.summary', 'tensorflow.compat.v2.sysconfig', 'tensorflow.compat.v2.test.experimental', 'tensorflow.compat.v2.test', 'tensorflow.compat.v2.tpu.experimental.embedding', 'tensorflow.compat.v2.tpu.experimental', 'tensorflow.compat.v2.tpu', 'tensorflow.compat.v2.train.experimental', 'tensorflow.compat.v2.train', 'tensorflow.compat.v2.types.experimental.distributed', 'tensorflow.compat.v2.types.experimental', 'tensorflow.compat.v2.types', 'tensorflow.compat.v2.version', 'tensorflow.compat.v2.xla.experimental', 'tensorflow.compat.v2.xla', 'tensorflow.compat.v2', 'tensorflow.compat', 'keras.backend_config', 'keras.distribute.distribute_coordinator_utils', 'keras.dtensor', 'keras.saving', 'keras.saving.legacy', 'keras.utils.tf_contextlib', 'keras.utils.tf_inspect', 'keras.saving.legacy.serialization', 'keras.saving.object_registration', 'keras.utils.keras_logging', 'keras.utils.io_utils', 'keras.utils.dataset_utils', 'keras.utils.audio_dataset', 'keras.utils.text_dataset', 'keras.utils.timeseries_dataset', 'keras.utils.image_utils', 'keras.utils.image_dataset', 'six.moves.urllib.parse', 'keras.utils.generic_utils', 'keras.utils.data_utils', 'keras.utils.object_identity', 'keras.utils.tf_utils', 'keras.constraints', 'keras.dtensor.utils', 'keras.initializers.initializers', 'keras.initializers.initializers_v1', 'keras.initializers', 'keras.regularizers', 'keras.dtensor.lazy_variable', 'keras.utils.control_flow_util', 'keras.engine.base_layer_utils', 'keras.engine.input_spec', 'keras.saving.legacy.saved_model', 'keras.saving.legacy.saved_model.json_utils', 'keras.engine.node', 'keras.optimizers.utils', 'keras.optimizers.schedules', 'keras.optimizers.schedules.learning_rate_schedule', 'keras.optimizers.optimizer', 'keras.optimizers.adadelta', 'keras.optimizers.adafactor', 'keras.optimizers.adagrad', 'keras.optimizers.adam', 'keras.optimizers.adamax', 'keras.optimizers.adamw', 'keras.optimizers.ftrl', 'keras.optimizers.nadam', 'keras.optimizers.rmsprop', 'keras.optimizers.sgd', 'keras.optimizers.legacy', 'keras.utils.layer_utils', 'keras.optimizers.legacy.optimizer_v2', 'keras.optimizers.legacy.adadelta', 'keras.optimizers.legacy.adagrad', 'keras.optimizers.legacy.adam', 'keras.optimizers.legacy.adamax', 'keras.optimizers.legacy.ftrl', 'keras.optimizers.legacy.gradient_descent', 'keras.optimizers.legacy.nadam', 'keras.optimizers.legacy.rmsprop', 'keras.optimizers.optimizer_v1', 'keras.optimizers', 'keras.mixed_precision.loss_scale_optimizer', 'keras.mixed_precision.device_compatibility_check', 'keras.mixed_precision.policy', 'keras.mixed_precision', 'keras.distribute.distributed_training_utils', 'keras.mixed_precision.autocast_variable', 'keras.saving.legacy.saved_model.utils', 'keras.saving.serialization_lib', 'keras.saving.legacy.saved_model.base_serialization', 'keras.saving.legacy.saved_model.constants', 'keras.saving.saving_lib', 'keras.utils.losses_utils', 'keras.losses', 'keras.utils.version_utils', 'keras.saving.legacy.saving_utils', 'keras.protobuf', 'keras.protobuf.versions_pb2', 'keras.protobuf.saved_metadata_pb2', 'keras.saving.legacy.saved_model.order_preserving_set', 'keras.saving.legacy.saved_model.serialized_attributes', 'keras.utils.metrics_utils', 'keras.saving.legacy.saved_model.load', 'keras.saving.legacy.saved_model.save_impl', 'keras.saving.legacy.saved_model.layer_serialization', 'keras.utils.traceback_utils', 'keras.engine.base_layer', 'keras.utils.feature_space', 'keras.utils.np_utils', 'keras.utils.sidecar_evaluator', 'pydot_ng._dotparser', 'pydot_ng', 'keras.utils.vis_utils', 'keras.utils', 'keras.engine.keras_tensor', 'keras.backend', 'keras.dtensor.layout_map', 'keras.engine.input_layer', 'keras.engine.functional_utils', 'keras.distribute.distributed_file_utils', 'keras.utils.mode_keys', 'keras.distribute.worker_training_state', 'keras.callbacks', 'keras.saving.legacy.saved_model.metric_serialization', 'keras.metrics.base_metric', 'keras.metrics.accuracy_metrics', 'keras.metrics.probabilistic_metrics', 'keras.metrics.regression_metrics', 'keras.engine.training_utils', 'keras.utils.dataset_creator', 'keras.engine.data_adapter', 'keras.engine.base_preprocessing_layer', 'keras.layers.activation.elu', 'keras.layers.activation.leaky_relu', 'keras.layers.activation.prelu', 'keras.layers.activation.relu', 'keras.layers.activation.softmax', 'keras.layers.activation.thresholded_relu', 'keras.layers.activation', 'keras.layers.attention.base_dense_attention', 'keras.layers.attention.additive_attention', 'keras.layers.attention.attention', 'keras.layers.core.activation', 'keras.layers.core.dense', 'keras.layers.core.einsum_dense', 'keras.layers.core.embedding', 'keras.layers.core.identity', 'keras.layers.core.lambda_layer', 'keras.layers.core.masking', 'keras.layers.core.tf_op_layer', 'keras.layers.regularization.activity_regularization', 'keras.layers.regularization.alpha_dropout', 'keras.layers.regularization.dropout', 'keras.layers.regularization.gaussian_dropout', 'keras.layers.regularization.gaussian_noise', 'keras.layers.regularization.spatial_dropout1d', 'keras.layers.regularization.spatial_dropout2d', 'keras.layers.regularization.spatial_dropout3d', 'keras.layers.regularization', 'keras.utils.conv_utils', 'keras.layers.reshaping.cropping1d', 'keras.layers.reshaping.cropping2d', 'keras.layers.reshaping.cropping3d', 'keras.layers.reshaping.flatten', 'keras.layers.reshaping.permute', 'keras.layers.reshaping.repeat_vector', 'keras.layers.reshaping.reshape', 'keras.layers.reshaping.up_sampling1d', 'keras.layers.reshaping.up_sampling2d', 'keras.layers.reshaping.up_sampling3d', 'keras.layers.reshaping.zero_padding1d', 'keras.layers.reshaping.zero_padding2d', 'keras.layers.reshaping.zero_padding3d', 'keras.layers.reshaping', 'keras.layers.core', 'keras.layers.attention.multi_head_attention', 'keras.layers.attention', 'keras.layers.convolutional.base_conv', 'keras.layers.convolutional.conv1d', 'keras.layers.convolutional.conv1d_transpose', 'keras.layers.convolutional.conv2d', 'keras.layers.convolutional.conv2d_transpose', 'keras.layers.convolutional.conv3d', 'keras.layers.convolutional.conv3d_transpose', 'keras.layers.convolutional.base_depthwise_conv', 'keras.layers.convolutional.depthwise_conv1d', 'keras.layers.convolutional.depthwise_conv2d', 'keras.layers.convolutional.base_separable_conv', 'keras.layers.convolutional.separable_conv1d', 'keras.layers.convolutional.separable_conv2d', 'keras.layers.pooling.base_pooling1d', 'keras.layers.pooling.average_pooling1d', 'keras.layers.pooling.base_pooling2d', 'keras.layers.pooling.average_pooling2d', 'keras.layers.pooling.base_pooling3d', 'keras.layers.pooling.average_pooling3d', 'keras.layers.pooling.base_global_pooling1d', 'keras.layers.pooling.global_average_pooling1d', 'keras.layers.pooling.base_global_pooling2d', 'keras.layers.pooling.global_average_pooling2d', 'keras.layers.pooling.base_global_pooling3d', 'keras.layers.pooling.global_average_pooling3d', 'keras.layers.pooling.global_max_pooling1d', 'keras.layers.pooling.global_max_pooling2d', 'keras.layers.pooling.global_max_pooling3d', 'keras.layers.pooling.max_pooling1d', 'keras.layers.pooling.max_pooling2d', 'keras.layers.pooling.max_pooling3d', 'keras.layers.pooling', 'keras.layers.convolutional', 'keras.layers.locally_connected.locally_connected_utils', 'keras.layers.locally_connected.locally_connected1d', 'keras.layers.locally_connected.locally_connected2d', 'keras.layers.locally_connected', 'keras.layers.merging.base_merge', 'keras.layers.merging.add', 'keras.layers.merging.average', 'keras.layers.merging.concatenate', 'keras.layers.merging.dot', 'keras.layers.merging.maximum', 'keras.layers.merging.minimum', 'keras.layers.merging.multiply', 'keras.layers.merging.subtract', 'keras.layers.merging', 'keras.layers.normalization', 'keras.layers.normalization.batch_normalization', 'keras.layers.normalization.group_normalization', 'keras.layers.normalization.layer_normalization', 'keras.layers.normalization.unit_normalization', 'keras.layers.preprocessing', 'keras.layers.preprocessing.preprocessing_utils', 'keras.layers.preprocessing.category_encoding', 'keras.layers.preprocessing.discretization', 'keras.layers.preprocessing.hashed_crossing', 'keras.layers.preprocessing.hashing', 'keras.layers.preprocessing.image_preprocessing', 'keras.layers.preprocessing.index_lookup', 'keras.layers.preprocessing.integer_lookup', 'keras.layers.preprocessing.normalization', 'keras.layers.preprocessing.string_lookup', 'keras.layers.preprocessing.text_vectorization', 'keras.layers.normalization.batch_normalization_v1', 'keras.layers.kernelized', 'keras.layers.rnn.rnn_utils', 'keras.layers.rnn.abstract_rnn_cell', 'keras.layers.rnn.dropout_rnn_cell_mixin', 'keras.layers.rnn.stacked_rnn_cells', 'keras.layers.rnn.base_rnn', 'keras.layers.rnn.simple_rnn', 'keras.layers.rnn.gru_lstm_utils', 'keras.layers.rnn.gru', 'keras.layers.rnn.gru_v1', 'keras.layers.rnn.lstm', 'keras.layers.rnn.lstm_v1', 'keras.layers.rnn.base_wrapper', 'keras.layers.rnn.bidirectional', 'keras.layers.rnn.cell_wrappers', 'keras.layers.rnn.base_conv_rnn', 'keras.layers.rnn.base_conv_lstm', 'keras.layers.rnn.conv_lstm1d', 'keras.layers.rnn.conv_lstm2d', 'keras.layers.rnn.conv_lstm3d', 'keras.layers.rnn.base_cudnn_rnn', 'keras.layers.rnn.cudnn_gru', 'keras.layers.rnn.cudnn_lstm', 'keras.layers.rnn.time_distributed', 'keras.layers.rnn', 'keras.layers.serialization', 'keras.layers', 'keras.activations', 'keras.metrics.confusion_metrics', 'keras.metrics.iou_metrics', 'keras.metrics.hinge_metrics', 'keras.metrics', 'keras.engine.compile_utils', 'keras.saving.pickle_utils', 'keras.saving.legacy.model_config', 'keras.saving.legacy.hdf5_format', 'keras.saving.legacy.saved_model.load_context', 'keras.saving.legacy.saved_model.save', 'keras.saving.legacy.save', 'keras.saving.saving_api', 'keras.saving.legacy.saved_model.model_serialization', 'keras.engine.training', 'keras.saving.legacy.saved_model.network_serialization', 'keras.engine.functional', 'keras.engine.sequential', 'keras.engine.training_utils_v1', 'keras.distribute.distributed_training_utils_v1', 'keras.engine.training_arrays_v1', 'keras.engine.partial_batch_padding_handler', 'keras.engine.training_distributed_v1', 'keras.engine.training_eager_v1', 'keras.engine.training_generator_v1', 'keras.engine.training_v1', 'keras.models.cloning', 'keras.models.sharpness_aware_minimization', 'keras.models', 'keras', 'scipy.ndimage._ni_support', 'scipy.ndimage._nd_image', 'scipy._lib.doccer', 'scipy.ndimage._ni_docstrings', 'scipy.ndimage._filters', 'scipy.ndimage._fourier', 'scipy.special._sf_error', 'scipy.special._ufuncs_cxx', 'scipy.special._ufuncs', 'scipy.special._specfun', 'scipy.special._comb', 'scipy.special._basic', 'scipy.special._logsumexp', 'scipy.special._orthogonal', 'scipy.special._spfun_stats', 'scipy.special._ellip_harm_2', 'scipy.special._ellip_harm', 'scipy.special._lambertw', 'scipy.special._spherical_bessel', 'scipy.special._add_newdocs', 'scipy.special.add_newdocs', 'scipy.special.basic', 'scipy.special.orthogonal', 'scipy.special.specfun', 'scipy.special.sf_error', 'scipy.special.spfun_stats', 'scipy.special', 'scipy.ndimage._interpolation', '_ni_label', 'scipy.ndimage._ni_label', 'scipy.ndimage._morphology', 'scipy.ndimage._measurements', 'scipy.ndimage.filters', 'scipy.ndimage.fourier', 'scipy.ndimage.interpolation', 'scipy.ndimage.measurements', 'scipy.ndimage.morphology', 'scipy.ndimage', 'PIL.ImageFilter', 'PIL.ImageStat', 'PIL.ImageEnhance', 'keras.preprocessing.image', 'keras.preprocessing.sequence', 'keras.preprocessing.text', 'keras.preprocessing', 'tensorflow.python.util.fast_module_type', 'tensorflow.tools.compatibility', 'tensorflow.tools.compatibility.renames_v2', 'tensorflow.tools.compatibility.all_renames_v2', 'tensorflow.python.util.module_wrapper', 'keras.api.keras.__internal__.layers', 'keras.legacy_tf_layers.migration_utils', 'keras.legacy_tf_layers', 'keras.engine.base_layer_v1', 'keras.legacy_tf_layers.variable_scope_shim', 'keras.legacy_tf_layers.base', 'keras.api.keras.__internal__.legacy.layers.experimental', 'keras.legacy_tf_layers.convolutional', 'keras.legacy_tf_layers.core', 'keras.legacy_tf_layers.normalization', 'keras.legacy_tf_layers.pooling', 'keras.api.keras.__internal__.legacy.layers', 'keras.layers.rnn.legacy_cells', 'keras.layers.rnn.legacy_cell_wrappers', 'keras.api.keras.__internal__.legacy.rnn_cell', 'keras.api.keras.__internal__.legacy', 'keras.api.keras.__internal__', 'keras.api.keras.activations', 'keras.applications.imagenet_utils', 'keras.applications.convnext', 'keras.applications.densenet', 'keras.applications.efficientnet', 'keras.applications.efficientnet_v2', 'keras.applications.inception_resnet_v2', 'keras.applications.inception_v3', 'keras.applications.mobilenet', 'keras.applications.mobilenet_v2', 'keras.applications.mobilenet_v3', 'keras.applications.nasnet', 'keras.applications.resnet', 'keras.applications.resnet_rs', 'keras.applications.resnet_v2', 'keras.applications.vgg16', 'keras.applications.vgg19', 'keras.applications.xception', 'keras.applications', 'keras.api.keras.applications.convnext', 'keras.api.keras.applications.densenet', 'keras.api.keras.applications.efficientnet', 'keras.api.keras.applications.efficientnet_v2', 'keras.api.keras.applications.imagenet_utils', 'keras.api.keras.applications.inception_resnet_v2', 'keras.api.keras.applications.inception_v3', 'keras.api.keras.applications.mobilenet', 'keras.api.keras.applications.mobilenet_v2', 'keras.api.keras.applications.mobilenet_v3', 'keras.api.keras.applications.nasnet', 'keras.applications.regnet', 'keras.api.keras.applications.regnet', 'keras.api.keras.applications.resnet', 'keras.api.keras.applications.resnet50', 'keras.api.keras.applications.resnet_rs', 'keras.api.keras.applications.resnet_v2', 'keras.api.keras.applications.vgg16', 'keras.api.keras.applications.vgg19', 'keras.api.keras.applications.xception', 'keras.api.keras.applications', 'keras.api.keras.backend', 'keras.callbacks_v1', 'keras.api.keras.callbacks', 'keras.api.keras.constraints', 'keras.datasets', 'keras.datasets.boston_housing', 'keras.api.keras.datasets.boston_housing', 'keras.datasets.cifar', 'keras.datasets.cifar10', 'keras.api.keras.datasets.cifar10', 'keras.datasets.cifar100', 'keras.api.keras.datasets.cifar100', 'keras.datasets.fashion_mnist', 'keras.api.keras.datasets.fashion_mnist', 'keras.datasets.imdb', 'keras.api.keras.datasets.imdb', 'keras.datasets.mnist', 'keras.api.keras.datasets.mnist', 'keras.datasets.reuters', 'keras.api.keras.datasets.reuters', 'keras.api.keras.datasets', 'keras.estimator', 'keras.api.keras.estimator', 'keras.feature_column', 'keras.feature_column.base_feature_layer', 'keras.feature_column.sequence_feature_column', 'keras.premade_models.linear', 'keras.premade_models.wide_deep', 'keras.premade_models', 'keras.api.keras.experimental', 'keras.export', 'keras.export.export_lib', 'keras.api.keras.export', 'keras.api.keras.initializers', 'keras.api.keras.layers.experimental.preprocessing', 'keras.api.keras.layers.experimental', 'keras.feature_column.dense_features', 'keras.api.keras.layers', 'keras.api.keras.losses', 'keras.api.keras.metrics', 'keras.api.keras.mixed_precision', 'keras.api.keras.models', 'keras.api.keras.optimizers.legacy', 'keras.api.keras.optimizers.schedules', 'keras.api.keras.optimizers', 'keras.api.keras.preprocessing.image', 'keras.api.keras.preprocessing.sequence', 'keras.api.keras.preprocessing.text', 'keras.api.keras.preprocessing', 'keras.api.keras.regularizers', 'keras.api.keras.saving', 'keras.api.keras.utils.legacy', 'keras.api.keras.utils', 'keras.wrappers', 'keras.wrappers.scikit_learn', 'keras.api.keras.wrappers.scikit_learn', 'keras.api.keras.wrappers', 'keras.api.keras', 'keras.api', 'keras.api._v2.keras.__internal__.backend', 'keras.api._v2.keras.__internal__.layers', 'keras.api._v2.keras.__internal__.losses', 'keras.api._v2.keras.__internal__.models', 'keras.api._v2.keras.__internal__.optimizers', 'keras.testing_infra', 'keras.testing_infra.test_utils', 'keras.api._v2.keras.__internal__.utils', 'keras.api._v2.keras.__internal__', 'keras.api._v2.keras.activations', 'keras.api._v2.keras.applications.convnext', 'keras.api._v2.keras.applications.densenet', 'keras.api._v2.keras.applications.efficientnet', 'keras.api._v2.keras.applications.efficientnet_v2', 'keras.api._v2.keras.applications.imagenet_utils', 'keras.api._v2.keras.applications.inception_resnet_v2', 'keras.api._v2.keras.applications.inception_v3', 'keras.api._v2.keras.applications.mobilenet', 'keras.api._v2.keras.applications.mobilenet_v2', 'keras.api._v2.keras.applications.mobilenet_v3', 'keras.api._v2.keras.applications.nasnet', 'keras.api._v2.keras.applications.regnet', 'keras.api._v2.keras.applications.resnet', 'keras.api._v2.keras.applications.resnet50', 'keras.api._v2.keras.applications.resnet_rs', 'keras.api._v2.keras.applications.resnet_v2', 'keras.api._v2.keras.applications.vgg16', 'keras.api._v2.keras.applications.vgg19', 'keras.api._v2.keras.applications.xception', 'keras.api._v2.keras.applications', 'keras.api._v2.keras.backend.experimental', 'keras.api._v2.keras.backend', 'keras.api._v2.keras.callbacks.experimental', 'keras.api._v2.keras.callbacks', 'keras.api._v2.keras.constraints', 'keras.api._v2.keras.datasets.boston_housing', 'keras.api._v2.keras.datasets.cifar10', 'keras.api._v2.keras.datasets.cifar100', 'keras.api._v2.keras.datasets.fashion_mnist', 'keras.api._v2.keras.datasets.imdb', 'keras.api._v2.keras.datasets.mnist', 'keras.api._v2.keras.datasets.reuters', 'keras.api._v2.keras.datasets', 'keras.dtensor.optimizers', 'keras.api._v2.keras.dtensor.experimental.optimizers', 'keras.api._v2.keras.dtensor.experimental', 'keras.api._v2.keras.dtensor', 'keras.api._v2.keras.estimator', 'keras.api._v2.keras.experimental', 'keras.api._v2.keras.export', 'keras.api._v2.keras.initializers', 'keras.api._v2.keras.layers.experimental.preprocessing', 'keras.api._v2.keras.layers.experimental', 'keras.feature_column.dense_features_v2', 'keras.api._v2.keras.layers', 'keras.api._v2.keras.losses', 'keras.api._v2.keras.metrics', 'keras.api._v2.keras.mixed_precision', 'keras.api._v2.keras.models.experimental', 'keras.api._v2.keras.models', 'keras.api._v2.keras.optimizers.experimental', 'keras.api._v2.keras.optimizers.legacy', 'keras.api._v2.keras.optimizers.schedules', 'keras.api._v2.keras.optimizers', 'keras.api._v2.keras.preprocessing.image', 'keras.api._v2.keras.preprocessing.sequence', 'keras.api._v2.keras.preprocessing.text', 'keras.api._v2.keras.preprocessing', 'keras.api._v2.keras.regularizers', 'keras.api._v2.keras.saving', 'keras.api._v2.keras.utils.experimental', 'keras.api._v2.keras.utils.legacy', 'keras.api._v2.keras.utils', 'keras.api._v2.keras.wrappers.scikit_learn', 'keras.api._v2.keras.wrappers', 'keras.api._v2.keras', 'keras.api._v2', 'tensorflow.keras', 'tensorflow.keras.preprocessing', 'tensorflow.keras.preprocessing.sequence', 'markupsafe._speedups', 'markupsafe', 'jinja2.bccache', 'jinja2.utils', 'jinja2.nodes', 'jinja2.exceptions', 'jinja2.visitor', 'jinja2.idtracking', 'jinja2.optimizer', 'jinja2.compiler', 'jinja2.async_utils', 'jinja2.runtime', 'jinja2.filters', 'jinja2.tests', 'jinja2.defaults', 'jinja2._identifier', 'jinja2.lexer', 'jinja2.parser', 'jinja2.environment', 'jinja2.loaders', 'jinja2', 'werkzeug._internal', 'werkzeug.exceptions', 'werkzeug.datastructures.mixins', 'werkzeug.sansio', 'werkzeug.sansio.http', 'werkzeug.http', 'werkzeug.datastructures.structures', 'werkzeug.datastructures.accept', 'werkzeug.datastructures.auth', 'werkzeug.datastructures.cache_control', 'werkzeug.datastructures.csp', 'werkzeug.datastructures.etag', 'werkzeug.datastructures.file_storage', 'werkzeug.datastructures.headers', 'werkzeug.datastructures.range', 'werkzeug.datastructures', 'werkzeug.urls', 'werkzeug.serving', 'werkzeug.sansio.multipart', 'werkzeug.security', 'werkzeug.sansio.utils', 'werkzeug.wsgi', 'werkzeug.utils', 'werkzeug.formparser', 'werkzeug.user_agent', 'werkzeug.sansio.request', 'werkzeug.wrappers.request', 'werkzeug.sansio.response', 'werkzeug.wrappers.response', 'werkzeug.wrappers', 'werkzeug.test', 'werkzeug', 'werkzeug.local', 'flask.globals', 'flask.json.provider', 'flask.json', 'click._compat', 'click.globals', 'click.utils', 'click.exceptions', 'click.types', 'click.parser', 'click.formatting', 'click.termui', 'click.core', 'click.decorators', 'click', 'werkzeug.routing.converters', 'werkzeug.routing.exceptions', 'werkzeug.routing.rules', 'werkzeug.routing.matcher', 'werkzeug.routing.map', 'werkzeug.routing', 'flask.signals', 'flask.helpers', 'flask.cli', 'flask.typing', 'flask.config', 'flask.ctx', 'flask.logging', 'flask.templating', 'flask.scaffold', 'itsdangerous.exc', 'itsdangerous.encoding', 'itsdangerous.signer', 'itsdangerous.serializer', 'itsdangerous.timed', 'itsdangerous._json', 'itsdangerous.url_safe', 'itsdangerous', 'flask.json.tag', 'flask.sessions', 'flask.wrappers', 'flask.app', 'flask.blueprints', 'flask', 'stdlib_list._version', 'stdlib_list.base', 'stdlib_list', 'session_info.main', 'session_info._version', 'session_info', 'ipython_genutils.tempdir', 'notebook._version', 'notebook.config_manager', 'jupyter_core.application', 'notebook.extensions', 'notebook.nbextensions', 'notebook'])\n"
          ]
        }
      ]
    },
    {
      "cell_type": "markdown",
      "metadata": {
        "id": "9ce0ac18"
      },
      "source": [
        "# Load Data"
      ],
      "id": "9ce0ac18"
    },
    {
      "cell_type": "code",
      "execution_count": null,
      "metadata": {
        "id": "0A-5U5DLtNUW"
      },
      "outputs": [],
      "source": [
        "!mkdir '/content/data/'"
      ],
      "id": "0A-5U5DLtNUW"
    },
    {
      "cell_type": "code",
      "execution_count": null,
      "metadata": {
        "colab": {
          "base_uri": "https://localhost:8080/"
        },
        "id": "cgbBpaOrs7Lu",
        "outputId": "b402b046-0906-4980-a30d-2a5b2bd4bd39"
      },
      "outputs": [
        {
          "output_type": "stream",
          "name": "stdout",
          "text": [
            "Archive:  /content/drive/MyDrive/jigsaw-toxic-comment-classification-challenge.zip\n",
            "  inflating: /content/data/sample_submission.csv.zip  \n",
            "  inflating: /content/data/test.csv.zip  \n",
            "  inflating: /content/data/test_labels.csv.zip  \n",
            "  inflating: /content/data/train.csv.zip  \n"
          ]
        }
      ],
      "source": [
        "!unzip '/content/drive/MyDrive/jigsaw-toxic-comment-classification-challenge' -d '/content/data/'"
      ],
      "id": "cgbBpaOrs7Lu"
    },
    {
      "cell_type": "code",
      "execution_count": null,
      "metadata": {
        "id": "53b23c7b"
      },
      "outputs": [],
      "source": [
        "train=pd.read_csv(\"/content/data/train.csv.zip\")\n",
        "test=pd.read_csv(\"/content/data/test.csv.zip\")"
      ],
      "id": "53b23c7b"
    },
    {
      "cell_type": "code",
      "execution_count": null,
      "metadata": {
        "colab": {
          "base_uri": "https://localhost:8080/",
          "height": 423
        },
        "id": "sqQDEw9Lt2iq",
        "outputId": "53254b8c-c9fb-4d32-b94e-771f9c6282d9"
      },
      "outputs": [
        {
          "output_type": "execute_result",
          "data": {
            "text/plain": [
              "                      id                                       comment_text  \\\n",
              "0       0000997932d777bf  Explanation\\nWhy the edits made under my usern...   \n",
              "1       000103f0d9cfb60f  D'aww! He matches this background colour I'm s...   \n",
              "2       000113f07ec002fd  Hey man, I'm really not trying to edit war. It...   \n",
              "3       0001b41b1c6bb37e  \"\\nMore\\nI can't make any real suggestions on ...   \n",
              "4       0001d958c54c6e35  You, sir, are my hero. Any chance you remember...   \n",
              "...                  ...                                                ...   \n",
              "159566  ffe987279560d7ff  \":::::And for the second time of asking, when ...   \n",
              "159567  ffea4adeee384e90  You should be ashamed of yourself \\n\\nThat is ...   \n",
              "159568  ffee36eab5c267c9  Spitzer \\n\\nUmm, theres no actual article for ...   \n",
              "159569  fff125370e4aaaf3  And it looks like it was actually you who put ...   \n",
              "159570  fff46fc426af1f9a  \"\\nAnd ... I really don't think you understand...   \n",
              "\n",
              "        toxic  severe_toxic  obscene  threat  insult  identity_hate  \n",
              "0           0             0        0       0       0              0  \n",
              "1           0             0        0       0       0              0  \n",
              "2           0             0        0       0       0              0  \n",
              "3           0             0        0       0       0              0  \n",
              "4           0             0        0       0       0              0  \n",
              "...       ...           ...      ...     ...     ...            ...  \n",
              "159566      0             0        0       0       0              0  \n",
              "159567      0             0        0       0       0              0  \n",
              "159568      0             0        0       0       0              0  \n",
              "159569      0             0        0       0       0              0  \n",
              "159570      0             0        0       0       0              0  \n",
              "\n",
              "[159571 rows x 8 columns]"
            ],
            "text/html": [
              "\n",
              "  <div id=\"df-f9469fea-b997-4e39-998c-4af93e580017\">\n",
              "    <div class=\"colab-df-container\">\n",
              "      <div>\n",
              "<style scoped>\n",
              "    .dataframe tbody tr th:only-of-type {\n",
              "        vertical-align: middle;\n",
              "    }\n",
              "\n",
              "    .dataframe tbody tr th {\n",
              "        vertical-align: top;\n",
              "    }\n",
              "\n",
              "    .dataframe thead th {\n",
              "        text-align: right;\n",
              "    }\n",
              "</style>\n",
              "<table border=\"1\" class=\"dataframe\">\n",
              "  <thead>\n",
              "    <tr style=\"text-align: right;\">\n",
              "      <th></th>\n",
              "      <th>id</th>\n",
              "      <th>comment_text</th>\n",
              "      <th>toxic</th>\n",
              "      <th>severe_toxic</th>\n",
              "      <th>obscene</th>\n",
              "      <th>threat</th>\n",
              "      <th>insult</th>\n",
              "      <th>identity_hate</th>\n",
              "    </tr>\n",
              "  </thead>\n",
              "  <tbody>\n",
              "    <tr>\n",
              "      <th>0</th>\n",
              "      <td>0000997932d777bf</td>\n",
              "      <td>Explanation\\nWhy the edits made under my usern...</td>\n",
              "      <td>0</td>\n",
              "      <td>0</td>\n",
              "      <td>0</td>\n",
              "      <td>0</td>\n",
              "      <td>0</td>\n",
              "      <td>0</td>\n",
              "    </tr>\n",
              "    <tr>\n",
              "      <th>1</th>\n",
              "      <td>000103f0d9cfb60f</td>\n",
              "      <td>D'aww! He matches this background colour I'm s...</td>\n",
              "      <td>0</td>\n",
              "      <td>0</td>\n",
              "      <td>0</td>\n",
              "      <td>0</td>\n",
              "      <td>0</td>\n",
              "      <td>0</td>\n",
              "    </tr>\n",
              "    <tr>\n",
              "      <th>2</th>\n",
              "      <td>000113f07ec002fd</td>\n",
              "      <td>Hey man, I'm really not trying to edit war. It...</td>\n",
              "      <td>0</td>\n",
              "      <td>0</td>\n",
              "      <td>0</td>\n",
              "      <td>0</td>\n",
              "      <td>0</td>\n",
              "      <td>0</td>\n",
              "    </tr>\n",
              "    <tr>\n",
              "      <th>3</th>\n",
              "      <td>0001b41b1c6bb37e</td>\n",
              "      <td>\"\\nMore\\nI can't make any real suggestions on ...</td>\n",
              "      <td>0</td>\n",
              "      <td>0</td>\n",
              "      <td>0</td>\n",
              "      <td>0</td>\n",
              "      <td>0</td>\n",
              "      <td>0</td>\n",
              "    </tr>\n",
              "    <tr>\n",
              "      <th>4</th>\n",
              "      <td>0001d958c54c6e35</td>\n",
              "      <td>You, sir, are my hero. Any chance you remember...</td>\n",
              "      <td>0</td>\n",
              "      <td>0</td>\n",
              "      <td>0</td>\n",
              "      <td>0</td>\n",
              "      <td>0</td>\n",
              "      <td>0</td>\n",
              "    </tr>\n",
              "    <tr>\n",
              "      <th>...</th>\n",
              "      <td>...</td>\n",
              "      <td>...</td>\n",
              "      <td>...</td>\n",
              "      <td>...</td>\n",
              "      <td>...</td>\n",
              "      <td>...</td>\n",
              "      <td>...</td>\n",
              "      <td>...</td>\n",
              "    </tr>\n",
              "    <tr>\n",
              "      <th>159566</th>\n",
              "      <td>ffe987279560d7ff</td>\n",
              "      <td>\":::::And for the second time of asking, when ...</td>\n",
              "      <td>0</td>\n",
              "      <td>0</td>\n",
              "      <td>0</td>\n",
              "      <td>0</td>\n",
              "      <td>0</td>\n",
              "      <td>0</td>\n",
              "    </tr>\n",
              "    <tr>\n",
              "      <th>159567</th>\n",
              "      <td>ffea4adeee384e90</td>\n",
              "      <td>You should be ashamed of yourself \\n\\nThat is ...</td>\n",
              "      <td>0</td>\n",
              "      <td>0</td>\n",
              "      <td>0</td>\n",
              "      <td>0</td>\n",
              "      <td>0</td>\n",
              "      <td>0</td>\n",
              "    </tr>\n",
              "    <tr>\n",
              "      <th>159568</th>\n",
              "      <td>ffee36eab5c267c9</td>\n",
              "      <td>Spitzer \\n\\nUmm, theres no actual article for ...</td>\n",
              "      <td>0</td>\n",
              "      <td>0</td>\n",
              "      <td>0</td>\n",
              "      <td>0</td>\n",
              "      <td>0</td>\n",
              "      <td>0</td>\n",
              "    </tr>\n",
              "    <tr>\n",
              "      <th>159569</th>\n",
              "      <td>fff125370e4aaaf3</td>\n",
              "      <td>And it looks like it was actually you who put ...</td>\n",
              "      <td>0</td>\n",
              "      <td>0</td>\n",
              "      <td>0</td>\n",
              "      <td>0</td>\n",
              "      <td>0</td>\n",
              "      <td>0</td>\n",
              "    </tr>\n",
              "    <tr>\n",
              "      <th>159570</th>\n",
              "      <td>fff46fc426af1f9a</td>\n",
              "      <td>\"\\nAnd ... I really don't think you understand...</td>\n",
              "      <td>0</td>\n",
              "      <td>0</td>\n",
              "      <td>0</td>\n",
              "      <td>0</td>\n",
              "      <td>0</td>\n",
              "      <td>0</td>\n",
              "    </tr>\n",
              "  </tbody>\n",
              "</table>\n",
              "<p>159571 rows × 8 columns</p>\n",
              "</div>\n",
              "      <button class=\"colab-df-convert\" onclick=\"convertToInteractive('df-f9469fea-b997-4e39-998c-4af93e580017')\"\n",
              "              title=\"Convert this dataframe to an interactive table.\"\n",
              "              style=\"display:none;\">\n",
              "        \n",
              "  <svg xmlns=\"http://www.w3.org/2000/svg\" height=\"24px\"viewBox=\"0 0 24 24\"\n",
              "       width=\"24px\">\n",
              "    <path d=\"M0 0h24v24H0V0z\" fill=\"none\"/>\n",
              "    <path d=\"M18.56 5.44l.94 2.06.94-2.06 2.06-.94-2.06-.94-.94-2.06-.94 2.06-2.06.94zm-11 1L8.5 8.5l.94-2.06 2.06-.94-2.06-.94L8.5 2.5l-.94 2.06-2.06.94zm10 10l.94 2.06.94-2.06 2.06-.94-2.06-.94-.94-2.06-.94 2.06-2.06.94z\"/><path d=\"M17.41 7.96l-1.37-1.37c-.4-.4-.92-.59-1.43-.59-.52 0-1.04.2-1.43.59L10.3 9.45l-7.72 7.72c-.78.78-.78 2.05 0 2.83L4 21.41c.39.39.9.59 1.41.59.51 0 1.02-.2 1.41-.59l7.78-7.78 2.81-2.81c.8-.78.8-2.07 0-2.86zM5.41 20L4 18.59l7.72-7.72 1.47 1.35L5.41 20z\"/>\n",
              "  </svg>\n",
              "      </button>\n",
              "      \n",
              "  <style>\n",
              "    .colab-df-container {\n",
              "      display:flex;\n",
              "      flex-wrap:wrap;\n",
              "      gap: 12px;\n",
              "    }\n",
              "\n",
              "    .colab-df-convert {\n",
              "      background-color: #E8F0FE;\n",
              "      border: none;\n",
              "      border-radius: 50%;\n",
              "      cursor: pointer;\n",
              "      display: none;\n",
              "      fill: #1967D2;\n",
              "      height: 32px;\n",
              "      padding: 0 0 0 0;\n",
              "      width: 32px;\n",
              "    }\n",
              "\n",
              "    .colab-df-convert:hover {\n",
              "      background-color: #E2EBFA;\n",
              "      box-shadow: 0px 1px 2px rgba(60, 64, 67, 0.3), 0px 1px 3px 1px rgba(60, 64, 67, 0.15);\n",
              "      fill: #174EA6;\n",
              "    }\n",
              "\n",
              "    [theme=dark] .colab-df-convert {\n",
              "      background-color: #3B4455;\n",
              "      fill: #D2E3FC;\n",
              "    }\n",
              "\n",
              "    [theme=dark] .colab-df-convert:hover {\n",
              "      background-color: #434B5C;\n",
              "      box-shadow: 0px 1px 3px 1px rgba(0, 0, 0, 0.15);\n",
              "      filter: drop-shadow(0px 1px 2px rgba(0, 0, 0, 0.3));\n",
              "      fill: #FFFFFF;\n",
              "    }\n",
              "  </style>\n",
              "\n",
              "      <script>\n",
              "        const buttonEl =\n",
              "          document.querySelector('#df-f9469fea-b997-4e39-998c-4af93e580017 button.colab-df-convert');\n",
              "        buttonEl.style.display =\n",
              "          google.colab.kernel.accessAllowed ? 'block' : 'none';\n",
              "\n",
              "        async function convertToInteractive(key) {\n",
              "          const element = document.querySelector('#df-f9469fea-b997-4e39-998c-4af93e580017');\n",
              "          const dataTable =\n",
              "            await google.colab.kernel.invokeFunction('convertToInteractive',\n",
              "                                                     [key], {});\n",
              "          if (!dataTable) return;\n",
              "\n",
              "          const docLinkHtml = 'Like what you see? Visit the ' +\n",
              "            '<a target=\"_blank\" href=https://colab.research.google.com/notebooks/data_table.ipynb>data table notebook</a>'\n",
              "            + ' to learn more about interactive tables.';\n",
              "          element.innerHTML = '';\n",
              "          dataTable['output_type'] = 'display_data';\n",
              "          await google.colab.output.renderOutput(dataTable, element);\n",
              "          const docLink = document.createElement('div');\n",
              "          docLink.innerHTML = docLinkHtml;\n",
              "          element.appendChild(docLink);\n",
              "        }\n",
              "      </script>\n",
              "    </div>\n",
              "  </div>\n",
              "  "
            ]
          },
          "metadata": {},
          "execution_count": 7
        }
      ],
      "source": [
        "train"
      ],
      "id": "sqQDEw9Lt2iq"
    },
    {
      "cell_type": "code",
      "execution_count": null,
      "metadata": {
        "colab": {
          "base_uri": "https://localhost:8080/",
          "height": 423
        },
        "id": "7uVWziHTt4vd",
        "outputId": "b5521621-3179-47be-9502-4b9e86b6ff8e"
      },
      "outputs": [
        {
          "output_type": "execute_result",
          "data": {
            "text/plain": [
              "                      id                                       comment_text\n",
              "0       00001cee341fdb12  Yo bitch Ja Rule is more succesful then you'll...\n",
              "1       0000247867823ef7  == From RfC == \\n\\n The title is fine as it is...\n",
              "2       00013b17ad220c46  \" \\n\\n == Sources == \\n\\n * Zawe Ashton on Lap...\n",
              "3       00017563c3f7919a  :If you have a look back at the source, the in...\n",
              "4       00017695ad8997eb          I don't anonymously edit articles at all.\n",
              "...                  ...                                                ...\n",
              "153159  fffcd0960ee309b5  . \\n i totally agree, this stuff is nothing bu...\n",
              "153160  fffd7a9a6eb32c16  == Throw from out field to home plate. == \\n\\n...\n",
              "153161  fffda9e8d6fafa9e  \" \\n\\n == Okinotorishima categories == \\n\\n I ...\n",
              "153162  fffe8f1340a79fc2  \" \\n\\n == \"\"One of the founding nations of the...\n",
              "153163  ffffce3fb183ee80  \" \\n :::Stop already. Your bullshit is not wel...\n",
              "\n",
              "[153164 rows x 2 columns]"
            ],
            "text/html": [
              "\n",
              "  <div id=\"df-0d19eac0-1b27-4d0f-839c-9e7cc44fa0c1\">\n",
              "    <div class=\"colab-df-container\">\n",
              "      <div>\n",
              "<style scoped>\n",
              "    .dataframe tbody tr th:only-of-type {\n",
              "        vertical-align: middle;\n",
              "    }\n",
              "\n",
              "    .dataframe tbody tr th {\n",
              "        vertical-align: top;\n",
              "    }\n",
              "\n",
              "    .dataframe thead th {\n",
              "        text-align: right;\n",
              "    }\n",
              "</style>\n",
              "<table border=\"1\" class=\"dataframe\">\n",
              "  <thead>\n",
              "    <tr style=\"text-align: right;\">\n",
              "      <th></th>\n",
              "      <th>id</th>\n",
              "      <th>comment_text</th>\n",
              "    </tr>\n",
              "  </thead>\n",
              "  <tbody>\n",
              "    <tr>\n",
              "      <th>0</th>\n",
              "      <td>00001cee341fdb12</td>\n",
              "      <td>Yo bitch Ja Rule is more succesful then you'll...</td>\n",
              "    </tr>\n",
              "    <tr>\n",
              "      <th>1</th>\n",
              "      <td>0000247867823ef7</td>\n",
              "      <td>== From RfC == \\n\\n The title is fine as it is...</td>\n",
              "    </tr>\n",
              "    <tr>\n",
              "      <th>2</th>\n",
              "      <td>00013b17ad220c46</td>\n",
              "      <td>\" \\n\\n == Sources == \\n\\n * Zawe Ashton on Lap...</td>\n",
              "    </tr>\n",
              "    <tr>\n",
              "      <th>3</th>\n",
              "      <td>00017563c3f7919a</td>\n",
              "      <td>:If you have a look back at the source, the in...</td>\n",
              "    </tr>\n",
              "    <tr>\n",
              "      <th>4</th>\n",
              "      <td>00017695ad8997eb</td>\n",
              "      <td>I don't anonymously edit articles at all.</td>\n",
              "    </tr>\n",
              "    <tr>\n",
              "      <th>...</th>\n",
              "      <td>...</td>\n",
              "      <td>...</td>\n",
              "    </tr>\n",
              "    <tr>\n",
              "      <th>153159</th>\n",
              "      <td>fffcd0960ee309b5</td>\n",
              "      <td>. \\n i totally agree, this stuff is nothing bu...</td>\n",
              "    </tr>\n",
              "    <tr>\n",
              "      <th>153160</th>\n",
              "      <td>fffd7a9a6eb32c16</td>\n",
              "      <td>== Throw from out field to home plate. == \\n\\n...</td>\n",
              "    </tr>\n",
              "    <tr>\n",
              "      <th>153161</th>\n",
              "      <td>fffda9e8d6fafa9e</td>\n",
              "      <td>\" \\n\\n == Okinotorishima categories == \\n\\n I ...</td>\n",
              "    </tr>\n",
              "    <tr>\n",
              "      <th>153162</th>\n",
              "      <td>fffe8f1340a79fc2</td>\n",
              "      <td>\" \\n\\n == \"\"One of the founding nations of the...</td>\n",
              "    </tr>\n",
              "    <tr>\n",
              "      <th>153163</th>\n",
              "      <td>ffffce3fb183ee80</td>\n",
              "      <td>\" \\n :::Stop already. Your bullshit is not wel...</td>\n",
              "    </tr>\n",
              "  </tbody>\n",
              "</table>\n",
              "<p>153164 rows × 2 columns</p>\n",
              "</div>\n",
              "      <button class=\"colab-df-convert\" onclick=\"convertToInteractive('df-0d19eac0-1b27-4d0f-839c-9e7cc44fa0c1')\"\n",
              "              title=\"Convert this dataframe to an interactive table.\"\n",
              "              style=\"display:none;\">\n",
              "        \n",
              "  <svg xmlns=\"http://www.w3.org/2000/svg\" height=\"24px\"viewBox=\"0 0 24 24\"\n",
              "       width=\"24px\">\n",
              "    <path d=\"M0 0h24v24H0V0z\" fill=\"none\"/>\n",
              "    <path d=\"M18.56 5.44l.94 2.06.94-2.06 2.06-.94-2.06-.94-.94-2.06-.94 2.06-2.06.94zm-11 1L8.5 8.5l.94-2.06 2.06-.94-2.06-.94L8.5 2.5l-.94 2.06-2.06.94zm10 10l.94 2.06.94-2.06 2.06-.94-2.06-.94-.94-2.06-.94 2.06-2.06.94z\"/><path d=\"M17.41 7.96l-1.37-1.37c-.4-.4-.92-.59-1.43-.59-.52 0-1.04.2-1.43.59L10.3 9.45l-7.72 7.72c-.78.78-.78 2.05 0 2.83L4 21.41c.39.39.9.59 1.41.59.51 0 1.02-.2 1.41-.59l7.78-7.78 2.81-2.81c.8-.78.8-2.07 0-2.86zM5.41 20L4 18.59l7.72-7.72 1.47 1.35L5.41 20z\"/>\n",
              "  </svg>\n",
              "      </button>\n",
              "      \n",
              "  <style>\n",
              "    .colab-df-container {\n",
              "      display:flex;\n",
              "      flex-wrap:wrap;\n",
              "      gap: 12px;\n",
              "    }\n",
              "\n",
              "    .colab-df-convert {\n",
              "      background-color: #E8F0FE;\n",
              "      border: none;\n",
              "      border-radius: 50%;\n",
              "      cursor: pointer;\n",
              "      display: none;\n",
              "      fill: #1967D2;\n",
              "      height: 32px;\n",
              "      padding: 0 0 0 0;\n",
              "      width: 32px;\n",
              "    }\n",
              "\n",
              "    .colab-df-convert:hover {\n",
              "      background-color: #E2EBFA;\n",
              "      box-shadow: 0px 1px 2px rgba(60, 64, 67, 0.3), 0px 1px 3px 1px rgba(60, 64, 67, 0.15);\n",
              "      fill: #174EA6;\n",
              "    }\n",
              "\n",
              "    [theme=dark] .colab-df-convert {\n",
              "      background-color: #3B4455;\n",
              "      fill: #D2E3FC;\n",
              "    }\n",
              "\n",
              "    [theme=dark] .colab-df-convert:hover {\n",
              "      background-color: #434B5C;\n",
              "      box-shadow: 0px 1px 3px 1px rgba(0, 0, 0, 0.15);\n",
              "      filter: drop-shadow(0px 1px 2px rgba(0, 0, 0, 0.3));\n",
              "      fill: #FFFFFF;\n",
              "    }\n",
              "  </style>\n",
              "\n",
              "      <script>\n",
              "        const buttonEl =\n",
              "          document.querySelector('#df-0d19eac0-1b27-4d0f-839c-9e7cc44fa0c1 button.colab-df-convert');\n",
              "        buttonEl.style.display =\n",
              "          google.colab.kernel.accessAllowed ? 'block' : 'none';\n",
              "\n",
              "        async function convertToInteractive(key) {\n",
              "          const element = document.querySelector('#df-0d19eac0-1b27-4d0f-839c-9e7cc44fa0c1');\n",
              "          const dataTable =\n",
              "            await google.colab.kernel.invokeFunction('convertToInteractive',\n",
              "                                                     [key], {});\n",
              "          if (!dataTable) return;\n",
              "\n",
              "          const docLinkHtml = 'Like what you see? Visit the ' +\n",
              "            '<a target=\"_blank\" href=https://colab.research.google.com/notebooks/data_table.ipynb>data table notebook</a>'\n",
              "            + ' to learn more about interactive tables.';\n",
              "          element.innerHTML = '';\n",
              "          dataTable['output_type'] = 'display_data';\n",
              "          await google.colab.output.renderOutput(dataTable, element);\n",
              "          const docLink = document.createElement('div');\n",
              "          docLink.innerHTML = docLinkHtml;\n",
              "          element.appendChild(docLink);\n",
              "        }\n",
              "      </script>\n",
              "    </div>\n",
              "  </div>\n",
              "  "
            ]
          },
          "metadata": {},
          "execution_count": 8
        }
      ],
      "source": [
        "test"
      ],
      "id": "7uVWziHTt4vd"
    },
    {
      "cell_type": "code",
      "execution_count": null,
      "metadata": {
        "colab": {
          "base_uri": "https://localhost:8080/",
          "height": 300
        },
        "id": "MC907GrKt8Cx",
        "outputId": "be0d9b8a-c488-4bea-b471-490f792db84b"
      },
      "outputs": [
        {
          "output_type": "execute_result",
          "data": {
            "text/plain": [
              "               toxic   severe_toxic        obscene         threat  \\\n",
              "count  159571.000000  159571.000000  159571.000000  159571.000000   \n",
              "mean        0.095844       0.009996       0.052948       0.002996   \n",
              "std         0.294379       0.099477       0.223931       0.054650   \n",
              "min         0.000000       0.000000       0.000000       0.000000   \n",
              "25%         0.000000       0.000000       0.000000       0.000000   \n",
              "50%         0.000000       0.000000       0.000000       0.000000   \n",
              "75%         0.000000       0.000000       0.000000       0.000000   \n",
              "max         1.000000       1.000000       1.000000       1.000000   \n",
              "\n",
              "              insult  identity_hate  \n",
              "count  159571.000000  159571.000000  \n",
              "mean        0.049364       0.008805  \n",
              "std         0.216627       0.093420  \n",
              "min         0.000000       0.000000  \n",
              "25%         0.000000       0.000000  \n",
              "50%         0.000000       0.000000  \n",
              "75%         0.000000       0.000000  \n",
              "max         1.000000       1.000000  "
            ],
            "text/html": [
              "\n",
              "  <div id=\"df-c7990dde-2d4f-4574-8d5f-b0f911d52c25\">\n",
              "    <div class=\"colab-df-container\">\n",
              "      <div>\n",
              "<style scoped>\n",
              "    .dataframe tbody tr th:only-of-type {\n",
              "        vertical-align: middle;\n",
              "    }\n",
              "\n",
              "    .dataframe tbody tr th {\n",
              "        vertical-align: top;\n",
              "    }\n",
              "\n",
              "    .dataframe thead th {\n",
              "        text-align: right;\n",
              "    }\n",
              "</style>\n",
              "<table border=\"1\" class=\"dataframe\">\n",
              "  <thead>\n",
              "    <tr style=\"text-align: right;\">\n",
              "      <th></th>\n",
              "      <th>toxic</th>\n",
              "      <th>severe_toxic</th>\n",
              "      <th>obscene</th>\n",
              "      <th>threat</th>\n",
              "      <th>insult</th>\n",
              "      <th>identity_hate</th>\n",
              "    </tr>\n",
              "  </thead>\n",
              "  <tbody>\n",
              "    <tr>\n",
              "      <th>count</th>\n",
              "      <td>159571.000000</td>\n",
              "      <td>159571.000000</td>\n",
              "      <td>159571.000000</td>\n",
              "      <td>159571.000000</td>\n",
              "      <td>159571.000000</td>\n",
              "      <td>159571.000000</td>\n",
              "    </tr>\n",
              "    <tr>\n",
              "      <th>mean</th>\n",
              "      <td>0.095844</td>\n",
              "      <td>0.009996</td>\n",
              "      <td>0.052948</td>\n",
              "      <td>0.002996</td>\n",
              "      <td>0.049364</td>\n",
              "      <td>0.008805</td>\n",
              "    </tr>\n",
              "    <tr>\n",
              "      <th>std</th>\n",
              "      <td>0.294379</td>\n",
              "      <td>0.099477</td>\n",
              "      <td>0.223931</td>\n",
              "      <td>0.054650</td>\n",
              "      <td>0.216627</td>\n",
              "      <td>0.093420</td>\n",
              "    </tr>\n",
              "    <tr>\n",
              "      <th>min</th>\n",
              "      <td>0.000000</td>\n",
              "      <td>0.000000</td>\n",
              "      <td>0.000000</td>\n",
              "      <td>0.000000</td>\n",
              "      <td>0.000000</td>\n",
              "      <td>0.000000</td>\n",
              "    </tr>\n",
              "    <tr>\n",
              "      <th>25%</th>\n",
              "      <td>0.000000</td>\n",
              "      <td>0.000000</td>\n",
              "      <td>0.000000</td>\n",
              "      <td>0.000000</td>\n",
              "      <td>0.000000</td>\n",
              "      <td>0.000000</td>\n",
              "    </tr>\n",
              "    <tr>\n",
              "      <th>50%</th>\n",
              "      <td>0.000000</td>\n",
              "      <td>0.000000</td>\n",
              "      <td>0.000000</td>\n",
              "      <td>0.000000</td>\n",
              "      <td>0.000000</td>\n",
              "      <td>0.000000</td>\n",
              "    </tr>\n",
              "    <tr>\n",
              "      <th>75%</th>\n",
              "      <td>0.000000</td>\n",
              "      <td>0.000000</td>\n",
              "      <td>0.000000</td>\n",
              "      <td>0.000000</td>\n",
              "      <td>0.000000</td>\n",
              "      <td>0.000000</td>\n",
              "    </tr>\n",
              "    <tr>\n",
              "      <th>max</th>\n",
              "      <td>1.000000</td>\n",
              "      <td>1.000000</td>\n",
              "      <td>1.000000</td>\n",
              "      <td>1.000000</td>\n",
              "      <td>1.000000</td>\n",
              "      <td>1.000000</td>\n",
              "    </tr>\n",
              "  </tbody>\n",
              "</table>\n",
              "</div>\n",
              "      <button class=\"colab-df-convert\" onclick=\"convertToInteractive('df-c7990dde-2d4f-4574-8d5f-b0f911d52c25')\"\n",
              "              title=\"Convert this dataframe to an interactive table.\"\n",
              "              style=\"display:none;\">\n",
              "        \n",
              "  <svg xmlns=\"http://www.w3.org/2000/svg\" height=\"24px\"viewBox=\"0 0 24 24\"\n",
              "       width=\"24px\">\n",
              "    <path d=\"M0 0h24v24H0V0z\" fill=\"none\"/>\n",
              "    <path d=\"M18.56 5.44l.94 2.06.94-2.06 2.06-.94-2.06-.94-.94-2.06-.94 2.06-2.06.94zm-11 1L8.5 8.5l.94-2.06 2.06-.94-2.06-.94L8.5 2.5l-.94 2.06-2.06.94zm10 10l.94 2.06.94-2.06 2.06-.94-2.06-.94-.94-2.06-.94 2.06-2.06.94z\"/><path d=\"M17.41 7.96l-1.37-1.37c-.4-.4-.92-.59-1.43-.59-.52 0-1.04.2-1.43.59L10.3 9.45l-7.72 7.72c-.78.78-.78 2.05 0 2.83L4 21.41c.39.39.9.59 1.41.59.51 0 1.02-.2 1.41-.59l7.78-7.78 2.81-2.81c.8-.78.8-2.07 0-2.86zM5.41 20L4 18.59l7.72-7.72 1.47 1.35L5.41 20z\"/>\n",
              "  </svg>\n",
              "      </button>\n",
              "      \n",
              "  <style>\n",
              "    .colab-df-container {\n",
              "      display:flex;\n",
              "      flex-wrap:wrap;\n",
              "      gap: 12px;\n",
              "    }\n",
              "\n",
              "    .colab-df-convert {\n",
              "      background-color: #E8F0FE;\n",
              "      border: none;\n",
              "      border-radius: 50%;\n",
              "      cursor: pointer;\n",
              "      display: none;\n",
              "      fill: #1967D2;\n",
              "      height: 32px;\n",
              "      padding: 0 0 0 0;\n",
              "      width: 32px;\n",
              "    }\n",
              "\n",
              "    .colab-df-convert:hover {\n",
              "      background-color: #E2EBFA;\n",
              "      box-shadow: 0px 1px 2px rgba(60, 64, 67, 0.3), 0px 1px 3px 1px rgba(60, 64, 67, 0.15);\n",
              "      fill: #174EA6;\n",
              "    }\n",
              "\n",
              "    [theme=dark] .colab-df-convert {\n",
              "      background-color: #3B4455;\n",
              "      fill: #D2E3FC;\n",
              "    }\n",
              "\n",
              "    [theme=dark] .colab-df-convert:hover {\n",
              "      background-color: #434B5C;\n",
              "      box-shadow: 0px 1px 3px 1px rgba(0, 0, 0, 0.15);\n",
              "      filter: drop-shadow(0px 1px 2px rgba(0, 0, 0, 0.3));\n",
              "      fill: #FFFFFF;\n",
              "    }\n",
              "  </style>\n",
              "\n",
              "      <script>\n",
              "        const buttonEl =\n",
              "          document.querySelector('#df-c7990dde-2d4f-4574-8d5f-b0f911d52c25 button.colab-df-convert');\n",
              "        buttonEl.style.display =\n",
              "          google.colab.kernel.accessAllowed ? 'block' : 'none';\n",
              "\n",
              "        async function convertToInteractive(key) {\n",
              "          const element = document.querySelector('#df-c7990dde-2d4f-4574-8d5f-b0f911d52c25');\n",
              "          const dataTable =\n",
              "            await google.colab.kernel.invokeFunction('convertToInteractive',\n",
              "                                                     [key], {});\n",
              "          if (!dataTable) return;\n",
              "\n",
              "          const docLinkHtml = 'Like what you see? Visit the ' +\n",
              "            '<a target=\"_blank\" href=https://colab.research.google.com/notebooks/data_table.ipynb>data table notebook</a>'\n",
              "            + ' to learn more about interactive tables.';\n",
              "          element.innerHTML = '';\n",
              "          dataTable['output_type'] = 'display_data';\n",
              "          await google.colab.output.renderOutput(dataTable, element);\n",
              "          const docLink = document.createElement('div');\n",
              "          docLink.innerHTML = docLinkHtml;\n",
              "          element.appendChild(docLink);\n",
              "        }\n",
              "      </script>\n",
              "    </div>\n",
              "  </div>\n",
              "  "
            ]
          },
          "metadata": {},
          "execution_count": 7
        }
      ],
      "source": [
        "train.describe()"
      ],
      "id": "MC907GrKt8Cx"
    },
    {
      "cell_type": "code",
      "execution_count": null,
      "metadata": {
        "id": "CvPT-rpJyduv"
      },
      "outputs": [],
      "source": [
        "from sklearn.model_selection import train_test_split"
      ],
      "id": "CvPT-rpJyduv"
    },
    {
      "cell_type": "code",
      "execution_count": null,
      "metadata": {
        "id": "TPU0JQapyWJQ"
      },
      "outputs": [],
      "source": [
        "train, test = train_test_split(train, test_size=0.2)"
      ],
      "id": "TPU0JQapyWJQ"
    },
    {
      "cell_type": "code",
      "execution_count": null,
      "metadata": {
        "colab": {
          "base_uri": "https://localhost:8080/",
          "height": 423
        },
        "id": "1o2Q35EsykC2",
        "outputId": "39f62dc3-4661-4eaa-f8b0-8b4204922403"
      },
      "outputs": [
        {
          "output_type": "execute_result",
          "data": {
            "text/plain": [
              "                      id                                       comment_text  \\\n",
              "77265   cefaef5751244984  The English dub episodes of Yu-Gi-Oh! Arc-V fo...   \n",
              "45988   7ae39594f5bdcf6d  No personal attacks \\n\\nI was not personally a...   \n",
              "60054   a0ba9aa9d74e4adc  Important question \\n\\nHello neighbour,  what'...   \n",
              "144665  109c74cdacb3e549  That sounds good, but I have to say I'm a bit ...   \n",
              "39913   6a8a2f4d16bf4625  formating problem \\n\\nThe value is supposed to...   \n",
              "...                  ...                                                ...   \n",
              "54376   914b5c79987680c2  Hello asshole. Your mother might be a cross wi...   \n",
              "4429    0bc9fb959bbcc74c  \"\\n I do know what the \"\"L\"\" in BLP stands for...   \n",
              "135912  d6f779b6836c8093  A Response\\nI am not sure if you are a moderat...   \n",
              "98526   0f09a7409a3e3d7a  Please desist from engaging in edit warring an...   \n",
              "100560  1a4596a04c2e5371  The Davis source explains that although the or...   \n",
              "\n",
              "        toxic  severe_toxic  obscene  threat  insult  identity_hate  \n",
              "77265       0             0        0       0       0              0  \n",
              "45988       0             0        0       0       0              0  \n",
              "60054       0             0        0       0       0              0  \n",
              "144665      0             0        0       0       0              0  \n",
              "39913       0             0        0       0       0              0  \n",
              "...       ...           ...      ...     ...     ...            ...  \n",
              "54376       1             0        1       0       1              0  \n",
              "4429        0             0        0       0       0              0  \n",
              "135912      0             0        0       0       0              0  \n",
              "98526       0             0        0       0       0              0  \n",
              "100560      0             0        0       0       0              0  \n",
              "\n",
              "[127656 rows x 8 columns]"
            ],
            "text/html": [
              "\n",
              "  <div id=\"df-2a58eedb-75f3-4bdc-a5bc-45a394589d51\">\n",
              "    <div class=\"colab-df-container\">\n",
              "      <div>\n",
              "<style scoped>\n",
              "    .dataframe tbody tr th:only-of-type {\n",
              "        vertical-align: middle;\n",
              "    }\n",
              "\n",
              "    .dataframe tbody tr th {\n",
              "        vertical-align: top;\n",
              "    }\n",
              "\n",
              "    .dataframe thead th {\n",
              "        text-align: right;\n",
              "    }\n",
              "</style>\n",
              "<table border=\"1\" class=\"dataframe\">\n",
              "  <thead>\n",
              "    <tr style=\"text-align: right;\">\n",
              "      <th></th>\n",
              "      <th>id</th>\n",
              "      <th>comment_text</th>\n",
              "      <th>toxic</th>\n",
              "      <th>severe_toxic</th>\n",
              "      <th>obscene</th>\n",
              "      <th>threat</th>\n",
              "      <th>insult</th>\n",
              "      <th>identity_hate</th>\n",
              "    </tr>\n",
              "  </thead>\n",
              "  <tbody>\n",
              "    <tr>\n",
              "      <th>77265</th>\n",
              "      <td>cefaef5751244984</td>\n",
              "      <td>The English dub episodes of Yu-Gi-Oh! Arc-V fo...</td>\n",
              "      <td>0</td>\n",
              "      <td>0</td>\n",
              "      <td>0</td>\n",
              "      <td>0</td>\n",
              "      <td>0</td>\n",
              "      <td>0</td>\n",
              "    </tr>\n",
              "    <tr>\n",
              "      <th>45988</th>\n",
              "      <td>7ae39594f5bdcf6d</td>\n",
              "      <td>No personal attacks \\n\\nI was not personally a...</td>\n",
              "      <td>0</td>\n",
              "      <td>0</td>\n",
              "      <td>0</td>\n",
              "      <td>0</td>\n",
              "      <td>0</td>\n",
              "      <td>0</td>\n",
              "    </tr>\n",
              "    <tr>\n",
              "      <th>60054</th>\n",
              "      <td>a0ba9aa9d74e4adc</td>\n",
              "      <td>Important question \\n\\nHello neighbour,  what'...</td>\n",
              "      <td>0</td>\n",
              "      <td>0</td>\n",
              "      <td>0</td>\n",
              "      <td>0</td>\n",
              "      <td>0</td>\n",
              "      <td>0</td>\n",
              "    </tr>\n",
              "    <tr>\n",
              "      <th>144665</th>\n",
              "      <td>109c74cdacb3e549</td>\n",
              "      <td>That sounds good, but I have to say I'm a bit ...</td>\n",
              "      <td>0</td>\n",
              "      <td>0</td>\n",
              "      <td>0</td>\n",
              "      <td>0</td>\n",
              "      <td>0</td>\n",
              "      <td>0</td>\n",
              "    </tr>\n",
              "    <tr>\n",
              "      <th>39913</th>\n",
              "      <td>6a8a2f4d16bf4625</td>\n",
              "      <td>formating problem \\n\\nThe value is supposed to...</td>\n",
              "      <td>0</td>\n",
              "      <td>0</td>\n",
              "      <td>0</td>\n",
              "      <td>0</td>\n",
              "      <td>0</td>\n",
              "      <td>0</td>\n",
              "    </tr>\n",
              "    <tr>\n",
              "      <th>...</th>\n",
              "      <td>...</td>\n",
              "      <td>...</td>\n",
              "      <td>...</td>\n",
              "      <td>...</td>\n",
              "      <td>...</td>\n",
              "      <td>...</td>\n",
              "      <td>...</td>\n",
              "      <td>...</td>\n",
              "    </tr>\n",
              "    <tr>\n",
              "      <th>54376</th>\n",
              "      <td>914b5c79987680c2</td>\n",
              "      <td>Hello asshole. Your mother might be a cross wi...</td>\n",
              "      <td>1</td>\n",
              "      <td>0</td>\n",
              "      <td>1</td>\n",
              "      <td>0</td>\n",
              "      <td>1</td>\n",
              "      <td>0</td>\n",
              "    </tr>\n",
              "    <tr>\n",
              "      <th>4429</th>\n",
              "      <td>0bc9fb959bbcc74c</td>\n",
              "      <td>\"\\n I do know what the \"\"L\"\" in BLP stands for...</td>\n",
              "      <td>0</td>\n",
              "      <td>0</td>\n",
              "      <td>0</td>\n",
              "      <td>0</td>\n",
              "      <td>0</td>\n",
              "      <td>0</td>\n",
              "    </tr>\n",
              "    <tr>\n",
              "      <th>135912</th>\n",
              "      <td>d6f779b6836c8093</td>\n",
              "      <td>A Response\\nI am not sure if you are a moderat...</td>\n",
              "      <td>0</td>\n",
              "      <td>0</td>\n",
              "      <td>0</td>\n",
              "      <td>0</td>\n",
              "      <td>0</td>\n",
              "      <td>0</td>\n",
              "    </tr>\n",
              "    <tr>\n",
              "      <th>98526</th>\n",
              "      <td>0f09a7409a3e3d7a</td>\n",
              "      <td>Please desist from engaging in edit warring an...</td>\n",
              "      <td>0</td>\n",
              "      <td>0</td>\n",
              "      <td>0</td>\n",
              "      <td>0</td>\n",
              "      <td>0</td>\n",
              "      <td>0</td>\n",
              "    </tr>\n",
              "    <tr>\n",
              "      <th>100560</th>\n",
              "      <td>1a4596a04c2e5371</td>\n",
              "      <td>The Davis source explains that although the or...</td>\n",
              "      <td>0</td>\n",
              "      <td>0</td>\n",
              "      <td>0</td>\n",
              "      <td>0</td>\n",
              "      <td>0</td>\n",
              "      <td>0</td>\n",
              "    </tr>\n",
              "  </tbody>\n",
              "</table>\n",
              "<p>127656 rows × 8 columns</p>\n",
              "</div>\n",
              "      <button class=\"colab-df-convert\" onclick=\"convertToInteractive('df-2a58eedb-75f3-4bdc-a5bc-45a394589d51')\"\n",
              "              title=\"Convert this dataframe to an interactive table.\"\n",
              "              style=\"display:none;\">\n",
              "        \n",
              "  <svg xmlns=\"http://www.w3.org/2000/svg\" height=\"24px\"viewBox=\"0 0 24 24\"\n",
              "       width=\"24px\">\n",
              "    <path d=\"M0 0h24v24H0V0z\" fill=\"none\"/>\n",
              "    <path d=\"M18.56 5.44l.94 2.06.94-2.06 2.06-.94-2.06-.94-.94-2.06-.94 2.06-2.06.94zm-11 1L8.5 8.5l.94-2.06 2.06-.94-2.06-.94L8.5 2.5l-.94 2.06-2.06.94zm10 10l.94 2.06.94-2.06 2.06-.94-2.06-.94-.94-2.06-.94 2.06-2.06.94z\"/><path d=\"M17.41 7.96l-1.37-1.37c-.4-.4-.92-.59-1.43-.59-.52 0-1.04.2-1.43.59L10.3 9.45l-7.72 7.72c-.78.78-.78 2.05 0 2.83L4 21.41c.39.39.9.59 1.41.59.51 0 1.02-.2 1.41-.59l7.78-7.78 2.81-2.81c.8-.78.8-2.07 0-2.86zM5.41 20L4 18.59l7.72-7.72 1.47 1.35L5.41 20z\"/>\n",
              "  </svg>\n",
              "      </button>\n",
              "      \n",
              "  <style>\n",
              "    .colab-df-container {\n",
              "      display:flex;\n",
              "      flex-wrap:wrap;\n",
              "      gap: 12px;\n",
              "    }\n",
              "\n",
              "    .colab-df-convert {\n",
              "      background-color: #E8F0FE;\n",
              "      border: none;\n",
              "      border-radius: 50%;\n",
              "      cursor: pointer;\n",
              "      display: none;\n",
              "      fill: #1967D2;\n",
              "      height: 32px;\n",
              "      padding: 0 0 0 0;\n",
              "      width: 32px;\n",
              "    }\n",
              "\n",
              "    .colab-df-convert:hover {\n",
              "      background-color: #E2EBFA;\n",
              "      box-shadow: 0px 1px 2px rgba(60, 64, 67, 0.3), 0px 1px 3px 1px rgba(60, 64, 67, 0.15);\n",
              "      fill: #174EA6;\n",
              "    }\n",
              "\n",
              "    [theme=dark] .colab-df-convert {\n",
              "      background-color: #3B4455;\n",
              "      fill: #D2E3FC;\n",
              "    }\n",
              "\n",
              "    [theme=dark] .colab-df-convert:hover {\n",
              "      background-color: #434B5C;\n",
              "      box-shadow: 0px 1px 3px 1px rgba(0, 0, 0, 0.15);\n",
              "      filter: drop-shadow(0px 1px 2px rgba(0, 0, 0, 0.3));\n",
              "      fill: #FFFFFF;\n",
              "    }\n",
              "  </style>\n",
              "\n",
              "      <script>\n",
              "        const buttonEl =\n",
              "          document.querySelector('#df-2a58eedb-75f3-4bdc-a5bc-45a394589d51 button.colab-df-convert');\n",
              "        buttonEl.style.display =\n",
              "          google.colab.kernel.accessAllowed ? 'block' : 'none';\n",
              "\n",
              "        async function convertToInteractive(key) {\n",
              "          const element = document.querySelector('#df-2a58eedb-75f3-4bdc-a5bc-45a394589d51');\n",
              "          const dataTable =\n",
              "            await google.colab.kernel.invokeFunction('convertToInteractive',\n",
              "                                                     [key], {});\n",
              "          if (!dataTable) return;\n",
              "\n",
              "          const docLinkHtml = 'Like what you see? Visit the ' +\n",
              "            '<a target=\"_blank\" href=https://colab.research.google.com/notebooks/data_table.ipynb>data table notebook</a>'\n",
              "            + ' to learn more about interactive tables.';\n",
              "          element.innerHTML = '';\n",
              "          dataTable['output_type'] = 'display_data';\n",
              "          await google.colab.output.renderOutput(dataTable, element);\n",
              "          const docLink = document.createElement('div');\n",
              "          docLink.innerHTML = docLinkHtml;\n",
              "          element.appendChild(docLink);\n",
              "        }\n",
              "      </script>\n",
              "    </div>\n",
              "  </div>\n",
              "  "
            ]
          },
          "metadata": {},
          "execution_count": 12
        }
      ],
      "source": [
        "train"
      ],
      "id": "1o2Q35EsykC2"
    },
    {
      "cell_type": "code",
      "execution_count": null,
      "metadata": {
        "colab": {
          "base_uri": "https://localhost:8080/",
          "height": 423
        },
        "id": "qUJr9ELbylwh",
        "outputId": "e34f550c-7da6-46f9-ee0e-682e5c569ade"
      },
      "outputs": [
        {
          "output_type": "execute_result",
          "data": {
            "text/plain": [
              "                      id                                       comment_text  \\\n",
              "58520   9cb2b6aa698ea716  \"\\n\\nThat would be ideal if this were a huge, ...   \n",
              "123521  94adfb0664ee88db  Your edits in September and November 2009 \\n\\n...   \n",
              "2671    072c0470e510231c                         citations of specific text   \n",
              "113906  61355ffbd5314485  \"\\n\\n Hi Edward. You have a few options. First...   \n",
              "150447  6c70eafd1a01b3b3  Block\\nHey man, sorry about that whole thing. ...   \n",
              "...                  ...                                                ...   \n",
              "69349   b987b70103fa3d02  WP:(. BTW, in many cases articles that are not...   \n",
              "13626   23f7c12290ec1a50  Did you intend to remove my  in this edit?  I ...   \n",
              "14732   26e591aab8dbed73  link to The Historical Author of Anong Bahumon...   \n",
              "90803   f2e995028e90ca49  \"\\n\\n Quick Change \\n\\nI made a quick change: ...   \n",
              "25860   446c14c76a6e3653  \"Note: Please check your block log linked belo...   \n",
              "\n",
              "        toxic  severe_toxic  obscene  threat  insult  identity_hate  \n",
              "58520       0             0        0       0       0              0  \n",
              "123521      0             0        0       0       0              0  \n",
              "2671        0             0        0       0       0              0  \n",
              "113906      0             0        0       0       0              0  \n",
              "150447      0             0        0       0       0              0  \n",
              "...       ...           ...      ...     ...     ...            ...  \n",
              "69349       0             0        0       0       0              0  \n",
              "13626       0             0        0       0       0              0  \n",
              "14732       0             0        0       0       0              0  \n",
              "90803       0             0        0       0       0              0  \n",
              "25860       0             0        0       0       0              0  \n",
              "\n",
              "[31915 rows x 8 columns]"
            ],
            "text/html": [
              "\n",
              "  <div id=\"df-eafebf5a-a94a-47ae-a6ef-e7e2ddad580d\">\n",
              "    <div class=\"colab-df-container\">\n",
              "      <div>\n",
              "<style scoped>\n",
              "    .dataframe tbody tr th:only-of-type {\n",
              "        vertical-align: middle;\n",
              "    }\n",
              "\n",
              "    .dataframe tbody tr th {\n",
              "        vertical-align: top;\n",
              "    }\n",
              "\n",
              "    .dataframe thead th {\n",
              "        text-align: right;\n",
              "    }\n",
              "</style>\n",
              "<table border=\"1\" class=\"dataframe\">\n",
              "  <thead>\n",
              "    <tr style=\"text-align: right;\">\n",
              "      <th></th>\n",
              "      <th>id</th>\n",
              "      <th>comment_text</th>\n",
              "      <th>toxic</th>\n",
              "      <th>severe_toxic</th>\n",
              "      <th>obscene</th>\n",
              "      <th>threat</th>\n",
              "      <th>insult</th>\n",
              "      <th>identity_hate</th>\n",
              "    </tr>\n",
              "  </thead>\n",
              "  <tbody>\n",
              "    <tr>\n",
              "      <th>58520</th>\n",
              "      <td>9cb2b6aa698ea716</td>\n",
              "      <td>\"\\n\\nThat would be ideal if this were a huge, ...</td>\n",
              "      <td>0</td>\n",
              "      <td>0</td>\n",
              "      <td>0</td>\n",
              "      <td>0</td>\n",
              "      <td>0</td>\n",
              "      <td>0</td>\n",
              "    </tr>\n",
              "    <tr>\n",
              "      <th>123521</th>\n",
              "      <td>94adfb0664ee88db</td>\n",
              "      <td>Your edits in September and November 2009 \\n\\n...</td>\n",
              "      <td>0</td>\n",
              "      <td>0</td>\n",
              "      <td>0</td>\n",
              "      <td>0</td>\n",
              "      <td>0</td>\n",
              "      <td>0</td>\n",
              "    </tr>\n",
              "    <tr>\n",
              "      <th>2671</th>\n",
              "      <td>072c0470e510231c</td>\n",
              "      <td>citations of specific text</td>\n",
              "      <td>0</td>\n",
              "      <td>0</td>\n",
              "      <td>0</td>\n",
              "      <td>0</td>\n",
              "      <td>0</td>\n",
              "      <td>0</td>\n",
              "    </tr>\n",
              "    <tr>\n",
              "      <th>113906</th>\n",
              "      <td>61355ffbd5314485</td>\n",
              "      <td>\"\\n\\n Hi Edward. You have a few options. First...</td>\n",
              "      <td>0</td>\n",
              "      <td>0</td>\n",
              "      <td>0</td>\n",
              "      <td>0</td>\n",
              "      <td>0</td>\n",
              "      <td>0</td>\n",
              "    </tr>\n",
              "    <tr>\n",
              "      <th>150447</th>\n",
              "      <td>6c70eafd1a01b3b3</td>\n",
              "      <td>Block\\nHey man, sorry about that whole thing. ...</td>\n",
              "      <td>0</td>\n",
              "      <td>0</td>\n",
              "      <td>0</td>\n",
              "      <td>0</td>\n",
              "      <td>0</td>\n",
              "      <td>0</td>\n",
              "    </tr>\n",
              "    <tr>\n",
              "      <th>...</th>\n",
              "      <td>...</td>\n",
              "      <td>...</td>\n",
              "      <td>...</td>\n",
              "      <td>...</td>\n",
              "      <td>...</td>\n",
              "      <td>...</td>\n",
              "      <td>...</td>\n",
              "      <td>...</td>\n",
              "    </tr>\n",
              "    <tr>\n",
              "      <th>69349</th>\n",
              "      <td>b987b70103fa3d02</td>\n",
              "      <td>WP:(. BTW, in many cases articles that are not...</td>\n",
              "      <td>0</td>\n",
              "      <td>0</td>\n",
              "      <td>0</td>\n",
              "      <td>0</td>\n",
              "      <td>0</td>\n",
              "      <td>0</td>\n",
              "    </tr>\n",
              "    <tr>\n",
              "      <th>13626</th>\n",
              "      <td>23f7c12290ec1a50</td>\n",
              "      <td>Did you intend to remove my  in this edit?  I ...</td>\n",
              "      <td>0</td>\n",
              "      <td>0</td>\n",
              "      <td>0</td>\n",
              "      <td>0</td>\n",
              "      <td>0</td>\n",
              "      <td>0</td>\n",
              "    </tr>\n",
              "    <tr>\n",
              "      <th>14732</th>\n",
              "      <td>26e591aab8dbed73</td>\n",
              "      <td>link to The Historical Author of Anong Bahumon...</td>\n",
              "      <td>0</td>\n",
              "      <td>0</td>\n",
              "      <td>0</td>\n",
              "      <td>0</td>\n",
              "      <td>0</td>\n",
              "      <td>0</td>\n",
              "    </tr>\n",
              "    <tr>\n",
              "      <th>90803</th>\n",
              "      <td>f2e995028e90ca49</td>\n",
              "      <td>\"\\n\\n Quick Change \\n\\nI made a quick change: ...</td>\n",
              "      <td>0</td>\n",
              "      <td>0</td>\n",
              "      <td>0</td>\n",
              "      <td>0</td>\n",
              "      <td>0</td>\n",
              "      <td>0</td>\n",
              "    </tr>\n",
              "    <tr>\n",
              "      <th>25860</th>\n",
              "      <td>446c14c76a6e3653</td>\n",
              "      <td>\"Note: Please check your block log linked belo...</td>\n",
              "      <td>0</td>\n",
              "      <td>0</td>\n",
              "      <td>0</td>\n",
              "      <td>0</td>\n",
              "      <td>0</td>\n",
              "      <td>0</td>\n",
              "    </tr>\n",
              "  </tbody>\n",
              "</table>\n",
              "<p>31915 rows × 8 columns</p>\n",
              "</div>\n",
              "      <button class=\"colab-df-convert\" onclick=\"convertToInteractive('df-eafebf5a-a94a-47ae-a6ef-e7e2ddad580d')\"\n",
              "              title=\"Convert this dataframe to an interactive table.\"\n",
              "              style=\"display:none;\">\n",
              "        \n",
              "  <svg xmlns=\"http://www.w3.org/2000/svg\" height=\"24px\"viewBox=\"0 0 24 24\"\n",
              "       width=\"24px\">\n",
              "    <path d=\"M0 0h24v24H0V0z\" fill=\"none\"/>\n",
              "    <path d=\"M18.56 5.44l.94 2.06.94-2.06 2.06-.94-2.06-.94-.94-2.06-.94 2.06-2.06.94zm-11 1L8.5 8.5l.94-2.06 2.06-.94-2.06-.94L8.5 2.5l-.94 2.06-2.06.94zm10 10l.94 2.06.94-2.06 2.06-.94-2.06-.94-.94-2.06-.94 2.06-2.06.94z\"/><path d=\"M17.41 7.96l-1.37-1.37c-.4-.4-.92-.59-1.43-.59-.52 0-1.04.2-1.43.59L10.3 9.45l-7.72 7.72c-.78.78-.78 2.05 0 2.83L4 21.41c.39.39.9.59 1.41.59.51 0 1.02-.2 1.41-.59l7.78-7.78 2.81-2.81c.8-.78.8-2.07 0-2.86zM5.41 20L4 18.59l7.72-7.72 1.47 1.35L5.41 20z\"/>\n",
              "  </svg>\n",
              "      </button>\n",
              "      \n",
              "  <style>\n",
              "    .colab-df-container {\n",
              "      display:flex;\n",
              "      flex-wrap:wrap;\n",
              "      gap: 12px;\n",
              "    }\n",
              "\n",
              "    .colab-df-convert {\n",
              "      background-color: #E8F0FE;\n",
              "      border: none;\n",
              "      border-radius: 50%;\n",
              "      cursor: pointer;\n",
              "      display: none;\n",
              "      fill: #1967D2;\n",
              "      height: 32px;\n",
              "      padding: 0 0 0 0;\n",
              "      width: 32px;\n",
              "    }\n",
              "\n",
              "    .colab-df-convert:hover {\n",
              "      background-color: #E2EBFA;\n",
              "      box-shadow: 0px 1px 2px rgba(60, 64, 67, 0.3), 0px 1px 3px 1px rgba(60, 64, 67, 0.15);\n",
              "      fill: #174EA6;\n",
              "    }\n",
              "\n",
              "    [theme=dark] .colab-df-convert {\n",
              "      background-color: #3B4455;\n",
              "      fill: #D2E3FC;\n",
              "    }\n",
              "\n",
              "    [theme=dark] .colab-df-convert:hover {\n",
              "      background-color: #434B5C;\n",
              "      box-shadow: 0px 1px 3px 1px rgba(0, 0, 0, 0.15);\n",
              "      filter: drop-shadow(0px 1px 2px rgba(0, 0, 0, 0.3));\n",
              "      fill: #FFFFFF;\n",
              "    }\n",
              "  </style>\n",
              "\n",
              "      <script>\n",
              "        const buttonEl =\n",
              "          document.querySelector('#df-eafebf5a-a94a-47ae-a6ef-e7e2ddad580d button.colab-df-convert');\n",
              "        buttonEl.style.display =\n",
              "          google.colab.kernel.accessAllowed ? 'block' : 'none';\n",
              "\n",
              "        async function convertToInteractive(key) {\n",
              "          const element = document.querySelector('#df-eafebf5a-a94a-47ae-a6ef-e7e2ddad580d');\n",
              "          const dataTable =\n",
              "            await google.colab.kernel.invokeFunction('convertToInteractive',\n",
              "                                                     [key], {});\n",
              "          if (!dataTable) return;\n",
              "\n",
              "          const docLinkHtml = 'Like what you see? Visit the ' +\n",
              "            '<a target=\"_blank\" href=https://colab.research.google.com/notebooks/data_table.ipynb>data table notebook</a>'\n",
              "            + ' to learn more about interactive tables.';\n",
              "          element.innerHTML = '';\n",
              "          dataTable['output_type'] = 'display_data';\n",
              "          await google.colab.output.renderOutput(dataTable, element);\n",
              "          const docLink = document.createElement('div');\n",
              "          docLink.innerHTML = docLinkHtml;\n",
              "          element.appendChild(docLink);\n",
              "        }\n",
              "      </script>\n",
              "    </div>\n",
              "  </div>\n",
              "  "
            ]
          },
          "metadata": {},
          "execution_count": 13
        }
      ],
      "source": [
        "test"
      ],
      "id": "qUJr9ELbylwh"
    },
    {
      "cell_type": "code",
      "execution_count": null,
      "metadata": {
        "id": "ade60f1f"
      },
      "outputs": [],
      "source": [
        "list_classes = [\"toxic\", \"severe_toxic\", \"obscene\", \"threat\", \"insult\", \"identity_hate\"]\n",
        "y_train = train[list_classes].values\n",
        "y_test = test[list_classes].values\n",
        "list_sentences_train = train[\"comment_text\"]\n",
        "list_sentences_test = test[\"comment_text\"]"
      ],
      "id": "ade60f1f"
    },
    {
      "cell_type": "code",
      "execution_count": null,
      "metadata": {
        "id": "255c7ea3"
      },
      "outputs": [],
      "source": [
        "max_features = 20000\n",
        "tokenizer = Tokenizer(num_words=max_features)\n",
        "tokenizer.fit_on_texts(list(list_sentences_train))\n",
        "list_tokenized_train = tokenizer.texts_to_sequences(list_sentences_train)\n",
        "list_tokenized_test = tokenizer.texts_to_sequences(list_sentences_test)"
      ],
      "id": "255c7ea3"
    },
    {
      "cell_type": "markdown",
      "metadata": {
        "id": "a0b16633"
      },
      "source": [
        "# Tokenizer"
      ],
      "id": "a0b16633"
    },
    {
      "cell_type": "code",
      "execution_count": null,
      "metadata": {
        "colab": {
          "base_uri": "https://localhost:8080/"
        },
        "id": "6efabcca",
        "outputId": "1dc30b11-f826-4a91-b0b5-3508adb2ef65"
      },
      "outputs": [
        {
          "output_type": "execute_result",
          "data": {
            "text/plain": [
              "[[298, 50, 186, 28, 2415]]"
            ]
          },
          "metadata": {},
          "execution_count": 11
        }
      ],
      "source": [
        "list_tokenized_train[:1]"
      ],
      "id": "6efabcca"
    },
    {
      "cell_type": "code",
      "execution_count": null,
      "metadata": {
        "colab": {
          "base_uri": "https://localhost:8080/",
          "height": 430
        },
        "id": "870344c9",
        "outputId": "97bd89f2-2d68-4f2b-acea-ae94d413320e"
      },
      "outputs": [
        {
          "output_type": "display_data",
          "data": {
            "text/plain": [
              "<Figure size 640x480 with 1 Axes>"
            ],
            "image/png": "[encoded data removed]"
          },
          "metadata": {}
        }
      ],
      "source": [
        "totalNumWords = [len(one_comment) for one_comment in list_tokenized_train]\n",
        "plt.hist(totalNumWords,bins = np.arange(0,450,20))\n",
        "plt.show()"
      ],
      "id": "870344c9"
    },
    {
      "cell_type": "code",
      "execution_count": null,
      "metadata": {
        "id": "571d2147"
      },
      "outputs": [],
      "source": [
        "maxlen = 200\n",
        "X_train = pad_sequences(list_tokenized_train, maxlen=maxlen)\n",
        "X_test = pad_sequences(list_tokenized_test, maxlen=maxlen)"
      ],
      "id": "571d2147"
    },
    {
      "cell_type": "code",
      "execution_count": null,
      "metadata": {
        "colab": {
          "base_uri": "https://localhost:8080/"
        },
        "id": "641bbf65",
        "outputId": "e62599b8-abc0-4d2e-df6c-deb9b82b6040"
      },
      "outputs": [
        {
          "output_type": "execute_result",
          "data": {
            "text/plain": [
              "(127656, 200)"
            ]
          },
          "metadata": {},
          "execution_count": 14
        }
      ],
      "source": [
        "X_train.shape"
      ],
      "id": "641bbf65"
    },
    {
      "cell_type": "code",
      "execution_count": null,
      "metadata": {
        "colab": {
          "base_uri": "https://localhost:8080/"
        },
        "id": "obWwYelQzWUk",
        "outputId": "37838761-5f05-41cb-9cab-d0dc961c2102"
      },
      "outputs": [
        {
          "output_type": "execute_result",
          "data": {
            "text/plain": [
              "(31915, 200)"
            ]
          },
          "metadata": {},
          "execution_count": 15
        }
      ],
      "source": [
        "X_test.shape"
      ],
      "id": "obWwYelQzWUk"
    },
    {
      "cell_type": "markdown",
      "metadata": {
        "id": "484719bb"
      },
      "source": [
        "# Model"
      ],
      "id": "484719bb"
    },
    {
      "cell_type": "code",
      "execution_count": null,
      "metadata": {
        "id": "f6f46389"
      },
      "outputs": [],
      "source": [
        "inp = Input(shape=(maxlen, ))"
      ],
      "id": "f6f46389"
    },
    {
      "cell_type": "code",
      "execution_count": null,
      "metadata": {
        "id": "942a2958"
      },
      "outputs": [],
      "source": [
        "#embedding\n",
        "embed_size = 128\n",
        "x = Embedding(max_features, embed_size)(inp)"
      ],
      "id": "942a2958"
    },
    {
      "cell_type": "code",
      "execution_count": null,
      "metadata": {
        "id": "6f33db2d"
      },
      "outputs": [],
      "source": [
        "#GRU\n",
        "x = GRU(64, return_sequences=True,name='gru_layer')(x)\n",
        "x = GlobalMaxPool1D()(x)\n",
        "x = Dense(32, activation=\"relu\")(x)\n",
        "x = Dense(6, activation=\"sigmoid\")(x)\n",
        "\n",
        "model = Model(inputs=inp, outputs=x)\n",
        "model.compile(loss='binary_crossentropy',\n",
        "                  optimizer='adam',\n",
        "                  metrics=['accuracy'])"
      ],
      "id": "6f33db2d"
    },
    {
      "cell_type": "code",
      "execution_count": null,
      "metadata": {
        "colab": {
          "base_uri": "https://localhost:8080/"
        },
        "id": "mAoUwGP-wqoz",
        "outputId": "adad4f4c-0af0-4b47-9a01-3883c38115a1"
      },
      "outputs": [
        {
          "output_type": "stream",
          "name": "stdout",
          "text": [
            "Model: \"model\"\n",
            "_________________________________________________________________\n",
            " Layer (type)                Output Shape              Param #   \n",
            "=================================================================\n",
            " input_1 (InputLayer)        [(None, 200)]             0         \n",
            "                                                                 \n",
            " embedding (Embedding)       (None, 200, 128)          2560000   \n",
            "                                                                 \n",
            " gru_layer (GRU)             (None, 200, 64)           37248     \n",
            "                                                                 \n",
            " global_max_pooling1d (Globa  (None, 64)               0         \n",
            " lMaxPooling1D)                                                  \n",
            "                                                                 \n",
            " dense (Dense)               (None, 32)                2080      \n",
            "                                                                 \n",
            " dense_1 (Dense)             (None, 6)                 198       \n",
            "                                                                 \n",
            "=================================================================\n",
            "Total params: 2,599,526\n",
            "Trainable params: 2,599,526\n",
            "Non-trainable params: 0\n",
            "_________________________________________________________________\n"
          ]
        }
      ],
      "source": [
        "model.summary()"
      ],
      "id": "mAoUwGP-wqoz"
    },
    {
      "cell_type": "markdown",
      "metadata": {
        "id": "Z7Wx4gPqvcl3"
      },
      "source": [
        "# Training"
      ],
      "id": "Z7Wx4gPqvcl3"
    },
    {
      "cell_type": "code",
      "execution_count": null,
      "metadata": {
        "colab": {
          "base_uri": "https://localhost:8080/"
        },
        "id": "3fc3787c",
        "outputId": "486ae54f-40f9-4918-f4bf-5a6723a16316"
      },
      "outputs": [
        {
          "output_type": "stream",
          "name": "stdout",
          "text": [
            "Epoch 1/3\n",
            "3591/3591 [==============================] - 742s 205ms/step - loss: 0.0676 - accuracy: 0.9750 - val_loss: 0.0472 - val_accuracy: 0.9948\n",
            "Epoch 2/3\n",
            "3591/3591 [==============================] - 717s 200ms/step - loss: 0.0433 - accuracy: 0.9919 - val_loss: 0.0448 - val_accuracy: 0.9944\n",
            "Epoch 3/3\n",
            "3591/3591 [==============================] - 728s 203ms/step - loss: 0.0365 - accuracy: 0.9870 - val_loss: 0.0479 - val_accuracy: 0.9925\n"
          ]
        }
      ],
      "source": [
        "batch_size = 32\n",
        "epochs = 3\n",
        "h = model.fit(X_train,y_train, batch_size=batch_size, epochs=epochs, validation_split=0.1)"
      ],
      "id": "3fc3787c"
    },
    {
      "cell_type": "code",
      "execution_count": null,
      "metadata": {
        "id": "397T00w4vjMO",
        "colab": {
          "base_uri": "https://localhost:8080/",
          "height": 331
        },
        "outputId": "77311cd8-13bf-471c-d3a1-2acfaedf9efc"
      },
      "outputs": [
        {
          "output_type": "display_data",
          "data": {
            "text/plain": [
              "<Figure size 1200x500 with 2 Axes>"
            ],
            "image/png": "[encoded data removed]"
          },
          "metadata": {}
        }
      ],
      "source": [
        "plt.figure(figsize=(12,5))\n",
        "plt.subplot(1,2,1)\n",
        "plt.plot(h.history['loss']);\n",
        "plt.plot(h.history['val_loss']);\n",
        "plt.title(\"CLASSIFICATION LOSS\");\n",
        "plt.ylabel(\"LOSS\");\n",
        "plt.ylim([0,1.0]);\n",
        "plt.xlabel(\"EPOCHS\");\n",
        "plt.legend(['train', 'val']);\n",
        "\n",
        "plt.subplot(1,2,2)\n",
        "plt.plot(h.history['accuracy']);\n",
        "plt.plot(h.history['val_accuracy']);\n",
        "plt.title(\"CLASSIFICATION ACCURACY\");\n",
        "plt.ylabel(\"ACCURACY\");\n",
        "plt.ylim([0,1.0]);\n",
        "plt.xlabel(\"EPOCHS\");\n",
        "plt.legend(['train', 'val']);"
      ],
      "id": "397T00w4vjMO"
    },
    {
      "cell_type": "code",
      "execution_count": null,
      "metadata": {
        "id": "qFzmFbNZz9pS",
        "colab": {
          "base_uri": "https://localhost:8080/"
        },
        "outputId": "ba867e6f-a265-484d-e0b8-aa548f58044c"
      },
      "outputs": [
        {
          "output_type": "stream",
          "name": "stdout",
          "text": [
            "998/998 [==============================] - 37s 37ms/step - loss: 0.0511 - accuracy: 0.9927\n"
          ]
        },
        {
          "output_type": "execute_result",
          "data": {
            "text/plain": [
              "[0.05109105259180069, 0.9926680326461792]"
            ]
          },
          "metadata": {},
          "execution_count": 19
        }
      ],
      "source": [
        "model.evaluate(X_test,y_test)"
      ],
      "id": "qFzmFbNZz9pS"
    },
    {
      "cell_type": "code",
      "execution_count": null,
      "metadata": {
        "id": "P1fz_tOZ0ypw",
        "colab": {
          "base_uri": "https://localhost:8080/"
        },
        "outputId": "5d1a0fe2-5f7e-45a2-bb3b-ec2f98823328"
      },
      "outputs": [
        {
          "output_type": "stream",
          "name": "stdout",
          "text": [
            "998/998 [==============================] - 35s 35ms/step\n"
          ]
        },
        {
          "output_type": "execute_result",
          "data": {
            "text/plain": [
              "array([[2.3156010e-04, 4.0500848e-07, 4.6300509e-05, 1.8625460e-05,\n",
              "        1.9624658e-05, 2.2898643e-05],\n",
              "       [1.0075781e-02, 2.9178535e-05, 6.9230708e-04, 8.9340517e-04,\n",
              "        1.1801943e-03, 6.7426119e-04],\n",
              "       [2.2211477e-04, 4.4906724e-07, 2.7916356e-05, 2.4546242e-05,\n",
              "        1.6619377e-05, 2.9243805e-05],\n",
              "       ...,\n",
              "       [8.2399514e-05, 1.4005228e-07, 2.8312483e-05, 3.5468944e-05,\n",
              "        1.2710270e-05, 5.9714048e-06],\n",
              "       [9.0532645e-05, 8.9771663e-07, 1.5822136e-05, 5.7807723e-05,\n",
              "        8.1027883e-06, 2.1140731e-05],\n",
              "       [2.7142800e-04, 4.6102886e-07, 6.1120190e-05, 3.0030526e-05,\n",
              "        3.5888326e-05, 1.1270855e-05]], dtype=float32)"
            ]
          },
          "metadata": {},
          "execution_count": 20
        }
      ],
      "source": [
        "model.predict(X_test)"
      ],
      "id": "P1fz_tOZ0ypw"
    },
    {
      "cell_type": "code",
      "execution_count": null,
      "metadata": {
        "id": "9eDo5MunjxNc",
        "colab": {
          "base_uri": "https://localhost:8080/"
        },
        "outputId": "87c29171-7293-4ddd-ebf2-93d611766e4d"
      },
      "outputs": [
        {
          "output_type": "stream",
          "name": "stdout",
          "text": [
            "1/1 [==============================] - 0s 55ms/step\n"
          ]
        }
      ],
      "source": [
        "text = [\"test\"]\n",
        "tokenizer.fit_on_texts(text)\n",
        "list_tokenized_test = tokenizer.texts_to_sequences(text)\n",
        "text_X = pad_sequences(list_tokenized_test, maxlen=maxlen)\n",
        "\n",
        "\n",
        "y_pred = model.predict(text_X)"
      ],
      "id": "9eDo5MunjxNc"
    },
    {
      "cell_type": "code",
      "execution_count": null,
      "metadata": {
        "colab": {
          "base_uri": "https://localhost:8080/"
        },
        "id": "P9y9H71jqW9O",
        "outputId": "5ece8d49-2cf6-4c25-b4dc-9a1277598fe9"
      },
      "outputs": [
        {
          "output_type": "execute_result",
          "data": {
            "text/plain": [
              "array([0.5002047 , 0.49110693, 0.49598557, 0.50274724, 0.49921358,\n",
              "       0.5082038 ], dtype=float32)"
            ]
          },
          "metadata": {},
          "execution_count": 48
        }
      ],
      "source": [
        "onearray =  np.ndarray.flatten(y_pred)\n",
        "onearray\n",
        "\n"
      ],
      "id": "P9y9H71jqW9O"
    },
    {
      "cell_type": "code",
      "execution_count": null,
      "metadata": {
        "colab": {
          "base_uri": "https://localhost:8080/"
        },
        "id": "NoITaVKQqtBx",
        "outputId": "52d6f9ee-eb4e-4af1-d825-1afc610af671"
      },
      "outputs": [
        {
          "output_type": "stream",
          "name": "stdout",
          "text": [
            "50.020468\n",
            "49.110693\n",
            "49.598557\n",
            "50.274724\n",
            "49.921358\n",
            "50.820380\n"
          ]
        }
      ],
      "source": [
        "for i in range(len(onearray)):\n",
        "  print('{0:f}'.format(onearray[i]*100))"
      ],
      "id": "NoITaVKQqtBx"
    },
    {
      "cell_type": "code",
      "source": [
        "cd /content/drive/MyDrive/Toxic Classification"
      ],
      "metadata": {
        "colab": {
          "base_uri": "https://localhost:8080/"
        },
        "id": "OlmJnQdziKl7",
        "outputId": "e06d5f24-8f0f-4660-f8d9-ba19ebfc2027"
      },
      "id": "OlmJnQdziKl7",
      "execution_count": null,
      "outputs": [
        {
          "output_type": "stream",
          "name": "stdout",
          "text": [
            "/content/drive/MyDrive/Toxic Classification\n"
          ]
        }
      ]
    },
    {
      "cell_type": "code",
      "source": [
        "model_architecture = model.to_json()"
      ],
      "metadata": {
        "id": "VxpNduKgcYYF"
      },
      "id": "VxpNduKgcYYF",
      "execution_count": null,
      "outputs": []
    },
    {
      "cell_type": "code",
      "source": [
        "model.save_weights('model_weights.h5')"
      ],
      "metadata": {
        "id": "Y1rDcqlncbeh"
      },
      "id": "Y1rDcqlncbeh",
      "execution_count": null,
      "outputs": []
    },
    {
      "cell_type": "code",
      "source": [
        "from tensorflow.keras.models import model_from_json\n",
        "model1 = model_from_json(model_architecture)"
      ],
      "metadata": {
        "id": "OrnSSnENccLE"
      },
      "id": "OrnSSnENccLE",
      "execution_count": null,
      "outputs": []
    },
    {
      "cell_type": "code",
      "source": [
        "model1.load_weights('model_weights.h5')"
      ],
      "metadata": {
        "id": "G0mfP6jpciPZ"
      },
      "id": "G0mfP6jpciPZ",
      "execution_count": null,
      "outputs": []
    },
    {
      "cell_type": "code",
      "source": [
        "y_pred1 = model1.predict(text_X)\n",
        "onearray1 =  np.ndarray.flatten(y_pred1)\n",
        "onearray1\n"
      ],
      "metadata": {
        "colab": {
          "base_uri": "https://localhost:8080/"
        },
        "id": "2Mv9_VI2clzN",
        "outputId": "353c0128-94e7-456b-ecae-f4fdbe957255"
      },
      "id": "2Mv9_VI2clzN",
      "execution_count": null,
      "outputs": [
        {
          "output_type": "stream",
          "name": "stdout",
          "text": [
            "1/1 [==============================] - 0s 119ms/step\n"
          ]
        },
        {
          "output_type": "execute_result",
          "data": {
            "text/plain": [
              "array([0.99901265, 0.35093036, 0.9941159 , 0.00545566, 0.91080195,\n",
              "       0.01400941], dtype=float32)"
            ]
          },
          "metadata": {},
          "execution_count": 32
        }
      ]
    },
    {
      "cell_type": "code",
      "source": [
        "from keras.models import model_from_json\n",
        "# serialize model to json\n",
        "json_model = model.to_json()\n",
        "#save the model architecture to JSON file\n",
        "with open('fashionmnist_model.json', 'w') as json_file:\n",
        "    json_file.write(json_model)\n",
        "#saving the weights of the model\n",
        "model.save_weights('thisis_weights.h5')"
      ],
      "metadata": {
        "id": "upF3FfVFemRp"
      },
      "id": "upF3FfVFemRp",
      "execution_count": null,
      "outputs": []
    },
    {
      "cell_type": "code",
      "source": [
        "#Reading the model from JSON file\n",
        "with open('/content/drive/MyDrive/Toxic Classification/fashionmnist_model.json', 'r') as json_file:\n",
        "    json_savedModel= json_file.read()\n",
        "#load the model architecture\n",
        "model_j = tf.keras.models.model_from_json(json_savedModel)\n",
        "model_j.summary()"
      ],
      "metadata": {
        "colab": {
          "base_uri": "https://localhost:8080/"
        },
        "id": "j4_ztHlygZlz",
        "outputId": "6134d287-90c6-4a22-9610-2e5f6032db40"
      },
      "id": "j4_ztHlygZlz",
      "execution_count": null,
      "outputs": [
        {
          "output_type": "stream",
          "name": "stdout",
          "text": [
            "Model: \"model\"\n",
            "_________________________________________________________________\n",
            " Layer (type)                Output Shape              Param #   \n",
            "=================================================================\n",
            " input_1 (InputLayer)        [(None, 200)]             0         \n",
            "                                                                 \n",
            " embedding (Embedding)       (None, 200, 128)          2560000   \n",
            "                                                                 \n",
            " gru_layer (GRU)             (None, 200, 64)           37248     \n",
            "                                                                 \n",
            " global_max_pooling1d (Globa  (None, 64)               0         \n",
            " lMaxPooling1D)                                                  \n",
            "                                                                 \n",
            " dense (Dense)               (None, 32)                2080      \n",
            "                                                                 \n",
            " dense_1 (Dense)             (None, 6)                 198       \n",
            "                                                                 \n",
            "=================================================================\n",
            "Total params: 2,599,526\n",
            "Trainable params: 2,599,526\n",
            "Non-trainable params: 0\n",
            "_________________________________________________________________\n"
          ]
        }
      ]
    },
    {
      "cell_type": "code",
      "source": [
        "model_j.load_weights('/content/drive/MyDrive/Toxic Classification/thisis_weights.h5')"
      ],
      "metadata": {
        "id": "B2pU9IR5gdya"
      },
      "id": "B2pU9IR5gdya",
      "execution_count": null,
      "outputs": []
    },
    {
      "cell_type": "code",
      "source": [
        "model_j.compile(loss='binary_crossentropy',\n",
        "                  optimizer='adam',\n",
        "                  metrics=['accuracy'])"
      ],
      "metadata": {
        "id": "c_G-4aIUgkl7"
      },
      "id": "c_G-4aIUgkl7",
      "execution_count": null,
      "outputs": []
    },
    {
      "cell_type": "code",
      "source": [
        "loss,acc = model_j.evaluate(X_test,y_test)"
      ],
      "metadata": {
        "colab": {
          "base_uri": "https://localhost:8080/"
        },
        "id": "KJf3GC3mgmff",
        "outputId": "8f7797f0-e672-4713-e8ea-054865272bd7"
      },
      "id": "KJf3GC3mgmff",
      "execution_count": null,
      "outputs": [
        {
          "output_type": "stream",
          "name": "stdout",
          "text": [
            "998/998 [==============================] - 37s 36ms/step - loss: 0.6945 - accuracy: 0.1163\n"
          ]
        }
      ]
    },
    {
      "cell_type": "markdown",
      "metadata": {
        "id": "G525HYs0bqdF"
      },
      "source": [],
      "id": "G525HYs0bqdF"
    }
  ],
  "metadata": {
    "accelerator": "GPU",
    "colab": {
      "provenance": [],
      "gpuType": "T4",
      "toc_visible": true
    },
    "kernelspec": {
      "display_name": "Python 3",
      "name": "python3"
    },
    "language_info": {
      "codemirror_mode": {
        "name": "ipython",
        "version": 3
      },
      "file_extension": ".py",
      "mimetype": "text/x-python",
      "name": "python",
      "nbconvert_exporter": "python",
      "pygments_lexer": "ipython3",
      "version": "3.10.10"
    },
    "papermill": {
      "default_parameters": {},
      "duration": 1334.653908,
      "end_time": "2023-05-03T12:08:52.355962",
      "environment_variables": {},
      "exception": null,
      "input_path": "__notebook__.ipynb",
      "output_path": "__notebook__.ipynb",
      "parameters": {},
      "start_time": "2023-05-03T11:46:37.702054",
      "version": "2.4.0"
    }
  },
  "nbformat": 4,
  "nbformat_minor": 5
}